{
 "cells": [
  {
   "cell_type": "markdown",
   "id": "fda1164e-87a7-466f-b73d-51c50194e440",
   "metadata": {},
   "source": [
    "# Preliminary Analysis\n",
    "\n",
    "Let's get familiar with our dataset, shall we? The import below requires us to preprocess the whole dataset, so it will take several minutes. "
   ]
  },
  {
   "cell_type": "code",
   "execution_count": null,
   "id": "b72eb4b3-30ed-405e-8311-1c9ac9e8dfc1",
   "metadata": {},
   "outputs": [],
   "source": [
    "from preprocessing.objects import publication_list, author_list, num_no_authors, num_no_publication"
   ]
  },
  {
   "cell_type": "code",
   "execution_count": null,
   "id": "6516b18f-d522-48c8-80a8-f93bc281fd57",
   "metadata": {},
   "outputs": [],
   "source": [
    "# Initialize lists to store the counts\n",
    "publication_counts = [0] * 66  # Use 66 to account for authors with 0 to 65 publications\n",
    "email_counts = [0] * 66  # Use 66 to account for authors with 0 to 65 emails\n",
    "\n",
    "# Iterate through the list of authors\n",
    "for author in author_list:\n",
    "    num_publications = len(author.publications)\n",
    "    num_emails = len(author.emails)\n",
    "    \n",
    "    # Update the counts based on the number of publications and emails\n",
    "    publication_counts[num_publications] += 1\n",
    "    email_counts[num_emails] += 1\n",
    "\n",
    "# Now, publication_counts and email_counts contain the histogram data"
   ]
  },
  {
   "cell_type": "code",
   "execution_count": null,
   "id": "580b2361-5ef7-4318-a3a7-2782ea24daa1",
   "metadata": {},
   "outputs": [],
   "source": [
    "(num_no_authors)"
   ]
  },
  {
   "cell_type": "code",
   "execution_count": null,
   "id": "98bea3b0-a871-4c88-a22d-dd5f68fe2e61",
   "metadata": {},
   "outputs": [],
   "source": [
    "(num_no_publication, publication_counts[0])"
   ]
  },
  {
   "cell_type": "code",
   "execution_count": null,
   "id": "79152743-f03c-4fdf-84a9-129066943213",
   "metadata": {},
   "outputs": [],
   "source": [
    "# Initialize a list to store the top 10 authors with the most publications\n",
    "top_authors = []\n",
    "\n",
    "# Iterate through the list of authors\n",
    "for author in author_list:\n",
    "    num_publications = len(author.publications)\n",
    "    \n",
    "    # Check if the current author has more publications than the authors in the top list\n",
    "    if len(top_authors) < 20 or num_publications > top_authors[-1][1]:\n",
    "        # Add the author to the list and sort it by the number of publications\n",
    "        top_authors.append((author, num_publications))\n",
    "        top_authors.sort(key=lambda x: x[1], reverse=True)\n",
    "        \n",
    "        # Keep only the top 10 authors\n",
    "        top_authors = top_authors[:20]\n",
    "\n",
    "# Now, top_authors contains the top 10 authors with the most publications\n",
    "# These results tell us that author-name disambiguation might not be too bad\n",
    "# since we would expect these to all be really common names if they weren't \n",
    "# distinct individuals\n",
    "#for i, (author, num_publications) in enumerate(top_authors, start=1):\n",
    "#    print(f\"{i}. Author: {author.full_name()}, Publications: {num_publications}\")"
   ]
  },
  {
   "cell_type": "code",
   "execution_count": null,
   "id": "b264991c-f366-42d1-a6ef-3927f4c6e85a",
   "metadata": {},
   "outputs": [],
   "source": [
    "import matplotlib.pyplot as plt\n",
    "\n",
    "# Your code for generating top_authors here\n",
    "\n",
    "# Extract the top authors and their publication counts\n",
    "top_author_names = [author.full_name() for author, num_publications in top_authors]\n",
    "top_publication_counts = [num_publications for author, num_publications in top_authors]\n",
    "\n",
    "# Create a bar plot for the top authors\n",
    "plt.figure(figsize=(8, 6))  # Adjust the figure size as needed\n",
    "plt.barh(top_author_names, top_publication_counts, color='skyblue')\n",
    "plt.xlabel('Number of Publications')\n",
    "plt.ylabel('Author Names')\n",
    "plt.title('Top 20 Authors with the Most Publications')\n",
    "\n",
    "plt.gca().invert_yaxis()  # Invert the y-axis to show the author with the most publications at the top\n",
    "plt.tight_layout()\n",
    "plt.show()"
   ]
  },
  {
   "cell_type": "code",
   "execution_count": null,
   "id": "7d092e7c-44cd-4594-b194-eca61a1d8a8a",
   "metadata": {},
   "outputs": [],
   "source": [
    "import matplotlib.pyplot as plt\n",
    "import numpy as np\n",
    "\n",
    "# Your code for generating publication_counts and email_counts here\n",
    "\n",
    "# Plot the publication histogram with a logarithmic y-axis scale\n",
    "plt.figure(figsize=(12, 6))  # Adjust the figure size as needed\n",
    "plt.subplot(1, 2, 1)  # Create a subplot for the publication histogram\n",
    "plt.bar(range(len(publication_counts)), publication_counts)\n",
    "plt.xlabel('Number of Publications')\n",
    "plt.ylabel('Number of Authors (log scale)')\n",
    "plt.yscale('log')  # Set the y-axis to logarithmic scale\n",
    "plt.title('Publication Histogram (log scale)')\n",
    "\n",
    "# Plot the email histogram with a logarithmic y-axis scale\n",
    "plt.subplot(1, 2, 2)  # Create a subplot for the email histogram\n",
    "plt.bar(range(len(email_counts)), email_counts)\n",
    "plt.xlabel('Number of Emails')\n",
    "plt.ylabel('Number of Authors (log scale)')\n",
    "plt.yscale('log')  # Set the y-axis to logarithmic scale\n",
    "plt.title('Email Histogram (log scale)')\n",
    "\n",
    "plt.tight_layout()  # Ensure proper spacing between subplots\n",
    "plt.show()"
   ]
  },
  {
   "cell_type": "code",
   "execution_count": null,
   "id": "45980e25-c611-47f8-a965-6af4ed25261e",
   "metadata": {},
   "outputs": [],
   "source": []
  }
 ],
 "metadata": {
  "kernelspec": {
   "display_name": "Python 3 (ipykernel)",
   "language": "python",
   "name": "python3"
  },
  "language_info": {
   "codemirror_mode": {
    "name": "ipython",
    "version": 3
   },
   "file_extension": ".py",
   "mimetype": "text/x-python",
   "name": "python",
   "nbconvert_exporter": "python",
   "pygments_lexer": "ipython3",
   "version": "3.8.17"
  }
 },
 "nbformat": 4,
 "nbformat_minor": 5
}
