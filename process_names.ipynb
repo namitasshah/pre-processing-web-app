{
 "cells": [
  {
   "cell_type": "markdown",
   "id": "3efb5d57-b2ba-4c9d-88ff-a1a2ab30e5d3",
   "metadata": {},
   "source": [
    "# Process Names: Get Author names from the dataset\n",
    "\n",
    "In this notebook we create three functions: `load_data`, `get_author_names_list`, and `extract_names`."
   ]
  },
  {
   "cell_type": "markdown",
   "id": "7bb8041c-e111-4000-b4f8-e1d2984d6e90",
   "metadata": {},
   "source": [
    "## Loading the Data"
   ]
  },
  {
   "cell_type": "code",
   "execution_count": null,
   "id": "4db095dc-4ecb-469a-9839-21d0978e8d75",
   "metadata": {},
   "outputs": [],
   "source": [
    "#| default_exp process_names"
   ]
  },
  {
   "cell_type": "code",
   "execution_count": 3,
   "id": "fb23f3a2-c7b6-44c5-858f-fa078caf01d0",
   "metadata": {},
   "outputs": [],
   "source": [
    "#| export\n",
    "\n",
    "import pandas as pd\n",
    "import pprint\n",
    "import re\n",
    "import warnings"
   ]
  },
  {
   "cell_type": "code",
   "execution_count": 3,
   "id": "ce352e20-5fd4-4560-8a5d-ff65d5c52502",
   "metadata": {},
   "outputs": [
    {
     "data": {
      "text/html": [
       "<div>\n",
       "<style scoped>\n",
       "    .dataframe tbody tr th:only-of-type {\n",
       "        vertical-align: middle;\n",
       "    }\n",
       "\n",
       "    .dataframe tbody tr th {\n",
       "        vertical-align: top;\n",
       "    }\n",
       "\n",
       "    .dataframe thead th {\n",
       "        text-align: right;\n",
       "    }\n",
       "</style>\n",
       "<table border=\"1\" class=\"dataframe\">\n",
       "  <thead>\n",
       "    <tr style=\"text-align: right;\">\n",
       "      <th></th>\n",
       "      <th>id</th>\n",
       "      <th>title</th>\n",
       "      <th>contact_email</th>\n",
       "      <th>contact_author_name</th>\n",
       "      <th>doi</th>\n",
       "      <th>author_names</th>\n",
       "    </tr>\n",
       "  </thead>\n",
       "  <tbody>\n",
       "    <tr>\n",
       "      <th>0</th>\n",
       "      <td>1.0</td>\n",
       "      <td>A river system modelling platform for Murray-D...</td>\n",
       "      <td>ang.yang@csiro.au</td>\n",
       "      <td>Ang Yang</td>\n",
       "      <td>10.2166/hydro.2012.153</td>\n",
       "      <td>['Geoff Podger', 'Robert Power', 'Shane Seaton...</td>\n",
       "    </tr>\n",
       "    <tr>\n",
       "      <th>1</th>\n",
       "      <td>2.0</td>\n",
       "      <td>Impact of Regulation and Network Topology on E...</td>\n",
       "      <td>lei@umd.edu</td>\n",
       "      <td>Lei Zhang</td>\n",
       "      <td>10.3141/2297-21</td>\n",
       "      <td>['Dilya Yusufzyanova', 'Lei Zhang']</td>\n",
       "    </tr>\n",
       "    <tr>\n",
       "      <th>2</th>\n",
       "      <td>3.0</td>\n",
       "      <td>Simulating Rural Environmentally and Socio-Eco...</td>\n",
       "      <td>msqalli@yahoo.com</td>\n",
       "      <td>Mehdi Saqalli</td>\n",
       "      <td>NaN</td>\n",
       "      <td>['Charles L. Bielders', 'Pierre Defourny', 'Br...</td>\n",
       "    </tr>\n",
       "    <tr>\n",
       "      <th>3</th>\n",
       "      <td>4.0</td>\n",
       "      <td>A preliminary test of Hunt's General Theory of...</td>\n",
       "      <td>tay@udayton.edu</td>\n",
       "      <td>N.S.P Tay</td>\n",
       "      <td>10.1016/j.jbusres.2004.04.005</td>\n",
       "      <td>['RF Lusch', 'NSP Tay']</td>\n",
       "    </tr>\n",
       "    <tr>\n",
       "      <th>4</th>\n",
       "      <td>5.0</td>\n",
       "      <td>Human birthweight evolution across contrasting...</td>\n",
       "      <td>fthomas@mpl.ird.fr</td>\n",
       "      <td>FrÃ©dÃ©ric Thomas</td>\n",
       "      <td>10.1111/j.1420-9101.2004.00705.x</td>\n",
       "      <td>['SP Brown', 'EV Budilova', 'JF Guegan', 'F Re...</td>\n",
       "    </tr>\n",
       "  </tbody>\n",
       "</table>\n",
       "</div>"
      ],
      "text/plain": [
       "    id                                              title       contact_email  \\\n",
       "0  1.0  A river system modelling platform for Murray-D...   ang.yang@csiro.au   \n",
       "1  2.0  Impact of Regulation and Network Topology on E...         lei@umd.edu   \n",
       "2  3.0  Simulating Rural Environmentally and Socio-Eco...   msqalli@yahoo.com   \n",
       "3  4.0  A preliminary test of Hunt's General Theory of...     tay@udayton.edu   \n",
       "4  5.0  Human birthweight evolution across contrasting...  fthomas@mpl.ird.fr   \n",
       "\n",
       "  contact_author_name                               doi  \\\n",
       "0            Ang Yang            10.2166/hydro.2012.153   \n",
       "1           Lei Zhang                   10.3141/2297-21   \n",
       "2       Mehdi Saqalli                               NaN   \n",
       "3           N.S.P Tay     10.1016/j.jbusres.2004.04.005   \n",
       "4   FrÃ©dÃ©ric Thomas  10.1111/j.1420-9101.2004.00705.x   \n",
       "\n",
       "                                        author_names  \n",
       "0  ['Geoff Podger', 'Robert Power', 'Shane Seaton...  \n",
       "1                ['Dilya Yusufzyanova', 'Lei Zhang']  \n",
       "2  ['Charles L. Bielders', 'Pierre Defourny', 'Br...  \n",
       "3                            ['RF Lusch', 'NSP Tay']  \n",
       "4  ['SP Brown', 'EV Budilova', 'JF Guegan', 'F Re...  "
      ]
     },
     "execution_count": 3,
     "metadata": {},
     "output_type": "execute_result"
    }
   ],
   "source": [
    "#| export\n",
    "\n",
    "#Reading Excel file with pandas and choosing the sheet we want to work with\n",
    "usecols = ['id', 'title', 'contact_email', 'contact_author_name', 'doi', 'author_names']\n",
    "\n",
    "df = pd.read_excel(open('Catalogdatabase-till2018b.xlsx', 'rb'), sheet_name='publication', usecols=usecols)\n",
    "\n",
    "# Practice functions with a small subset of the entire df\n",
    "df_small = df.head()\n",
    "\n",
    "#Displaying Relevant fields we'll work with\n",
    "\n",
    "df_small"
   ]
  },
  {
   "cell_type": "markdown",
   "id": "e6b9364e-e98c-4655-ba39-27050cd0b42a",
   "metadata": {},
   "source": [
    "That looks really good, but can we turn that into a function so we don't have to call that every time we want to use the dataset in the notebook?"
   ]
  },
  {
   "cell_type": "code",
   "execution_count": 12,
   "id": "bcfaa345-2051-4b11-8d43-41e9ecf3f0cf",
   "metadata": {},
   "outputs": [],
   "source": [
    "#| export\n",
    "# TODO: write a function to load the data. Create a parameter called `small` that let's us chose whether to\n",
    "# return the whole dataframe or just the head (DONE)\n",
    "\n",
    "def load_data(small=False):\n",
    "    #Reading Excel file with pandas and choosing the sheet we want to work with\n",
    "    usecols = ['id', 'title', 'contact_email', 'contact_author_name', 'doi', 'author_names']\n",
    "    \n",
    "    df = pd.read_excel(open('Catalogdatabase-till2018b.xlsx', 'rb'), sheet_name='publication', usecols=usecols)   \n",
    "    \n",
    "\n",
    "    #Small or full data frame\n",
    "    if small:\n",
    "        return df.tail()\n",
    "    else:\n",
    "        return df"
   ]
  },
  {
   "cell_type": "code",
   "execution_count": 13,
   "id": "d27fd3a7-7d4b-405c-bc8d-8d3ea2968c10",
   "metadata": {},
   "outputs": [
    {
     "data": {
      "text/html": [
       "<div>\n",
       "<style scoped>\n",
       "    .dataframe tbody tr th:only-of-type {\n",
       "        vertical-align: middle;\n",
       "    }\n",
       "\n",
       "    .dataframe tbody tr th {\n",
       "        vertical-align: top;\n",
       "    }\n",
       "\n",
       "    .dataframe thead th {\n",
       "        text-align: right;\n",
       "    }\n",
       "</style>\n",
       "<table border=\"1\" class=\"dataframe\">\n",
       "  <thead>\n",
       "    <tr style=\"text-align: right;\">\n",
       "      <th></th>\n",
       "      <th>id</th>\n",
       "      <th>citations</th>\n",
       "      <th>mod</th>\n",
       "      <th>title</th>\n",
       "      <th>abstract</th>\n",
       "      <th>short_title</th>\n",
       "      <th>contact_email</th>\n",
       "      <th>email_sent_count</th>\n",
       "      <th>contact_author_name</th>\n",
       "      <th>is_primary</th>\n",
       "      <th>...</th>\n",
       "      <th>Sponsor (United States National Aeronautics and Space Administration (NASA))</th>\n",
       "      <th>Sponsor (United States National Institutes of Health (NIH))</th>\n",
       "      <th>Sponsor (United States National Oceanic and Atmospheric Administration (NOAA))</th>\n",
       "      <th>Sponsor (United States National Science Foundation (NSF))</th>\n",
       "      <th>Sponsor (United States Office of Naval Research (ONR))</th>\n",
       "      <th>Sponsor (Wellcome Trust)</th>\n",
       "      <th>Sponsor Other</th>\n",
       "      <th>platformentioned</th>\n",
       "      <th>sponsormentioned</th>\n",
       "      <th>platform</th>\n",
       "    </tr>\n",
       "  </thead>\n",
       "  <tbody>\n",
       "    <tr>\n",
       "      <th>7497</th>\n",
       "      <td>291375.0</td>\n",
       "      <td>0.0</td>\n",
       "      <td>57.0</td>\n",
       "      <td>Modelling the evolution of periodicity in the ...</td>\n",
       "      <td>Background: Periodical cicadas (Magicicada spp...</td>\n",
       "      <td>NaN</td>\n",
       "      <td>jaakko.toivonen@alumni.helsinki.fi</td>\n",
       "      <td>0.0</td>\n",
       "      <td>Jaakko Toivonen</td>\n",
       "      <td>1.0</td>\n",
       "      <td>...</td>\n",
       "      <td>0.0</td>\n",
       "      <td>0.0</td>\n",
       "      <td>0.0</td>\n",
       "      <td>0.0</td>\n",
       "      <td>0.0</td>\n",
       "      <td>0.0</td>\n",
       "      <td>0.0</td>\n",
       "      <td>1.0</td>\n",
       "      <td>1.0</td>\n",
       "      <td>2.0</td>\n",
       "    </tr>\n",
       "    <tr>\n",
       "      <th>7498</th>\n",
       "      <td>291390.0</td>\n",
       "      <td>0.0</td>\n",
       "      <td>28.0</td>\n",
       "      <td>Rethinking Microfinance in a Dual Financial Sy...</td>\n",
       "      <td>Critics concerning the real impact of traditio...</td>\n",
       "      <td>NaN</td>\n",
       "      <td>sarabourhime@gmail.com</td>\n",
       "      <td>0.0</td>\n",
       "      <td>Sara Bourhime</td>\n",
       "      <td>1.0</td>\n",
       "      <td>...</td>\n",
       "      <td>0.0</td>\n",
       "      <td>0.0</td>\n",
       "      <td>0.0</td>\n",
       "      <td>0.0</td>\n",
       "      <td>0.0</td>\n",
       "      <td>0.0</td>\n",
       "      <td>0.0</td>\n",
       "      <td>1.0</td>\n",
       "      <td>0.0</td>\n",
       "      <td>1.0</td>\n",
       "    </tr>\n",
       "    <tr>\n",
       "      <th>7499</th>\n",
       "      <td>291464.0</td>\n",
       "      <td>0.0</td>\n",
       "      <td>60.0</td>\n",
       "      <td>The Impact of Out-of-Stocks and Supply Chain D...</td>\n",
       "      <td>In today's competitive environment, consumers ...</td>\n",
       "      <td>NaN</td>\n",
       "      <td>whipple@broad.msu.edu</td>\n",
       "      <td>0.0</td>\n",
       "      <td>Judith M. Whipple</td>\n",
       "      <td>1.0</td>\n",
       "      <td>...</td>\n",
       "      <td>0.0</td>\n",
       "      <td>0.0</td>\n",
       "      <td>0.0</td>\n",
       "      <td>0.0</td>\n",
       "      <td>0.0</td>\n",
       "      <td>0.0</td>\n",
       "      <td>0.0</td>\n",
       "      <td>0.0</td>\n",
       "      <td>0.0</td>\n",
       "      <td>0.0</td>\n",
       "    </tr>\n",
       "    <tr>\n",
       "      <th>7500</th>\n",
       "      <td>NaN</td>\n",
       "      <td>NaN</td>\n",
       "      <td>NaN</td>\n",
       "      <td>NaN</td>\n",
       "      <td>NaN</td>\n",
       "      <td>NaN</td>\n",
       "      <td>NaN</td>\n",
       "      <td>NaN</td>\n",
       "      <td>NaN</td>\n",
       "      <td>NaN</td>\n",
       "      <td>...</td>\n",
       "      <td>NaN</td>\n",
       "      <td>NaN</td>\n",
       "      <td>NaN</td>\n",
       "      <td>NaN</td>\n",
       "      <td>NaN</td>\n",
       "      <td>NaN</td>\n",
       "      <td>NaN</td>\n",
       "      <td>NaN</td>\n",
       "      <td>NaN</td>\n",
       "      <td>NaN</td>\n",
       "    </tr>\n",
       "    <tr>\n",
       "      <th>7501</th>\n",
       "      <td>NaN</td>\n",
       "      <td>NaN</td>\n",
       "      <td>NaN</td>\n",
       "      <td>NaN</td>\n",
       "      <td>NaN</td>\n",
       "      <td>NaN</td>\n",
       "      <td>NaN</td>\n",
       "      <td>NaN</td>\n",
       "      <td>NaN</td>\n",
       "      <td>NaN</td>\n",
       "      <td>...</td>\n",
       "      <td>NaN</td>\n",
       "      <td>NaN</td>\n",
       "      <td>NaN</td>\n",
       "      <td>NaN</td>\n",
       "      <td>NaN</td>\n",
       "      <td>NaN</td>\n",
       "      <td>NaN</td>\n",
       "      <td>NaN</td>\n",
       "      <td>NaN</td>\n",
       "      <td>NaN</td>\n",
       "    </tr>\n",
       "  </tbody>\n",
       "</table>\n",
       "<p>5 rows × 138 columns</p>\n",
       "</div>"
      ],
      "text/plain": [
       "            id  citations   mod  \\\n",
       "7497  291375.0        0.0  57.0   \n",
       "7498  291390.0        0.0  28.0   \n",
       "7499  291464.0        0.0  60.0   \n",
       "7500       NaN        NaN   NaN   \n",
       "7501       NaN        NaN   NaN   \n",
       "\n",
       "                                                  title  \\\n",
       "7497  Modelling the evolution of periodicity in the ...   \n",
       "7498  Rethinking Microfinance in a Dual Financial Sy...   \n",
       "7499  The Impact of Out-of-Stocks and Supply Chain D...   \n",
       "7500                                                NaN   \n",
       "7501                                                NaN   \n",
       "\n",
       "                                               abstract  short_title  \\\n",
       "7497  Background: Periodical cicadas (Magicicada spp...          NaN   \n",
       "7498  Critics concerning the real impact of traditio...          NaN   \n",
       "7499  In today's competitive environment, consumers ...          NaN   \n",
       "7500                                                NaN          NaN   \n",
       "7501                                                NaN          NaN   \n",
       "\n",
       "                           contact_email  email_sent_count  \\\n",
       "7497  jaakko.toivonen@alumni.helsinki.fi               0.0   \n",
       "7498              sarabourhime@gmail.com               0.0   \n",
       "7499               whipple@broad.msu.edu               0.0   \n",
       "7500                                 NaN               NaN   \n",
       "7501                                 NaN               NaN   \n",
       "\n",
       "     contact_author_name  is_primary  ...  \\\n",
       "7497     Jaakko Toivonen         1.0  ...   \n",
       "7498       Sara Bourhime         1.0  ...   \n",
       "7499   Judith M. Whipple         1.0  ...   \n",
       "7500                 NaN         NaN  ...   \n",
       "7501                 NaN         NaN  ...   \n",
       "\n",
       "     Sponsor (United States National Aeronautics and Space Administration (NASA))  \\\n",
       "7497                                                0.0                             \n",
       "7498                                                0.0                             \n",
       "7499                                                0.0                             \n",
       "7500                                                NaN                             \n",
       "7501                                                NaN                             \n",
       "\n",
       "      Sponsor (United States National Institutes of Health (NIH))  \\\n",
       "7497                                                0.0             \n",
       "7498                                                0.0             \n",
       "7499                                                0.0             \n",
       "7500                                                NaN             \n",
       "7501                                                NaN             \n",
       "\n",
       "      Sponsor (United States National Oceanic and Atmospheric Administration (NOAA))  \\\n",
       "7497                                                0.0                                \n",
       "7498                                                0.0                                \n",
       "7499                                                0.0                                \n",
       "7500                                                NaN                                \n",
       "7501                                                NaN                                \n",
       "\n",
       "     Sponsor (United States National Science Foundation (NSF))  \\\n",
       "7497                                                0.0          \n",
       "7498                                                0.0          \n",
       "7499                                                0.0          \n",
       "7500                                                NaN          \n",
       "7501                                                NaN          \n",
       "\n",
       "     Sponsor (United States Office of Naval Research (ONR))  \\\n",
       "7497                                                0.0       \n",
       "7498                                                0.0       \n",
       "7499                                                0.0       \n",
       "7500                                                NaN       \n",
       "7501                                                NaN       \n",
       "\n",
       "     Sponsor (Wellcome Trust) Sponsor Other platformentioned  \\\n",
       "7497                      0.0           0.0              1.0   \n",
       "7498                      0.0           0.0              1.0   \n",
       "7499                      0.0           0.0              0.0   \n",
       "7500                      NaN           NaN              NaN   \n",
       "7501                      NaN           NaN              NaN   \n",
       "\n",
       "      sponsormentioned  platform  \n",
       "7497               1.0       2.0  \n",
       "7498               0.0       1.0  \n",
       "7499               0.0       0.0  \n",
       "7500               NaN       NaN  \n",
       "7501               NaN       NaN  \n",
       "\n",
       "[5 rows x 138 columns]"
      ]
     },
     "execution_count": 13,
     "metadata": {},
     "output_type": "execute_result"
    }
   ],
   "source": [
    "load_data(small = True)"
   ]
  },
  {
   "cell_type": "code",
   "execution_count": null,
   "id": "e6a9f479-c1ff-4851-8eab-5ae3bca9de1a",
   "metadata": {},
   "outputs": [],
   "source": [
    "# get the first row\n",
    "single_publication = df_small.loc[0]\n",
    "single_publication"
   ]
  },
  {
   "cell_type": "code",
   "execution_count": null,
   "id": "c8051e18-5820-471f-bfdd-18af261a8486",
   "metadata": {},
   "outputs": [],
   "source": [
    "# get the author list from the first row\n",
    "author_names = single_publication['author_names']\n",
    "author_names"
   ]
  },
  {
   "cell_type": "code",
   "execution_count": null,
   "id": "20d25474-be97-4f16-b444-dad937f1a9e4",
   "metadata": {},
   "outputs": [],
   "source": [
    "# remove all the brackets and single quotes\n",
    "_author_names = author_names.strip(\"[]\").replace(\"'\", \"\")\n",
    "_author_names"
   ]
  },
  {
   "cell_type": "code",
   "execution_count": null,
   "id": "59e5668d-2e24-42f6-bb3d-f972283ae335",
   "metadata": {},
   "outputs": [],
   "source": [
    "# Split at ',' to get a list\n",
    "_author_names = _author_names.split(', ')\n",
    "_author_names"
   ]
  },
  {
   "cell_type": "code",
   "execution_count": null,
   "id": "59105d20-e73d-4cf3-bfb2-8d27b6e8a0aa",
   "metadata": {},
   "outputs": [],
   "source": [
    "#| export\n",
    "def get_author_names_list(author_names):\n",
    "    author_names = author_names.strip(\"[]\").replace(\"'\", \"\")\n",
    "    author_names_list = author_names.split(', ')\n",
    "    return author_names_list"
   ]
  },
  {
   "cell_type": "code",
   "execution_count": null,
   "id": "d08532b9-2c8e-419b-a04e-4445742b679f",
   "metadata": {},
   "outputs": [],
   "source": [
    "author_names = single_publication['author_names']\n",
    "author_names_list = get_author_names_list(author_names)\n",
    "author_names_list"
   ]
  },
  {
   "cell_type": "code",
   "execution_count": null,
   "id": "603de263-a157-4385-b78c-637963f3704f",
   "metadata": {},
   "outputs": [],
   "source": [
    "# grab a single author name from the list of authors\n",
    "single_author = author_names_list[3]\n",
    "single_author"
   ]
  },
  {
   "cell_type": "code",
   "execution_count": null,
   "id": "01e2e2c7-45f3-4cbb-9911-63d17548eae3",
   "metadata": {},
   "outputs": [],
   "source": [
    "## Extract the first, middle, and last name\n",
    "names = single_author.split(' ')\n",
    "first_name = names[0]\n",
    "last_name = names[-1]\n",
    "middle_name = ' '.join(names[1:-1]) if len(names) > 2 else None\n",
    "\n",
    "(last_name, first_name, middle_name)"
   ]
  },
  {
   "cell_type": "markdown",
   "id": "db3c1913-ba85-461a-b644-0207a262ea14",
   "metadata": {},
   "source": [
    "That looks good! Let's put all that logic in a function we can reuse."
   ]
  },
  {
   "cell_type": "code",
   "execution_count": null,
   "id": "5c5353d7-5ddd-4581-97b8-c402a2b32965",
   "metadata": {},
   "outputs": [],
   "source": [
    "def extract_names(full_name):\n",
    "    names = full_name.split(' ')\n",
    "    first_name = names[0]\n",
    "    last_name = names[-1]\n",
    "    middle_name = ' '.join(names[1:-1]) if len(names) > 2 else None\n",
    "    return (last_name, first_name, middle_name)"
   ]
  },
  {
   "cell_type": "code",
   "execution_count": null,
   "id": "9c8000c2-a27c-4958-b6cf-a1b6895075f2",
   "metadata": {},
   "outputs": [],
   "source": [
    "extract_names(single_author)"
   ]
  },
  {
   "cell_type": "markdown",
   "id": "594cb708-de6d-4edf-a2f2-126d9a569d82",
   "metadata": {},
   "source": [
    "Now let's try that function on an author name that has a different format."
   ]
  },
  {
   "cell_type": "code",
   "execution_count": null,
   "id": "c4e957f3-199c-4f92-a23d-453f5237b8d1",
   "metadata": {},
   "outputs": [],
   "source": [
    "first_author_in_fourth_pub = get_author_names_list(df_small.loc[4]['author_names'])[0]\n",
    "first_author_in_fourth_pub"
   ]
  },
  {
   "cell_type": "code",
   "execution_count": null,
   "id": "4a2089b6-e870-4130-8eaa-915da1289210",
   "metadata": {},
   "outputs": [],
   "source": [
    "extract_names(first_author_in_fourth_pub)"
   ]
  },
  {
   "cell_type": "markdown",
   "id": "c1c3033a-6100-4192-a09e-10eaa5468948",
   "metadata": {},
   "source": [
    "That didn't really do it. Let's try again."
   ]
  },
  {
   "cell_type": "code",
   "execution_count": null,
   "id": "4889bb5b-e2ed-439f-b9aa-55f2cc2f7f45",
   "metadata": {},
   "outputs": [],
   "source": [
    "def extract_names(full_name):\n",
    "    names = full_name.split()\n",
    "    first_name = names[0][0]\n",
    "    middle_name = names[0][1:] if len(names[0]) > 1 else None\n",
    "    last_name = names[-1]\n",
    "    return (last_name, first_name, middle_name)"
   ]
  },
  {
   "cell_type": "code",
   "execution_count": null,
   "id": "19bca5dc-0c17-47da-b0ef-947c3eeeab21",
   "metadata": {},
   "outputs": [],
   "source": [
    "extract_names(first_author_in_fourth_pub)"
   ]
  },
  {
   "cell_type": "markdown",
   "id": "0332dea0-1d4b-40ea-8237-060d50900b43",
   "metadata": {},
   "source": [
    "Much better! What about Ang Yang? "
   ]
  },
  {
   "cell_type": "code",
   "execution_count": null,
   "id": "04df486f-c740-44ca-bb52-bd94c29ff28a",
   "metadata": {},
   "outputs": [],
   "source": [
    "extract_names(single_author)"
   ]
  },
  {
   "cell_type": "markdown",
   "id": "fc7faa0b-f7d9-42b8-a1ff-b6d8ac1d896d",
   "metadata": {},
   "source": [
    "Not exactly. Try writing a function that works for both cases. Let's write some test cases to check against every time we iterate on the function we come up with. We will do this with `assert` statements, which are this simplest way to do unit testing. The code below will throw an error if the code after the `assert` keyword returns False. Let's try the 'SP Brown' example first since we know it's working. "
   ]
  },
  {
   "cell_type": "code",
   "execution_count": null,
   "id": "b6a3b9c8-aa4f-4ac1-8258-154fe796082b",
   "metadata": {},
   "outputs": [],
   "source": [
    "assert extract_names('SP Brown') == ('Brown', 'S', 'P'), \"The extract_names function isn't working as expected. Run extract_names('SP Brown') in it's own cell to see what happened!\""
   ]
  },
  {
   "cell_type": "markdown",
   "id": "81430390-1870-4310-aa70-d949750e83f6",
   "metadata": {},
   "source": [
    "Okay great it ran as expected! Now let's try an assert statement on something that doesn't run as expected. It will throw an error with a message that matches the string to the right of the assert statement (just after the last comma)."
   ]
  },
  {
   "cell_type": "code",
   "execution_count": null,
   "id": "8c45c25a-ad2b-471f-a16a-7beb0901d859",
   "metadata": {},
   "outputs": [],
   "source": [
    "assert extract_names('Ang Yang') == ('Yang', 'Ang', None), \"The extract_names function isn't working as expected. Run extract_names('Ang Yang') in it's own cell to see what happened!\""
   ]
  },
  {
   "cell_type": "markdown",
   "id": "485b4c97-33e8-46df-b067-7240070ed915",
   "metadata": {},
   "source": [
    "Okay! Now we know how to write assert stamements to check our code ever time we make a small change! That's awesome because it means we don't have to go through all those cells before to change our workflow a little and try another name. Instead, we can just make some up!"
   ]
  },
  {
   "cell_type": "code",
   "execution_count": null,
   "id": "15e76c42-18e5-4008-8331-4c86a07df825",
   "metadata": {},
   "outputs": [],
   "source": [
    "\"\"\"\n",
    "# TODO: make sure this function works for the SP Brown and Ang Yang cases DONE \n",
    "def extract_names(full_name):\n",
    "    # Check for any name with first two capital letters\n",
    "    pattern_first_two_capital = re.compile(r'^([A-Z])([A-Z])\\s+(.*)$')\n",
    "    match_first_two_capital = pattern_first_two_capital.match(full_name)\n",
    "\n",
    "    if match_first_two_capital:\n",
    "        first_name = match_first_two_capital.group(1)\n",
    "        middle_name = match_first_two_capital.group(2)\n",
    "        last_name = match_first_two_capital.group(3)\n",
    "    else:\n",
    "        # Fallback to the original splitting\n",
    "        names = full_name.split(' ')\n",
    "        first_name = names[0]\n",
    "        middle_name = ' '.join(names[1:-1]) if len(names) > 2 else None\n",
    "        last_name = names[-1]\n",
    "\n",
    "    return (last_name, first_name, middle_name) # note that I changed the order here\"\"\""
   ]
  },
  {
   "cell_type": "code",
   "execution_count": null,
   "id": "35337f32-2412-4669-b39f-6b9f0379a723",
   "metadata": {},
   "outputs": [],
   "source": [
    "assert extract_names('SP Brown') == ('Brown', 'S', 'P')\n",
    "assert extract_names('Ang Yang') == ('Yang', 'Ang', None)\n",
    "assert extract_names('Ang F Yang') == ('Yang', 'Ang', 'F')"
   ]
  },
  {
   "cell_type": "markdown",
   "id": "01a8d642-6794-46e6-aa2f-cd48d6f7e564",
   "metadata": {},
   "source": [
    "That looks great! But it still doesn't account for a lot of the funny edge cases we need to expect. Let's make sure that multiple middle names or initials are accounted for. Let's expand on the `extract_names` function you wrote above so that it accounts for more cases. Just below this function we will have some assert statements so you can check your work.\n",
    "\n",
    "**Note**: for this version we will need to return more middle names. Let's assume that there are never more than three middle names. "
   ]
  },
  {
   "cell_type": "code",
   "execution_count": 12,
   "id": "aff555a6-b565-416c-96f4-b39db167ae26",
   "metadata": {},
   "outputs": [
    {
     "ename": "UnboundLocalError",
     "evalue": "local variable 'middle_initials' referenced before assignment",
     "output_type": "error",
     "traceback": [
      "\u001b[0;31m---------------------------------------------------------------------------\u001b[0m",
      "\u001b[0;31mUnboundLocalError\u001b[0m                         Traceback (most recent call last)",
      "Cell \u001b[0;32mIn[12], line 33\u001b[0m\n\u001b[1;32m     30\u001b[0m     \u001b[38;5;28;01mreturn\u001b[39;00m (last_name, first_name, \u001b[38;5;241m*\u001b[39mmiddle_initials_list)\n\u001b[1;32m     32\u001b[0m \u001b[38;5;66;03m# Test cases\u001b[39;00m\n\u001b[0;32m---> 33\u001b[0m \u001b[38;5;28mprint\u001b[39m(\u001b[43mextract_names\u001b[49m\u001b[43m(\u001b[49m\u001b[38;5;124;43m'\u001b[39;49m\u001b[38;5;124;43mS LF Burnett\u001b[39;49m\u001b[38;5;124;43m'\u001b[39;49m\u001b[43m)\u001b[49m)\n",
      "Cell \u001b[0;32mIn[12], line 22\u001b[0m, in \u001b[0;36mextract_names\u001b[0;34m(full_name)\u001b[0m\n\u001b[1;32m     17\u001b[0m     first_name \u001b[38;5;241m=\u001b[39m names[\u001b[38;5;241m0\u001b[39m]\n\u001b[1;32m     19\u001b[0m     \u001b[38;5;66;03m##NO middle_initials = ''.join(names[1:-1]) if len(names) > 2 else None\u001b[39;00m\n\u001b[1;32m     20\u001b[0m \n\u001b[1;32m     21\u001b[0m \u001b[38;5;66;03m# Extract individual initials from the middle initials\u001b[39;00m\n\u001b[0;32m---> 22\u001b[0m \u001b[38;5;28;01mif\u001b[39;00m \u001b[43mmiddle_initials\u001b[49m:\n\u001b[1;32m     23\u001b[0m     middle_initials_list \u001b[38;5;241m=\u001b[39m [initial\u001b[38;5;241m.\u001b[39mupper() \u001b[38;5;28;01mfor\u001b[39;00m initial \u001b[38;5;129;01min\u001b[39;00m middle_initials]\n\u001b[1;32m     24\u001b[0m \u001b[38;5;28;01melse\u001b[39;00m:\n",
      "\u001b[0;31mUnboundLocalError\u001b[0m: local variable 'middle_initials' referenced before assignment"
     ]
    }
   ],
   "source": [
    "# TODO: copy-paste your function from above and modify it so that it accounts for new edge cases\n",
    "    # Check for any name with first two capital letters\n",
    "\n",
    "def extract_names(full_name):\n",
    "    # Check for any name with first two capital letters\n",
    "    pattern_first_two_capital = re.compile(r'^([A-Z])([A-Z])\\s+(.*)$')\n",
    "    match_first_two_capital = pattern_first_two_capital.match(full_name)\n",
    "\n",
    "    if match_first_two_capital:\n",
    "        last_name = match_first_two_capital.group(3)\n",
    "        first_name = match_first_two_capital.group(1)\n",
    "        middle_initials = match_first_two_capital.group(2)\n",
    "    else:\n",
    "        # Fallback to the original splitting\n",
    "        names = full_name.split(' ')\n",
    "        last_name = names[-1]\n",
    "        first_name = names[0]\n",
    "       \n",
    "        ##NO middle_initials = ''.join(names[1:-1]) if len(names) > 2 else None\n",
    "\n",
    "    # Extract individual initials from the middle initials\n",
    "    if middle_initials:\n",
    "        middle_initials_list = [initial.upper() for initial in middle_initials]\n",
    "    else:\n",
    "        middle_initials_list = []\n",
    "\n",
    "    while len(middle_initials_list) < 2:\n",
    "        middle_initials_list.append(None)\n",
    "\n",
    "    return (last_name, first_name, *middle_initials_list)\n",
    "\n",
    "# Test cases\n",
    "print(extract_names('S LF Burnett'))\n"
   ]
  },
  {
   "cell_type": "code",
   "execution_count": 18,
   "id": "3540460b-7fe4-44a5-81ae-0791299d092e",
   "metadata": {},
   "outputs": [],
   "source": [
    "#| export\n",
    "\n",
    "# THIS ONE!!!\n",
    "\n",
    "def extract_names(full_name):\n",
    "\n",
    "    full_name = full_name.replace('.','')\n",
    "    names = re.sub( r\"([A-Z])\", r\" \\1\", full_name).split()\n",
    "    #print(names)\n",
    "    \n",
    "    last_name = names[-1]\n",
    "    first_name = names[0]\n",
    "    \n",
    "    middle_name1 = None\n",
    "    middle_name2 = None \n",
    "    middle_name3 = None\n",
    "\n",
    "    if len(names) > 2:\n",
    "        middle_name1 = names[1]\n",
    "        if len(names) > 3:\n",
    "            middle_name2 = names[2]\n",
    "            if len(names) >4:\n",
    "                middle_name3 = names[3]\n",
    "\n",
    "    return (last_name, first_name, middle_name1, middle_name2, middle_name3)\n",
    "\n",
    "    \n",
    "#print(extract_names('Ang G.B. Burnett'))\n",
    "\n",
    "\n",
    "### Downside of the re. package is that you can't check for edge cases such as MBtt and raise a warning"
   ]
  },
  {
   "cell_type": "code",
   "execution_count": 17,
   "id": "ee246de2-3cc2-44e4-9677-50d82eb91410",
   "metadata": {},
   "outputs": [
    {
     "name": "stdout",
     "output_type": "stream",
     "text": [
      "['Ang', 'G', 'B', 'Burnett']\n"
     ]
    },
    {
     "data": {
      "text/plain": [
       "('Burnett', 'Ang', 'G', 'B', None)"
      ]
     },
     "execution_count": 17,
     "metadata": {},
     "output_type": "execute_result"
    }
   ],
   "source": [
    "extract_names('Ang G.B. Burnett')"
   ]
  },
  {
   "cell_type": "code",
   "execution_count": 14,
   "id": "ac4051f5-5470-4f8f-b8ca-4248bfd57678",
   "metadata": {},
   "outputs": [
    {
     "data": {
      "text/plain": [
       "' '"
      ]
     },
     "execution_count": 14,
     "metadata": {},
     "output_type": "execute_result"
    }
   ],
   "source": [
    "full_name = \"Ang GB Burnett\"\n",
    "\n",
    "names = re.sub( r\"([A-Z])\", r\" \\1\", full_name)\n",
    "names[0]"
   ]
  },
  {
   "cell_type": "code",
   "execution_count": 10,
   "id": "1ebe3c27-1642-4b0f-8312-aaa7fc543e05",
   "metadata": {},
   "outputs": [
    {
     "data": {
      "text/plain": [
       "'Ang G B Burnett'"
      ]
     },
     "execution_count": 10,
     "metadata": {},
     "output_type": "execute_result"
    }
   ],
   "source": [
    "str(\"Ang G B. Burnett\").replace('.','')"
   ]
  },
  {
   "cell_type": "code",
   "execution_count": 11,
   "id": "f8677dc8-f497-4faa-bff1-6d5555ffe09e",
   "metadata": {},
   "outputs": [
    {
     "name": "stdout",
     "output_type": "stream",
     "text": [
      "['Ang', 'G', 'B', 'Yang']\n",
      "GB\n"
     ]
    }
   ],
   "source": [
    "full_name = \"Ang G B Yang\"\n",
    "\n",
    "names = full_name.split(' ')\n",
    "print(names)\n",
    "last_name = names[-1]\n",
    "\n",
    "first_name = names[0]\n",
    "\n",
    "middle_initials = ''.join(names[1:-1]) # if len(names) > 2 else None\n",
    "print(middle_initials)"
   ]
  },
  {
   "cell_type": "code",
   "execution_count": null,
   "id": "90459039-0e56-47b7-9501-45bc4c435c3b",
   "metadata": {},
   "outputs": [],
   "source": []
  },
  {
   "cell_type": "code",
   "execution_count": null,
   "id": "52db3370-969e-4755-945e-0150b293ea7c",
   "metadata": {},
   "outputs": [],
   "source": [
    "assert extract_names('SP Brown') == ('Brown', 'S', 'P', None, None)\n",
    "assert extract_names('Ang Yang') == ('Yang', 'Ang', None, None, None)\n",
    "assert extract_names('RBBF Burnett') == ('Burnett', 'R', 'B', 'B', 'F')\n",
    "assert extract_names('Rebecca BB Burnett') == ('Burnett', 'Rebecca', 'B', 'B', None)"
   ]
  },
  {
   "cell_type": "code",
   "execution_count": null,
   "id": "21ebf95c-4534-49de-ad9d-58cf6ea60b5e",
   "metadata": {},
   "outputs": [],
   "source": [
    "# TODO: create some of your own assert statements to check funny edge cases\n",
    "assert extract_names('Brown P. Brown') == ('Brown', 'Brown', 'P', 'P', None)\n",
    "with warnings.catch_warnings(record = True) as w:\n",
    "    extract_names('SMiddle Last')\n",
    "    assert len(w) > 1"
   ]
  },
  {
   "cell_type": "markdown",
   "id": "af4188d5-10e1-46ea-96aa-56792985c8e2",
   "metadata": {},
   "source": [
    "Nice! Now let's use that return value to create a new Author object."
   ]
  },
  {
   "cell_type": "markdown",
   "id": "e64cf090-b5ba-4c14-b6be-a9c6ec3861bb",
   "metadata": {},
   "source": [
    "## Review\n",
    "\n",
    "Let's put everything we did all together."
   ]
  },
  {
   "cell_type": "code",
   "execution_count": null,
   "id": "4549e505-9962-4aff-8c72-feaa6ae2c638",
   "metadata": {},
   "outputs": [],
   "source": [
    "single_publication = df.loc[0]\n",
    "single_publication"
   ]
  },
  {
   "cell_type": "code",
   "execution_count": null,
   "id": "8cda7c79-6ed0-41d0-b1f7-bffc7a327f77",
   "metadata": {},
   "outputs": [],
   "source": [
    "author_names = single_publication['author_names']\n",
    "author_names"
   ]
  },
  {
   "cell_type": "code",
   "execution_count": null,
   "id": "8a9bc963-e46c-4c7b-817e-bca1bdf429c8",
   "metadata": {},
   "outputs": [],
   "source": [
    "author_names_list = get_author_names_list(author_names)\n",
    "author_names_list"
   ]
  },
  {
   "cell_type": "code",
   "execution_count": null,
   "id": "c72a6c0c-7c9d-4537-9a15-a99f6643bc5a",
   "metadata": {},
   "outputs": [],
   "source": [
    "first_author = author_names_list[0]"
   ]
  },
  {
   "cell_type": "code",
   "execution_count": null,
   "id": "5d715226-f8ae-4334-b9a7-6b0f4d70e43d",
   "metadata": {},
   "outputs": [],
   "source": [
    "last, first, middle, middle2, middle3 = extract_names(first_author)\n",
    "(last, first, middle)"
   ]
  },
  {
   "cell_type": "code",
   "execution_count": 1,
   "id": "7e226d3b-d477-49bb-b38f-c8e40df64315",
   "metadata": {},
   "outputs": [],
   "source": [
    "# TODO: when you are all finished...\n",
    "# 1. Restart kernel and clear all outputs\n",
    "# 2. save this notebook\n",
    "# 3. Run this cell\n",
    "\n",
    "from nbdev.export import nb_export\n",
    "nb_export('process_names.ipynb', 'preprocessing')"
   ]
  },
  {
   "cell_type": "code",
   "execution_count": null,
   "id": "31b09b2e-04d9-4d11-80f8-b582a1c92f8b",
   "metadata": {},
   "outputs": [],
   "source": []
  },
  {
   "cell_type": "code",
   "execution_count": null,
   "id": "5c26a522-0f0c-45bb-96d8-35964decc40a",
   "metadata": {},
   "outputs": [],
   "source": []
  }
 ],
 "metadata": {
  "kernelspec": {
   "display_name": "Python 3 (ipykernel)",
   "language": "python",
   "name": "python3"
  },
  "language_info": {
   "codemirror_mode": {
    "name": "ipython",
    "version": 3
   },
   "file_extension": ".py",
   "mimetype": "text/x-python",
   "name": "python",
   "nbconvert_exporter": "python",
   "pygments_lexer": "ipython3",
   "version": "3.8.17"
  }
 },
 "nbformat": 4,
 "nbformat_minor": 5
}
