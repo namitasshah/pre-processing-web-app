{
 "cells": [
  {
   "cell_type": "markdown",
   "id": "3efb5d57-b2ba-4c9d-88ff-a1a2ab30e5d3",
   "metadata": {},
   "source": [
    "# Process Names: Get Author names from the dataset\n",
    "\n",
    "In this notebook we create three functions: `load_data`, `get_author_names_list`, and `extract_names`."
   ]
  },
  {
   "cell_type": "markdown",
   "id": "7bb8041c-e111-4000-b4f8-e1d2984d6e90",
   "metadata": {},
   "source": [
    "## Loading the Data"
   ]
  },
  {
   "cell_type": "code",
   "execution_count": null,
   "id": "4db095dc-4ecb-469a-9839-21d0978e8d75",
   "metadata": {},
   "outputs": [],
   "source": [
    "#| default_exp process_names"
   ]
  },
  {
   "cell_type": "code",
   "execution_count": null,
   "id": "fb23f3a2-c7b6-44c5-858f-fa078caf01d0",
   "metadata": {},
   "outputs": [],
   "source": [
    "#| export\n",
    "\n",
    "import pandas as pd\n",
    "import pprint\n",
    "import re"
   ]
  },
  {
   "cell_type": "code",
   "execution_count": null,
   "id": "ce352e20-5fd4-4560-8a5d-ff65d5c52502",
   "metadata": {},
   "outputs": [],
   "source": [
    "#| export\n",
    "\n",
    "#Reading Excel file with pandas and choosing the sheet we want to work with\n",
    "usecols = ['id', 'title', 'contact_email', 'contact_author_name', 'doi', 'author_names']\n",
    "\n",
    "df = pd.read_excel(open('Catalogdatabase-till2018b.xlsx', 'rb'), sheet_name='publication', usecols=usecols)\n",
    "\n",
    "# Practice functions with a small subset of the entire df\n",
    "df_small = df.head()\n",
    "\n",
    "#Displaying Relevant fields we'll work with\n",
    "\n",
    "df_small"
   ]
  },
  {
   "cell_type": "markdown",
   "id": "e6b9364e-e98c-4655-ba39-27050cd0b42a",
   "metadata": {},
   "source": [
    "That looks really good, but can we turn that into a function so we don't have to call that every time we want to use the dataset in the notebook?"
   ]
  },
  {
   "cell_type": "code",
   "execution_count": null,
   "id": "bcfaa345-2051-4b11-8d43-41e9ecf3f0cf",
   "metadata": {},
   "outputs": [],
   "source": [
    "#| export\n",
    "# TODO: write a function to load the data. Create a parameter called `small` that let's us chose whether to\n",
    "# return the whole dataframe or just the head\n",
    "\n",
    "def load_data(small=False):\n",
    "    return None # return the dataframe"
   ]
  },
  {
   "cell_type": "code",
   "execution_count": null,
   "id": "e6a9f479-c1ff-4851-8eab-5ae3bca9de1a",
   "metadata": {},
   "outputs": [],
   "source": [
    "# get the first row\n",
    "single_publication = df_small.loc[0]\n",
    "single_publication"
   ]
  },
  {
   "cell_type": "code",
   "execution_count": null,
   "id": "c8051e18-5820-471f-bfdd-18af261a8486",
   "metadata": {},
   "outputs": [],
   "source": [
    "# get the author list from the first row\n",
    "author_names = single_publication['author_names']\n",
    "author_names"
   ]
  },
  {
   "cell_type": "code",
   "execution_count": null,
   "id": "20d25474-be97-4f16-b444-dad937f1a9e4",
   "metadata": {},
   "outputs": [],
   "source": [
    "# remove all the brackets and single quotes\n",
    "_author_names = author_names.strip(\"[]\").replace(\"'\", \"\")\n",
    "_author_names"
   ]
  },
  {
   "cell_type": "code",
   "execution_count": null,
   "id": "59e5668d-2e24-42f6-bb3d-f972283ae335",
   "metadata": {},
   "outputs": [],
   "source": [
    "# Split at ',' to get a list\n",
    "_author_names = _author_names.split(', ')\n",
    "_author_names"
   ]
  },
  {
   "cell_type": "code",
   "execution_count": null,
   "id": "59105d20-e73d-4cf3-bfb2-8d27b6e8a0aa",
   "metadata": {},
   "outputs": [],
   "source": [
    "#| export\n",
    "def get_author_names_list(author_names):\n",
    "    author_names = author_names.strip(\"[]\").replace(\"'\", \"\")\n",
    "    author_names_list = author_names.split(', ')\n",
    "    return author_names_list"
   ]
  },
  {
   "cell_type": "code",
   "execution_count": null,
   "id": "d08532b9-2c8e-419b-a04e-4445742b679f",
   "metadata": {},
   "outputs": [],
   "source": [
    "author_names = single_publication['author_names']\n",
    "author_names_list = get_author_names_list(author_names)\n",
    "author_names_list"
   ]
  },
  {
   "cell_type": "code",
   "execution_count": null,
   "id": "603de263-a157-4385-b78c-637963f3704f",
   "metadata": {},
   "outputs": [],
   "source": [
    "# grab a single author name from the list of authors\n",
    "single_author = author_names_list[3]\n",
    "single_author"
   ]
  },
  {
   "cell_type": "code",
   "execution_count": null,
   "id": "01e2e2c7-45f3-4cbb-9911-63d17548eae3",
   "metadata": {},
   "outputs": [],
   "source": [
    "## Extract the first, middle, and last name\n",
    "names = single_author.split(' ')\n",
    "first_name = names[0]\n",
    "last_name = names[-1]\n",
    "middle_name = ' '.join(names[1:-1]) if len(names) > 2 else None\n",
    "\n",
    "(last_name, first_name, middle_name)"
   ]
  },
  {
   "cell_type": "markdown",
   "id": "db3c1913-ba85-461a-b644-0207a262ea14",
   "metadata": {},
   "source": [
    "That looks good! Let's put all that logic in a function we can reuse."
   ]
  },
  {
   "cell_type": "code",
   "execution_count": null,
   "id": "5c5353d7-5ddd-4581-97b8-c402a2b32965",
   "metadata": {},
   "outputs": [],
   "source": [
    "def extract_names(full_name):\n",
    "    names = full_name.split(' ')\n",
    "    first_name = names[0]\n",
    "    last_name = names[-1]\n",
    "    middle_name = ' '.join(names[1:-1]) if len(names) > 2 else None\n",
    "    return (last_name, first_name, middle_name)"
   ]
  },
  {
   "cell_type": "code",
   "execution_count": null,
   "id": "9c8000c2-a27c-4958-b6cf-a1b6895075f2",
   "metadata": {},
   "outputs": [],
   "source": [
    "extract_names(single_author)"
   ]
  },
  {
   "cell_type": "markdown",
   "id": "594cb708-de6d-4edf-a2f2-126d9a569d82",
   "metadata": {},
   "source": [
    "Now let's try that function on an author name that has a different format."
   ]
  },
  {
   "cell_type": "code",
   "execution_count": null,
   "id": "c4e957f3-199c-4f92-a23d-453f5237b8d1",
   "metadata": {},
   "outputs": [],
   "source": [
    "first_author_in_fourth_pub = get_author_names_list(df_small.loc[4]['author_names'])[0]\n",
    "first_author_in_fourth_pub"
   ]
  },
  {
   "cell_type": "code",
   "execution_count": null,
   "id": "4a2089b6-e870-4130-8eaa-915da1289210",
   "metadata": {},
   "outputs": [],
   "source": [
    "extract_names(first_author_in_fourth_pub)"
   ]
  },
  {
   "cell_type": "markdown",
   "id": "c1c3033a-6100-4192-a09e-10eaa5468948",
   "metadata": {},
   "source": [
    "That didn't really do it. Let's try again."
   ]
  },
  {
   "cell_type": "code",
   "execution_count": null,
   "id": "4889bb5b-e2ed-439f-b9aa-55f2cc2f7f45",
   "metadata": {},
   "outputs": [],
   "source": [
    "def extract_names(full_name):\n",
    "    names = full_name.split()\n",
    "    first_name = names[0][0]\n",
    "    middle_name = names[0][1:] if len(names[0]) > 1 else None\n",
    "    last_name = names[-1]\n",
    "    return (last_name, first_name, middle_name)"
   ]
  },
  {
   "cell_type": "code",
   "execution_count": null,
   "id": "19bca5dc-0c17-47da-b0ef-947c3eeeab21",
   "metadata": {},
   "outputs": [],
   "source": [
    "extract_names(first_author_in_fourth_pub)"
   ]
  },
  {
   "cell_type": "markdown",
   "id": "0332dea0-1d4b-40ea-8237-060d50900b43",
   "metadata": {},
   "source": [
    "Much better! What about Ang Yang? "
   ]
  },
  {
   "cell_type": "code",
   "execution_count": null,
   "id": "04df486f-c740-44ca-bb52-bd94c29ff28a",
   "metadata": {},
   "outputs": [],
   "source": [
    "extract_names(single_author)"
   ]
  },
  {
   "cell_type": "markdown",
   "id": "fc7faa0b-f7d9-42b8-a1ff-b6d8ac1d896d",
   "metadata": {},
   "source": [
    "Not exactly. Try writing a function that works for both cases. Let's write some test cases to check against every time we iterate on the function we come up with. We will do this with `assert` statements, which are this simplest way to do unit testing. The code below will throw an error if the code after the `assert` keyword returns False. Let's try the 'SP Brown' example first since we know it's working. "
   ]
  },
  {
   "cell_type": "code",
   "execution_count": null,
   "id": "b6a3b9c8-aa4f-4ac1-8258-154fe796082b",
   "metadata": {},
   "outputs": [],
   "source": [
    "assert extract_names('SP Brown') == ('Brown', 'S', 'P'), \"The extract_names function isn't working as expected. Run extract_names('SP Brown') in it's own cell to see what happened!\""
   ]
  },
  {
   "cell_type": "markdown",
   "id": "81430390-1870-4310-aa70-d949750e83f6",
   "metadata": {},
   "source": [
    "Okay great it ran as expected! Now let's try an assert statement on something that doesn't run as expected. It will throw an error with a message that matches the string to the right of the assert statement (just after the last comma)."
   ]
  },
  {
   "cell_type": "code",
   "execution_count": null,
   "id": "8c45c25a-ad2b-471f-a16a-7beb0901d859",
   "metadata": {},
   "outputs": [],
   "source": [
    "assert extract_names('Ang Yang') == ('Yang', 'Ang', None), \"The extract_names function isn't working as expected. Run extract_names('Ang Yang') in it's own cell to see what happened!\""
   ]
  },
  {
   "cell_type": "markdown",
   "id": "485b4c97-33e8-46df-b067-7240070ed915",
   "metadata": {},
   "source": [
    "Okay! Now we know how to write assert stamements to check our code ever time we make a small change! That's awesome because it means we don't have to go through all those cells before to change our workflow a little and try another name. Instead, we can just make some up!"
   ]
  },
  {
   "cell_type": "code",
   "execution_count": null,
   "id": "15e76c42-18e5-4008-8331-4c86a07df825",
   "metadata": {},
   "outputs": [],
   "source": [
    "\n",
    "# TODO: make sure this function works for the SP Brown and Ang Yang cases\n",
    "def extract_names(full_name):\n",
    "    # Check for any name with first two capital letters\n",
    "    pattern_first_two_capital = re.compile(r'^([A-Z])([A-Z])\\s+(.*)$')\n",
    "    match_first_two_capital = pattern_first_two_capital.match(full_name)\n",
    "\n",
    "    if match_first_two_capital:\n",
    "        first_name = match_first_two_capital.group(1)\n",
    "        middle_name = match_first_two_capital.group(2)\n",
    "        last_name = match_first_two_capital.group(3)\n",
    "    else:\n",
    "        # Fallback to the original splitting\n",
    "        names = full_name.split(' ')\n",
    "        first_name = names[0]\n",
    "        middle_name = ' '.join(names[1:-1]) if len(names) > 2 else None\n",
    "        last_name = names[-1]\n",
    "\n",
    "    return (last_name, first_name, middle_name) # note that I changed the order here"
   ]
  },
  {
   "cell_type": "code",
   "execution_count": null,
   "id": "35337f32-2412-4669-b39f-6b9f0379a723",
   "metadata": {},
   "outputs": [],
   "source": [
    "assert extract_names('SP Brown') == ('Brown', 'S', 'P')\n",
    "assert extract_names('Ang Yang') == ('Yang', 'Ang', None)\n",
    "assert extract_names('Ang F Yang') == ('Yang', 'Ang', 'F')"
   ]
  },
  {
   "cell_type": "markdown",
   "id": "01a8d642-6794-46e6-aa2f-cd48d6f7e564",
   "metadata": {},
   "source": [
    "That looks great! But it still doesn't account for a lot of the funny edge cases we need to expect. Let's make sure that multiple middle names or initials are accounted for. Let's expand on the `extract_names` function you wrote above so that it accounts for more cases. Just below this function we will have some assert statements so you can check your work.\n",
    "\n",
    "**Note**: for this version we will need to return more middle names. Let's assume that there are never more than three middle names. "
   ]
  },
  {
   "cell_type": "code",
   "execution_count": null,
   "id": "0abbad30-6e19-44e6-accd-0937585a76b0",
   "metadata": {},
   "outputs": [],
   "source": [
    "def extract_names(full_name):\n",
    "    pass # TODO: copy-paste your function from above and modify it so that it accounts for new edge cases"
   ]
  },
  {
   "cell_type": "code",
   "execution_count": null,
   "id": "52db3370-969e-4755-945e-0150b293ea7c",
   "metadata": {},
   "outputs": [],
   "source": [
    "assert extract_names('SP Brown') == ('Brown', 'S', 'P', None, None)\n",
    "assert extract_names('Ang Yang') == ('Yang', 'Ang', None, None, None)\n",
    "assert extract_names('RBBF Burnett') == ('Burnett', 'R', 'B', 'B', 'F')\n",
    "assert extract_names('Rebecca BB Burnett') == ('Burnett', 'Rebecca', 'B', 'B', None)"
   ]
  },
  {
   "cell_type": "code",
   "execution_count": null,
   "id": "21ebf95c-4534-49de-ad9d-58cf6ea60b5e",
   "metadata": {},
   "outputs": [],
   "source": [
    "# TODO: create some of your own assert statements to check funny edge cases"
   ]
  },
  {
   "cell_type": "markdown",
   "id": "af4188d5-10e1-46ea-96aa-56792985c8e2",
   "metadata": {},
   "source": [
    "Nice! Now let's use that return value to create a new Author object."
   ]
  },
  {
   "cell_type": "markdown",
   "id": "e64cf090-b5ba-4c14-b6be-a9c6ec3861bb",
   "metadata": {},
   "source": [
    "## Review\n",
    "\n",
    "Let's put everything we did all together."
   ]
  },
  {
   "cell_type": "code",
   "execution_count": null,
   "id": "4549e505-9962-4aff-8c72-feaa6ae2c638",
   "metadata": {},
   "outputs": [],
   "source": [
    "single_publication = df.loc[0]\n",
    "single_publication"
   ]
  },
  {
   "cell_type": "code",
   "execution_count": null,
   "id": "8cda7c79-6ed0-41d0-b1f7-bffc7a327f77",
   "metadata": {},
   "outputs": [],
   "source": [
    "author_names = single_publication['author_names']\n",
    "author_names"
   ]
  },
  {
   "cell_type": "code",
   "execution_count": null,
   "id": "8a9bc963-e46c-4c7b-817e-bca1bdf429c8",
   "metadata": {},
   "outputs": [],
   "source": [
    "author_names_list = get_author_names_list(author_names)\n",
    "author_names_list"
   ]
  },
  {
   "cell_type": "code",
   "execution_count": null,
   "id": "c72a6c0c-7c9d-4537-9a15-a99f6643bc5a",
   "metadata": {},
   "outputs": [],
   "source": [
    "first_author = author_names_list[0]"
   ]
  },
  {
   "cell_type": "code",
   "execution_count": null,
   "id": "5d715226-f8ae-4334-b9a7-6b0f4d70e43d",
   "metadata": {},
   "outputs": [],
   "source": [
    "last, first, middle, middle2, middle3 = extract_names(first_author)\n",
    "(last, first, middle)"
   ]
  },
  {
   "cell_type": "code",
   "execution_count": null,
   "id": "7e226d3b-d477-49bb-b38f-c8e40df64315",
   "metadata": {},
   "outputs": [],
   "source": [
    "# TODO: when you are all finished...\n",
    "# 1. Restart kernel and clear all outputs\n",
    "# 2. save this notebook\n",
    "# 3. Run this cell\n",
    "\n",
    "from nbdev.export import nb_export\n",
    "nb_export('process_names.ipynb', 'preprocessing')"
   ]
  }
 ],
 "metadata": {
  "kernelspec": {
   "display_name": "python3",
   "language": "python",
   "name": "python3"
  }
 },
 "nbformat": 4,
 "nbformat_minor": 5
}
