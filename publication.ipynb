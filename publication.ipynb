{
 "cells": [
  {
   "cell_type": "markdown",
   "id": "238641d8-54b0-4636-ae2e-1a69589af5c3",
   "metadata": {},
   "source": [
    "# Publication"
   ]
  },
  {
   "cell_type": "code",
   "execution_count": null,
   "id": "b88e08d6-ed35-4b9e-b751-90b7e0502955",
   "metadata": {},
   "outputs": [],
   "source": [
    "#| default_exp publication"
   ]
  },
  {
   "cell_type": "code",
   "execution_count": null,
   "id": "59fe1a2e-f8e0-48c4-a66b-cdd05c8059da",
   "metadata": {},
   "outputs": [],
   "source": [
    "from nbdev.export import nb_export\n",
    "nb_export('publication.ipynb', 'preprocessing')"
   ]
  },
  {
   "cell_type": "code",
   "execution_count": null,
   "id": "8606d41b-2311-4c55-9400-197ebfc05db4",
   "metadata": {},
   "outputs": [],
   "source": [
    "#| export\n",
    "class Publication:\n",
    "    def __init__(self, id, title, doi):\n",
    "        self.id = id\n",
    "        self.title = title\n",
    "        self.doi = doi"
   ]
  },
  {
   "cell_type": "code",
   "execution_count": null,
   "id": "73e3fbed-6ec1-41d8-9072-8efe96ec0853",
   "metadata": {},
   "outputs": [],
   "source": [
    "# TODO: load the data and pull out a single_publication"
   ]
  },
  {
   "cell_type": "code",
   "execution_count": null,
   "id": "e856b6f9-2a2e-4a83-abeb-9841aa4a30aa",
   "metadata": {},
   "outputs": [],
   "source": [
    "publication = Publication(id=single_publication['id'], title=single_publication['title'], doi=single_publication['doi'])"
   ]
  }
 ],
 "metadata": {
  "kernelspec": {
   "display_name": "python3",
   "language": "python",
   "name": "python3"
  }
 },
 "nbformat": 4,
 "nbformat_minor": 5
}
