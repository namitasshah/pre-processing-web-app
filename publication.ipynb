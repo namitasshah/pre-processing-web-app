{
 "cells": [
  {
   "cell_type": "markdown",
   "id": "238641d8-54b0-4636-ae2e-1a69589af5c3",
   "metadata": {},
   "source": [
    "# Publication"
   ]
  },
  {
   "cell_type": "code",
   "execution_count": null,
   "id": "b88e08d6-ed35-4b9e-b751-90b7e0502955",
   "metadata": {},
   "outputs": [],
   "source": [
    "#| default_exp publication"
   ]
  },
  {
   "cell_type": "code",
   "execution_count": 1,
   "id": "59fe1a2e-f8e0-48c4-a66b-cdd05c8059da",
   "metadata": {},
   "outputs": [],
   "source": [
    "from nbdev.export import nb_export\n",
    "nb_export('publication.ipynb', 'preprocessing')"
   ]
  },
  {
   "cell_type": "code",
   "execution_count": null,
   "id": "8606d41b-2311-4c55-9400-197ebfc05db4",
   "metadata": {},
   "outputs": [],
   "source": [
    "#| export\n",
    "class Publication:\n",
    "    def __init__(self, id, title, doi):\n",
    "        self.id = id\n",
    "        self.title = title\n",
    "        self.doi = doi\n",
    "\n",
    "    def __repr__(self):\n",
    "        return self.title"
   ]
  },
  {
   "cell_type": "code",
   "execution_count": null,
   "id": "1cc50a0a-55e4-47e2-88c1-a62ef88eb55f",
   "metadata": {},
   "outputs": [],
   "source": [
    "Publication(123, \"Cool\", 12)"
   ]
  },
  {
   "cell_type": "code",
   "execution_count": null,
   "id": "6f495a6d-25be-4a3c-a264-484deca45e52",
   "metadata": {},
   "outputs": [],
   "source": []
  }
 ],
 "metadata": {
  "kernelspec": {
   "display_name": "Python 3 (ipykernel)",
   "language": "python",
   "name": "python3"
  },
  "language_info": {
   "codemirror_mode": {
    "name": "ipython",
    "version": 3
   },
   "file_extension": ".py",
   "mimetype": "text/x-python",
   "name": "python",
   "nbconvert_exporter": "python",
   "pygments_lexer": "ipython3",
   "version": "3.8.17"
  }
 },
 "nbformat": 4,
 "nbformat_minor": 5
}
