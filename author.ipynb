{
 "cells": [
  {
   "cell_type": "markdown",
   "id": "f24e788b-d631-4e20-ba21-11439edd3432",
   "metadata": {},
   "source": [
    "# Author: comparing and sorting names with and without initials \n",
    "\n",
    "> Outputs: `Name` class and `Author` class\n",
    "\n",
    "## Big picture: name disambiguation\n",
    "\n",
    "We need to check if the author exists before creating a new one. This will require looking back in the dataset. To make sure this proceeds quickly, we will want to ensure that the dataset is ordered alphabetically (sort and compare dunders). Keeping this in mind, we need to be able to compare two authors that have different forms of the same name."
   ]
  },
  {
   "cell_type": "code",
   "execution_count": null,
   "id": "6cb20c2c-2b95-49c4-afb5-5ea166bfbced",
   "metadata": {},
   "outputs": [],
   "source": [
    "#| default_exp author"
   ]
  },
  {
   "cell_type": "markdown",
   "id": "5a1bec38-7f7a-4e2c-9d43-308269bcfc01",
   "metadata": {},
   "source": [
    "## Comparing Two Different Forms of the Same Name\n",
    "\n",
    "I want to determine how many authors have ambiguous names. A potential match is one that shares an identical last name and first initial. Any additional information present in the author names, like a full first name or middle initials, do not conflict with one another. Full last names and a first initial a guarenteed. Many authors have multiple middle names.\n",
    "\n",
    "To start off, we need to be able to compare full names to initials, and to be able to differentiate between the two. "
   ]
  },
  {
   "cell_type": "code",
   "execution_count": null,
   "id": "468d81a4-a092-46bb-9bb0-4b0843613514",
   "metadata": {},
   "outputs": [],
   "source": [
    "#| export \n",
    "\n",
    "import pandas as pd\n",
    "import pprint\n",
    "import bisect"
   ]
  },
  {
   "cell_type": "code",
   "execution_count": null,
   "id": "7c42e289-2ac5-4351-835f-27bb2ceda97c",
   "metadata": {},
   "outputs": [],
   "source": [
    "# TODO: import  get_author_names_list and extract_names functions from process_names.ipynb\n",
    "# Import the functions from process_names.py\n",
    "from preprocessing.process_names import get_author_names_list, extract_names"
   ]
  },
  {
   "cell_type": "code",
   "execution_count": null,
   "id": "4f2ef933-8dc5-441d-abef-69788b47265f",
   "metadata": {},
   "outputs": [],
   "source": [
    "#| export\n",
    "\n",
    "class Name(str):\n",
    "    \n",
    "    def matches(self, other):\n",
    "        return str(self) == str(other)\n",
    "        \n",
    "    def __eq__(self, other):\n",
    "        if len(self) == 0 or len(other) == 0:\n",
    "            return True\n",
    "        elif len(self) == 1:\n",
    "            if len(other) > 1:\n",
    "                return str(other[0]).__eq__(self)\n",
    "            else:\n",
    "                return str(other).__eq__(self)\n",
    "        else:\n",
    "            if len(other) == 1:\n",
    "                return str(self[0]).__eq__(other[0])\n",
    "            else:\n",
    "                return str(self).__eq__(other)\n",
    "            \n",
    "    def longest(self, other):\n",
    "        if not self == other:\n",
    "            raise Exception('cannot merge names that aren\\'t equivalent')\n",
    "        if len(other) > len(self):\n",
    "            return other\n",
    "        else:\n",
    "            return self"
   ]
  },
  {
   "cell_type": "code",
   "execution_count": null,
   "id": "23c8dd31-d683-4fbb-ba4f-e5f0cdf5d89e",
   "metadata": {},
   "outputs": [],
   "source": [
    "a = Name('a')\n",
    "b = Name('b')\n",
    "ab = Name('ab')\n",
    "bc = Name('bc')\n",
    "empty = Name('')"
   ]
  },
  {
   "cell_type": "code",
   "execution_count": null,
   "id": "7d557cb2-d0c0-4716-81ec-53e7fdf2156b",
   "metadata": {},
   "outputs": [],
   "source": [
    "assert a == a\n",
    "assert ab == a\n",
    "assert a == ab\n",
    "assert a == empty\n",
    "assert empty == a\n",
    "assert ab == empty\n",
    "assert empty == ab\n",
    "assert empty == empty\n",
    "assert not a == b\n",
    "assert not a == bc\n",
    "assert not ab == b\n",
    "assert not ab == b\n",
    "assert not ab == bc"
   ]
  },
  {
   "cell_type": "code",
   "execution_count": null,
   "id": "6166a4c1-ae30-46d3-8304-b85006a8fb3d",
   "metadata": {},
   "outputs": [],
   "source": [
    "assert (a, b, ab) == (ab, bc, ab)"
   ]
  },
  {
   "cell_type": "code",
   "execution_count": null,
   "id": "9eea9613-b903-47e4-af34-be9c676c1f35",
   "metadata": {},
   "outputs": [],
   "source": [
    "assert a.matches('a')\n",
    "assert not ab.matches('a')\n",
    "assert a.matches(a)\n",
    "assert not ab.matches(a)"
   ]
  },
  {
   "cell_type": "code",
   "execution_count": null,
   "id": "ca2aacf9-ba19-4ccd-868b-d2ea6a93434a",
   "metadata": {},
   "outputs": [],
   "source": [
    "assert a.longest(ab).matches('ab')\n",
    "assert ab.longest(a).matches('ab')"
   ]
  },
  {
   "cell_type": "code",
   "execution_count": null,
   "id": "af3e7f98-0e66-41aa-b428-7be43f51c6fc",
   "metadata": {},
   "outputs": [],
   "source": [
    "#| export\n",
    "\n",
    "class Author:\n",
    "    \n",
    "    def __init__(self, last, first, middle='', middle2='', middle3='', emails=[]):\n",
    "        self.first = Name(first)\n",
    "        self.middle = Name(middle)\n",
    "        self.middle2 = Name(middle2)\n",
    "        self.middle3 = Name(middle2)\n",
    "        self.last = Name(last)\n",
    "        self.emails = emails\n",
    "        self.publications = []\n",
    "\n",
    "    def full_name(self):\n",
    "        strings = [getattr(self, attr) for attr in ('first', 'middle', 'middle2', 'middle3', 'last') if getattr(self, attr)]\n",
    "        strings = [x for x in strings if x is not None]\n",
    "        strings = ' '.join(strings)\n",
    "        return strings\n",
    "        \n",
    "    def __repr__(self):\n",
    "        return self.full_name()\n",
    "    \n",
    "    def matches(self, other):\n",
    "        return (self.first.matches(other.first)\n",
    "            and self.middle.matches(other.middle)\n",
    "            and self.middle2.matches(other.middle2)\n",
    "            and self.middle3.matches(other.middle3)\n",
    "            and self.last.matches(other.last))\n",
    "    \n",
    "    def add_contact_author_info(self, contact_author):\n",
    "        # use the __eq__ function to make sure the author and contact_author are the same before merging them\n",
    "        assert self == contact_author, 'author and contact_author do not have the same name'\n",
    "        self.emails = self.emails + contact_author.emails\n",
    "        self.merge_names(contact_author)\n",
    "        \n",
    "    def merge_names(self, other):\n",
    "        self.first = self.first.longest(other.first)\n",
    "        self.middle = self.middle.longest(other.middle)\n",
    "        self.middle2 = self.middle2.longest(other.middle2)\n",
    "        self.middle3 = self.middle3.longest(other.middle3)\n",
    "        self.last = self.last.longest(other.last)\n",
    "        \n",
    "    def __eq__(self, other):\n",
    "        return (self.last, self.first, self.middle, self.middle2, self.middle3) == (other.last, other.first, other.middle, other.middle2, other.middle3)\n",
    "    \n",
    "    def __lt__(self, other):\n",
    "        return (self.last, self.first, self.middle, self.middle2, self.middle3) < (other.last, other.first, other.middle, other.middle2, other.middle3)\n",
    "\n",
    "    def __le__(self, other):\n",
    "        return (self.last, self.first, self.middle, self.middle2, self.middle3) <= (other.last, other.first, other.middle, other.middle2, other.middle3)\n",
    "\n",
    "    def __gt__(self, other):\n",
    "        return (self.last, self.first, self.middle, self.middle2, self.middle3) > (other.last, other.first, other.middle, other.middle2, other.middle3)\n",
    "\n",
    "    def __ge__(self, other):\n",
    "        return (self.last, self.first, self.middle, self.middle2, self.middle3) >= (other.last, other.first, other.middle, other.middle2, other.middle3)"
   ]
  },
  {
   "cell_type": "code",
   "execution_count": null,
   "id": "0292d182-edec-4aa8-9126-6467aa108ce9",
   "metadata": {},
   "outputs": [],
   "source": [
    "# Example usage:\n",
    "author0 = Author('J', 'Smith', 'S', emails=['j.smith@gmail.com'])\n",
    "author1 = Author(\"John\", \"Doe\", \"A\")\n",
    "author2 = Author(\"Jane\", \"Smith\")\n",
    "author3 = Author(\"Alice\", \"Johnson\", \"B\")\n",
    "\n",
    "assert not author1 > author2\n",
    "assert not author1 >= author2\n",
    "assert author1 < author2\n",
    "assert author1 <= author2\n",
    "\n",
    "print('Combine:')\n",
    "display(author0, author2)\n",
    "\n",
    "assert author2 == author0\n",
    "author2.add_contact_author_info(author0)\n",
    "assert author2.emails == ['j.smith@gmail.com']\n",
    "assert author2.first == 'Jane'\n",
    "assert author2.middle == 'S'\n",
    "assert author2.last == 'Smith'\n",
    "\n",
    "author2"
   ]
  },
  {
   "cell_type": "code",
   "execution_count": null,
   "id": "66d9056c-6eda-467e-9fad-e28d84829e17",
   "metadata": {},
   "outputs": [],
   "source": [
    "author4 = Author(\"J\", \"Rowling\", 'K')\n",
    "author5 = Author(\"Mark\", \"Twain\")\n",
    "author6 = Author(\"H\", \"Wells\", \"G\")\n",
    "author7 = Author(\"Agatha\", \"Christie\", \"\")\n",
    "author8 = Author(\"J\", \"Tolkien\", \"R\", \"R\")\n",
    "author9 = Author(\"Joanne\", \"Rowling\")\n",
    "author10 = Author(\"J\", \"Tolkien\")\n",
    "\n",
    "print(author4)\n",
    "print(author5)\n",
    "print(author6)\n",
    "print(author7)\n",
    "print(author8)\n",
    "print(author9)\n",
    "print(author10)"
   ]
  },
  {
   "cell_type": "code",
   "execution_count": null,
   "id": "a7dae232-3c5a-4927-84ff-2330d6a389b0",
   "metadata": {},
   "outputs": [],
   "source": [
    "(author4, author9)"
   ]
  },
  {
   "cell_type": "raw",
   "id": "95977110-759a-424d-b73f-812a8bb8ff29",
   "metadata": {},
   "source": [
    "assert author9 == author4\n",
    "assert not author9.matches(author4)"
   ]
  },
  {
   "cell_type": "code",
   "execution_count": null,
   "id": "93c30aa2-3410-4b80-9be3-f9e37480abd0",
   "metadata": {},
   "outputs": [],
   "source": [
    "# TODO: use nbdev to export this notebook to the preprocessing module - DONE\n",
    "\n",
    "from nbdev.export import nb_export\n",
    "nb_export('author.ipynb', 'preprocessing')"
   ]
  },
  {
   "cell_type": "code",
   "execution_count": null,
   "id": "207cd78b-6a7b-48a2-b48e-baf36b73d47c",
   "metadata": {},
   "outputs": [],
   "source": []
  }
 ],
 "metadata": {
  "kernelspec": {
   "display_name": "Python 3 (ipykernel)",
   "language": "python",
   "name": "python3"
  },
  "language_info": {
   "codemirror_mode": {
    "name": "ipython",
    "version": 3
   },
   "file_extension": ".py",
   "mimetype": "text/x-python",
   "name": "python",
   "nbconvert_exporter": "python",
   "pygments_lexer": "ipython3",
   "version": "3.8.17"
  }
 },
 "nbformat": 4,
 "nbformat_minor": 5
}
