{
 "cells": [
  {
   "cell_type": "markdown",
   "id": "56429d1d-0a81-47d6-920e-ca8071a15d1f",
   "metadata": {},
   "source": [
    "## (2) This data is to tackle compare_to_contact_author method (not fully working)"
   ]
  },
  {
   "cell_type": "code",
   "execution_count": 4,
   "id": "6e250378-c276-4b65-b78d-488249f764a6",
   "metadata": {},
   "outputs": [],
   "source": [
    "#Installing Pandas (BELONGS AT TOP OF EACH ITERATION)\n",
    "import pandas as pd\n",
    "\n",
    "#Reading Excel file with pandas and choosing the sheet we want to work with\n",
    "xls = pd.ExcelFile('/Users/_namitashah_/Desktop/gt/pre-processing-web-app/authorDataSet.xlsx')\n",
    "df2 = pd.read_excel(xls, 'publication')\n",
    "\n",
    "#Creating new data frame with only selected columns\n",
    "df = df2.loc[:,['id', 'title', 'contact_email', 'contact_author_name', 'doi', 'author_names']].head()"
   ]
  },
  {
   "cell_type": "code",
   "execution_count": 6,
   "id": "1e65e981-fa17-4678-8df4-1c7ad0a3da36",
   "metadata": {},
   "outputs": [
    {
     "ename": "IndexError",
     "evalue": "string index out of range",
     "output_type": "error",
     "traceback": [
      "\u001b[0;31m---------------------------------------------------------------------------\u001b[0m",
      "\u001b[0;31mIndexError\u001b[0m                                Traceback (most recent call last)",
      "Cell \u001b[0;32mIn[6], line 23\u001b[0m\n\u001b[1;32m     20\u001b[0m \u001b[38;5;66;03m# Iterate over each row in the dataset\u001b[39;00m\n\u001b[1;32m     21\u001b[0m \u001b[38;5;28;01mfor\u001b[39;00m column \u001b[38;5;129;01min\u001b[39;00m df2:\n\u001b[1;32m     22\u001b[0m     \u001b[38;5;66;03m# Get the author list from the current row and convert it into a list\u001b[39;00m\n\u001b[0;32m---> 23\u001b[0m     authors_string \u001b[38;5;241m=\u001b[39m \u001b[43mcolumn\u001b[49m\u001b[43m[\u001b[49m\u001b[38;5;241;43m4\u001b[39;49m\u001b[43m]\u001b[49m\n\u001b[1;32m     24\u001b[0m     authors_list \u001b[38;5;241m=\u001b[39m authors_string\u001b[38;5;241m.\u001b[39msplit(\u001b[38;5;124m'\u001b[39m\u001b[38;5;124m,\u001b[39m\u001b[38;5;124m'\u001b[39m)\n\u001b[1;32m     26\u001b[0m     \u001b[38;5;66;03m# Create an Author object for each author in the list and add it to new_authors\u001b[39;00m\n",
      "\u001b[0;31mIndexError\u001b[0m: string index out of range"
     ]
    }
   ],
   "source": [
    "class Author:\n",
    "    def __init__(self, first, middle, last, email=None):\n",
    "        self.first = first\n",
    "        self.middle = middle\n",
    "        self.last = last\n",
    "        self.email = email\n",
    "\n",
    "    def compare_to_contact_author(self, contact_author):\n",
    "        # Compare the contact_author information with the Author object\n",
    "        # Return True if there is a match, False otherwise\n",
    "        return (\n",
    "            self.first == contact_author.first\n",
    "            and self.middle == contact_author.middle\n",
    "            and self.last == contact_author.last\n",
    "        )\n",
    "\n",
    "# Create an empty list to hold all the new Author objects\n",
    "new_authors = []\n",
    "\n",
    "# Iterate over each row in the dataset\n",
    "for column in df2:\n",
    "    # Get the author list from the current row and convert it into a list\n",
    "    authors_string = column[4]\n",
    "    authors_list = authors_string.split(',')\n",
    "\n",
    "    # Create an Author object for each author in the list and add it to new_authors\n",
    "    for author_name in authors_list:\n",
    "        # Extract the first, middle, and last names from the author_name\n",
    "        first, middle, last = author_name.split(',')\n",
    "\n",
    "        # Create a new Author object with the extracted information\n",
    "        new_author = Author(first, middle, last)\n",
    "\n",
    "        # Check if the contact_author matches with the new_author\n",
    "        if new_author.compare_to_contact_author(contact_author):\n",
    "            # Update the name and email of the Author object\n",
    "            new_author.first = contact_author.first\n",
    "            new_author.middle = contact_author.middle\n",
    "            new_author.last = contact_author.last\n",
    "            new_author.email = contact_author.email\n",
    "\n",
    "        # Add the new_author to the list of new_authors\n",
    "        new_authors.append(new_author)\n",
    "\n",
    "# Print the list of all new Author objects\n",
    "for author in new_authors:\n",
    "    print(f\"Name: {author.first} {author.middle} {author.last}\")\n",
    "    print(f\"Email: {author.email}\")\n",
    "    print()\n",
    "\n",
    "\n",
    "##Write true if new author and contact author is a match."
   ]
  },
  {
   "cell_type": "code",
   "execution_count": null,
   "id": "1ce3f2c0-3270-4660-87d7-dd585f2c6632",
   "metadata": {},
   "outputs": [],
   "source": []
  }
 ],
 "metadata": {
  "kernelspec": {
   "display_name": "Python 3 (ipykernel)",
   "language": "python",
   "name": "python3"
  },
  "language_info": {
   "codemirror_mode": {
    "name": "ipython",
    "version": 3
   },
   "file_extension": ".py",
   "mimetype": "text/x-python",
   "name": "python",
   "nbconvert_exporter": "python",
   "pygments_lexer": "ipython3",
   "version": "3.11.3"
  }
 },
 "nbformat": 4,
 "nbformat_minor": 5
}
