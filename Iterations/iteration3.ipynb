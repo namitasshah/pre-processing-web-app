{
 "cells": [
  {
   "cell_type": "markdown",
   "id": "2b753130-e897-4139-a2e1-c86f39c7c8e5",
   "metadata": {},
   "source": [
    "## (3) Load data, compare-to-contact, compare-to-existing. Attempts to list all publications+relevant info under author. (Does not work)"
   ]
  },
  {
   "cell_type": "code",
   "execution_count": 3,
   "id": "a78e0a95-9b97-4eb0-9f83-9b5719e5dac7",
   "metadata": {},
   "outputs": [],
   "source": [
    "#Installing Pandas (BELONGS AT TOP OF EACH ITERATION)\n",
    "import pandas as pd\n",
    "\n",
    "#Reading Excel file with pandas and choosing the sheet we want to work with\n",
    "xls = pd.ExcelFile('/Users/_namitashah_/Desktop/gt/pre-processing-web-app/authorDataSet.xlsx')\n",
    "df2 = pd.read_excel(xls, 'publication')\n",
    "\n",
    "#Creating new data frame with only selected columns\n",
    "df = df2.loc[:,['id', 'title', 'contact_email', 'contact_author_name', 'doi', 'author_names']].head()"
   ]
  },
  {
   "cell_type": "code",
   "execution_count": 4,
   "id": "b2debc2c-e47c-47a6-b843-bf21ebdbb3ce",
   "metadata": {},
   "outputs": [],
   "source": [
    "class Author:\n",
    "    def __init__(self, first, middle, last, email=None):\n",
    "        self.first = first\n",
    "        self.middle = middle\n",
    "        self.last = last\n",
    "        self.email = email\n",
    "        self.publications = []\n",
    "\n",
    "    def compare_to_contact_author(self, contact_author):\n",
    "        if self.email is not None and contact_author.lower() in self.email.lower():\n",
    "            return True\n",
    "        return False\n",
    "\n",
    "    def compare_to_existing_author(self, author):\n",
    "        if (\n",
    "            self.first.lower()[0] == author.first.lower()[0]\n",
    "            and self.middle is not None\n",
    "            and author.middle is not None\n",
    "            and self.middle.lower() == author.middle.lower()\n",
    "            and self.last.lower() == author.last.lower()\n",
    "        ):\n",
    "            return True\n",
    "        return False\n",
    "\n",
    "\n",
    "# Create an author_list to hold all the Author objects\n",
    "author_list = []\n",
    "\n",
    "# Create a list that contains all the new Author objects\n",
    "new_authors = []\n",
    "\n",
    "# Process the first row and create Author objects\n",
    "first_row_authors = df.loc[3, 'author_names'].split(', ')\n",
    "contact_author = df.loc[3, 'contact_email']"
   ]
  },
  {
   "cell_type": "code",
   "execution_count": 5,
   "id": "5f3210ab-5f3f-4530-8f7b-9cb21468fc04",
   "metadata": {},
   "outputs": [],
   "source": [
    "for author_str in first_row_authors:\n",
    "    names = author_str.split(' ')\n",
    "    first_name = names[0]\n",
    "    last_name = names[-1]\n",
    "    middle_name = ' '.join(names[1:-1]) if len(names) > 2 else None\n",
    "\n",
    "    # Create an Author object and add it to author_list\n",
    "    new_author = Author(first_name, middle_name, last_name)\n",
    "    author_list.append(new_author)\n",
    "\n",
    "    # Check if the contact author matches with the newly created Author\n",
    "    if new_author.compare_to_contact_author(contact_author):\n",
    "        new_author.email = contact_author\n",
    "\n",
    "        # Update the author's name with the contact author's name\n",
    "        new_author.first = df.loc[0, 'Contact Author First Name']\n",
    "        new_author.middle = df.loc[0, 'Contact Author Middle Name']\n",
    "        new_author.last = df.loc[0, 'Contact Author Last Name']\n",
    "\n",
    "        # Add the Author object to new_authors\n",
    "        new_authors.append(new_author)"
   ]
  },
  {
   "cell_type": "code",
   "execution_count": 6,
   "id": "f25c4c2f-aef0-41ad-ba70-44ad6c66acc0",
   "metadata": {
    "scrolled": true
   },
   "outputs": [
    {
     "name": "stdout",
     "output_type": "stream",
     "text": [
      "Author: ['RF None Lusch'\n",
      "Email: None\n",
      "Publications: []\n",
      "\n",
      "Author: 'NSP None Tay']\n",
      "Email: None\n",
      "Publications: []\n",
      "\n"
     ]
    }
   ],
   "source": [
    "for author in author_list:\n",
    "    print(f\"Author: {author.first} {author.middle} {author.last}\")\n",
    "    print(f\"Email: {author.email}\")\n",
    "    print(f\"Publications: {author.publications}\")\n",
    "    print()\n"
   ]
  },
  {
   "cell_type": "code",
   "execution_count": null,
   "id": "49c4d60f-6b0b-4844-9f82-f9158b610578",
   "metadata": {},
   "outputs": [],
   "source": []
  }
 ],
 "metadata": {
  "kernelspec": {
   "display_name": "Python 3 (ipykernel)",
   "language": "python",
   "name": "python3"
  },
  "language_info": {
   "codemirror_mode": {
    "name": "ipython",
    "version": 3
   },
   "file_extension": ".py",
   "mimetype": "text/x-python",
   "name": "python",
   "nbconvert_exporter": "python",
   "pygments_lexer": "ipython3",
   "version": "3.11.3"
  }
 },
 "nbformat": 4,
 "nbformat_minor": 5
}
