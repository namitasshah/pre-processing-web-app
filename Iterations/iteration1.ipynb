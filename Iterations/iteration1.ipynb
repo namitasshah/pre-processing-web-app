{
 "cells": [
  {
   "cell_type": "markdown",
   "id": "3efb5d57-b2ba-4c9d-88ff-a1a2ab30e5d3",
   "metadata": {},
   "source": [
    "# Create list of Authors from a single publication"
   ]
  },
  {
   "cell_type": "markdown",
   "id": "7bb8041c-e111-4000-b4f8-e1d2984d6e90",
   "metadata": {},
   "source": [
    "## Loading Correct and Relevant Data"
   ]
  },
  {
   "cell_type": "code",
   "execution_count": null,
   "id": "4db095dc-4ecb-469a-9839-21d0978e8d75",
   "metadata": {},
   "outputs": [],
   "source": [
    "#| default_exp inner_loop"
   ]
  },
  {
   "cell_type": "code",
   "execution_count": null,
   "id": "d85b00af-6c2d-4438-9534-74962bf29024",
   "metadata": {},
   "outputs": [],
   "source": [
    "%xmode minimal"
   ]
  },
  {
   "cell_type": "code",
   "execution_count": null,
   "id": "7e226d3b-d477-49bb-b38f-c8e40df64315",
   "metadata": {},
   "outputs": [],
   "source": [
    "# from nbdev.export import nb_export\n",
    "# nb_export('iteration1.ipynb', '../preprocessing')"
   ]
  },
  {
   "cell_type": "code",
   "execution_count": null,
   "id": "ce352e20-5fd4-4560-8a5d-ff65d5c52502",
   "metadata": {},
   "outputs": [],
   "source": [
    "#| export\n",
    "\n",
    "import pandas as pd\n",
    "import pprint"
   ]
  },
  {
   "cell_type": "code",
   "execution_count": null,
   "id": "3ad382e1-b3db-4041-84c7-fca514216166",
   "metadata": {},
   "outputs": [],
   "source": [
    "#| export\n",
    "#Reading Excel file with pandas and choosing the sheet we want to work with\n",
    "\n",
    "usecols = ['id', 'title', 'contact_email', 'contact_author_name', 'doi', 'author_names']\n",
    "\n",
    "df = pd.read_excel(open('../Catalogdatabase-till2018b.xlsx', 'rb'), sheet_name='publication', usecols=usecols)"
   ]
  },
  {
   "cell_type": "code",
   "execution_count": null,
   "id": "666d2c28-415c-46aa-84ee-ac5b86ee0af6",
   "metadata": {},
   "outputs": [],
   "source": [
    "# Practice functions with a small subset of the entire df\n",
    "df_small = df.head()"
   ]
  },
  {
   "cell_type": "code",
   "execution_count": null,
   "id": "4817e421-fc2f-419a-89d9-4d40d2ccad4f",
   "metadata": {},
   "outputs": [],
   "source": [
    "#Displaying Relevant fields we'll work with\n",
    "\n",
    "df_small"
   ]
  },
  {
   "cell_type": "markdown",
   "id": "3feae985-e957-4a57-b0f3-ddaf0fa0a286",
   "metadata": {},
   "source": [
    "## Create an Author for the ***first*** author listed in the first publication\n",
    "\n",
    "1. Get the publication from first row\n",
    "2. Get the author list as a string\n",
    "3. Transform the string into a list\n",
    "4. Extract the first, middle, and last name to create a single author object"
   ]
  },
  {
   "cell_type": "code",
   "execution_count": null,
   "id": "e6a9f479-c1ff-4851-8eab-5ae3bca9de1a",
   "metadata": {},
   "outputs": [],
   "source": [
    "# get the first row\n",
    "single_publication = df_small.loc[0]\n",
    "single_publication"
   ]
  },
  {
   "cell_type": "code",
   "execution_count": null,
   "id": "c8051e18-5820-471f-bfdd-18af261a8486",
   "metadata": {},
   "outputs": [],
   "source": [
    "# get the author list from the first row\n",
    "author_names = single_publication['author_names']\n",
    "author_names"
   ]
  },
  {
   "cell_type": "code",
   "execution_count": null,
   "id": "20d25474-be97-4f16-b444-dad937f1a9e4",
   "metadata": {},
   "outputs": [],
   "source": [
    "# remove all the brackets and single quotes\n",
    "_author_names = author_names.strip(\"[]\").replace(\"'\", \"\")\n",
    "_author_names"
   ]
  },
  {
   "cell_type": "code",
   "execution_count": null,
   "id": "59e5668d-2e24-42f6-bb3d-f972283ae335",
   "metadata": {},
   "outputs": [],
   "source": [
    "# Split at ',' to get a list\n",
    "_author_names = author_names.split(', ')\n",
    "_author_names"
   ]
  },
  {
   "cell_type": "markdown",
   "id": "b0d91b94-a048-41a0-9fdc-30a4cda2883a",
   "metadata": {},
   "source": [
    "Okay, that looks good! Let's put all that in a function."
   ]
  },
  {
   "cell_type": "code",
   "execution_count": null,
   "id": "59105d20-e73d-4cf3-bfb2-8d27b6e8a0aa",
   "metadata": {},
   "outputs": [],
   "source": [
    "#| export\n",
    "def get_author_names_list(author_names):\n",
    "    author_names = author_names.strip(\"[]\").replace(\"'\", \"\")\n",
    "    author_names_list = author_names.split(', ')\n",
    "    return author_names_list"
   ]
  },
  {
   "cell_type": "code",
   "execution_count": null,
   "id": "d08532b9-2c8e-419b-a04e-4445742b679f",
   "metadata": {},
   "outputs": [],
   "source": [
    "author_names = single_publication['author_names']\n",
    "author_names_list = get_author_names_list(author_names)\n",
    "author_names_list"
   ]
  },
  {
   "cell_type": "code",
   "execution_count": null,
   "id": "603de263-a157-4385-b78c-637963f3704f",
   "metadata": {},
   "outputs": [],
   "source": [
    "# grab a single author name from the list of authors\n",
    "single_author = author_names_list[0]\n",
    "single_author"
   ]
  },
  {
   "cell_type": "code",
   "execution_count": null,
   "id": "01e2e2c7-45f3-4cbb-9911-63d17548eae3",
   "metadata": {},
   "outputs": [],
   "source": [
    "## Extract the first, middle, and last name\n",
    "names = single_author.split(' ')\n",
    "first_name = names[0]\n",
    "last_name = names[-1]\n",
    "middle_name = ' '.join(names[1:-1]) if len(names) > 2 else None\n",
    "\n",
    "(first_name, middle_name, last_name)"
   ]
  },
  {
   "cell_type": "markdown",
   "id": "db3c1913-ba85-461a-b644-0207a262ea14",
   "metadata": {},
   "source": [
    "That looks good! Let's put all that logic in a function we can reuse."
   ]
  },
  {
   "cell_type": "code",
   "execution_count": null,
   "id": "dbd9ed87-46f2-4ea2-aeec-30cd94e0c88f",
   "metadata": {},
   "outputs": [],
   "source": [
    "#| export\n",
    "def extract_names(full_name):\n",
    "    names = full_name.split(' ')\n",
    "    first_name = names[0]\n",
    "    last_name = names[-1]\n",
    "    middle_name = ' '.join(names[1:-1]) if len(names) > 2 else None\n",
    "\n",
    "    return (first_name, middle_name, last_name)"
   ]
  },
  {
   "cell_type": "markdown",
   "id": "d4df9034-441b-4c15-bb83-2b49d9563a49",
   "metadata": {},
   "source": [
    "Let's try running that on 'Geoff Podger' again and see if we get the same result."
   ]
  },
  {
   "cell_type": "code",
   "execution_count": null,
   "id": "e69ab39e-f0ed-42b5-a6cc-4dfbb069fe05",
   "metadata": {},
   "outputs": [],
   "source": [
    "extract_names(single_author)"
   ]
  },
  {
   "cell_type": "markdown",
   "id": "af4188d5-10e1-46ea-96aa-56792985c8e2",
   "metadata": {},
   "source": [
    "Nice! Now let's use that return value to create a new Author object."
   ]
  },
  {
   "cell_type": "code",
   "execution_count": null,
   "id": "349262d6-c017-4bb5-b3c8-ee04b9a5879d",
   "metadata": {},
   "outputs": [],
   "source": [
    "class Author:\n",
    "    def __init__(self, first, middle, last, email=None):\n",
    "        self.first = first\n",
    "        self.middle = middle\n",
    "        self.last = last\n",
    "        self.email = email\n",
    "        \n",
    "    def __repr__(self):\n",
    "        return pprint.pformat(vars(self), indent=4)"
   ]
  },
  {
   "cell_type": "markdown",
   "id": "f927e344-3a40-4fb3-a055-560c2e299694",
   "metadata": {},
   "source": [
    "Notice that our `extract_names` function returns a tuple. We can assign each index in the tuple to a separate variable like this..."
   ]
  },
  {
   "cell_type": "code",
   "execution_count": null,
   "id": "17a974ef-3257-4185-a936-fcd42164f4f7",
   "metadata": {},
   "outputs": [],
   "source": [
    "first, middle, last = extract_names(single_author)"
   ]
  },
  {
   "cell_type": "markdown",
   "id": "24e0de0a-7230-4c1c-a341-bbb337771304",
   "metadata": {},
   "source": [
    "Run the cells below just to check that they are, in fact, their own variables."
   ]
  },
  {
   "cell_type": "code",
   "execution_count": null,
   "id": "2a29b4f3-4136-4cd0-94f6-9ee3a2e48e96",
   "metadata": {},
   "outputs": [],
   "source": [
    "first"
   ]
  },
  {
   "cell_type": "code",
   "execution_count": null,
   "id": "3f55c741-9297-4721-a7bc-a41714c03f31",
   "metadata": {},
   "outputs": [],
   "source": [
    "middle"
   ]
  },
  {
   "cell_type": "code",
   "execution_count": null,
   "id": "4a0bab07-bdb4-4084-ba92-778e169eb5ec",
   "metadata": {},
   "outputs": [],
   "source": [
    "last"
   ]
  },
  {
   "cell_type": "code",
   "execution_count": null,
   "id": "446148f1-5fc8-494f-a96a-a43861bae569",
   "metadata": {},
   "outputs": [],
   "source": [
    "author = Author(first, middle, last)\n",
    "author"
   ]
  },
  {
   "cell_type": "markdown",
   "id": "e64cf090-b5ba-4c14-b6be-a9c6ec3861bb",
   "metadata": {},
   "source": [
    "## Review\n",
    "\n",
    "Let's put everything we did all together."
   ]
  },
  {
   "cell_type": "code",
   "execution_count": null,
   "id": "4549e505-9962-4aff-8c72-feaa6ae2c638",
   "metadata": {},
   "outputs": [],
   "source": [
    "single_publication = df.loc[0]\n",
    "single_publication"
   ]
  },
  {
   "cell_type": "code",
   "execution_count": null,
   "id": "8cda7c79-6ed0-41d0-b1f7-bffc7a327f77",
   "metadata": {},
   "outputs": [],
   "source": [
    "author_names = single_publication['author_names']\n",
    "author_names"
   ]
  },
  {
   "cell_type": "code",
   "execution_count": null,
   "id": "8a9bc963-e46c-4c7b-817e-bca1bdf429c8",
   "metadata": {},
   "outputs": [],
   "source": [
    "author_names_list = get_author_names_list(author_names)\n",
    "author_names_list"
   ]
  },
  {
   "cell_type": "code",
   "execution_count": null,
   "id": "c72a6c0c-7c9d-4537-9a15-a99f6643bc5a",
   "metadata": {},
   "outputs": [],
   "source": [
    "first_author = author_names_list[0]"
   ]
  },
  {
   "cell_type": "code",
   "execution_count": null,
   "id": "5d715226-f8ae-4334-b9a7-6b0f4d70e43d",
   "metadata": {},
   "outputs": [],
   "source": [
    "first, middle, last = extract_names(first_author)\n",
    "(first, middle, last)"
   ]
  },
  {
   "cell_type": "code",
   "execution_count": null,
   "id": "c02ff159-6423-4c7f-be81-473d982b7761",
   "metadata": {},
   "outputs": [],
   "source": [
    "author = Author(first, middle, last)\n",
    "author"
   ]
  },
  {
   "cell_type": "markdown",
   "id": "cbee508e-73de-4828-a7f5-00fde34f9635",
   "metadata": {},
   "source": [
    "## Create an Author for ***every*** author listed in the first publication\n",
    "\n",
    "1. Get the publication from first row\n",
    "2. Get the author list as a string\n",
    "3. Transform the string into a list\n",
    "4. Extract the first, middle, and last name to create a single author object for every author in list.\n",
    "\n",
    "All the steps are the same, except we want to turn the last step into a loop so we turn every author in the list into an author object."
   ]
  },
  {
   "cell_type": "code",
   "execution_count": null,
   "id": "ac066084-d89f-4bcd-b2c2-c3a00329754c",
   "metadata": {},
   "outputs": [],
   "source": [
    "# 1. Get the publication from first row\n",
    "single_publication = df.loc[0]\n",
    "single_publication"
   ]
  },
  {
   "cell_type": "code",
   "execution_count": null,
   "id": "a254a90f-db32-4f26-b7b6-f0bcd6f89c98",
   "metadata": {},
   "outputs": [],
   "source": [
    "# 2. Get the author list as a string\n",
    "author_names = single_publication['author_names']\n",
    "author_names"
   ]
  },
  {
   "cell_type": "code",
   "execution_count": null,
   "id": "e4f8117c-c0d4-438b-95fc-0446f0156d82",
   "metadata": {},
   "outputs": [],
   "source": [
    "# 3. Transform the string into a list\n",
    "author_names_list = get_author_names_list(author_names)\n",
    "author_names_list"
   ]
  },
  {
   "cell_type": "code",
   "execution_count": null,
   "id": "123c1d6e-96ec-4566-9626-6b68191e0d24",
   "metadata": {},
   "outputs": [],
   "source": [
    "# 4. For each author name in list, extract the first, middle, and last name to create a single author object\n",
    "\n",
    "author_list = [] # list of Author objects"
   ]
  },
  {
   "cell_type": "code",
   "execution_count": null,
   "id": "d45f5bc6-3854-426e-8feb-ef01d91ec7ac",
   "metadata": {},
   "outputs": [],
   "source": [
    "# use a loop to create an Author object for every author listed in the first publication\n",
    "\n",
    "for author_string in author_names_list:\n",
    "    # extract first, middle, and last name from each author string\n",
    "    # create an Author object and add it to author_list\n",
    "    # add the author to the author list"
   ]
  },
  {
   "cell_type": "code",
   "execution_count": null,
   "id": "153b6fe6-1e0f-4772-ba5b-192796e557f5",
   "metadata": {},
   "outputs": [],
   "source": [
    "author_list"
   ]
  },
  {
   "cell_type": "markdown",
   "id": "0e64377b-072e-4ca1-aa6a-81984fa3451c",
   "metadata": {},
   "source": [
    "## START HERE: Create an Author for every author listed in the first publication ***and*** add an email if that author is also the contact author\n",
    "\n",
    "1. Create an Author object for the contact author\n",
    "2. Write a function that compares the author to the contact author to see if they are the same\n",
    "3. If they are the same, add the contact author email to the author"
   ]
  },
  {
   "cell_type": "code",
   "execution_count": null,
   "id": "ec40c81e-4982-4830-b4c2-af69fe4a747b",
   "metadata": {},
   "outputs": [],
   "source": [
    "## Check if the contact author matches a sigle author"
   ]
  },
  {
   "cell_type": "code",
   "execution_count": null,
   "id": "8c00e3bb-bb2d-4675-88bf-da7722094898",
   "metadata": {},
   "outputs": [],
   "source": [
    "single_publication = df.loc[0]\n",
    "single_publication"
   ]
  },
  {
   "cell_type": "code",
   "execution_count": null,
   "id": "eb067d28-80a6-4bfc-877c-1c636c4490c5",
   "metadata": {},
   "outputs": [],
   "source": [
    "# get contact author name from single_publication\n",
    "contact_author_name = \n",
    "contact_author_name"
   ]
  },
  {
   "cell_type": "code",
   "execution_count": null,
   "id": "f5231863-3f51-4e8b-beec-1d043a93283f",
   "metadata": {},
   "outputs": [],
   "source": [
    "# use a function to extract the first, middle, and last names of the contact author\n",
    "contact_first, contact_middle, contact_last = \n",
    "contact_first, contact_middle, contact_last"
   ]
  },
  {
   "cell_type": "code",
   "execution_count": null,
   "id": "bbfd95b8-4e11-45ca-84e1-cc9b59c86b0e",
   "metadata": {},
   "outputs": [],
   "source": [
    "# get the contact email for the contact author\n",
    "contact_author_email =\n",
    "contact_author_email"
   ]
  },
  {
   "cell_type": "code",
   "execution_count": null,
   "id": "98ddd0ee-ca57-4758-81c2-75dd2fbcac6b",
   "metadata": {},
   "outputs": [],
   "source": [
    "# create an Author object for the contact author\n",
    "\n",
    "contact_author = \n",
    "contact_author"
   ]
  },
  {
   "cell_type": "markdown",
   "id": "b5f0d253-5b79-440e-82e8-fa2f74b1a7b7",
   "metadata": {},
   "source": [
    "Let's save the author that matchs the contact author."
   ]
  },
  {
   "cell_type": "code",
   "execution_count": null,
   "id": "d7c41e3f-d1a8-4b66-b467-55d922e9aeb8",
   "metadata": {},
   "outputs": [],
   "source": [
    "fourth_author = author_list[3]\n",
    "fourth_author"
   ]
  },
  {
   "cell_type": "code",
   "execution_count": null,
   "id": "b72da6d5-f62e-4b03-9ea6-a6f896017706",
   "metadata": {},
   "outputs": [],
   "source": [
    "fourth_author.first == contact_author.first \\\n",
    "    and fourth_author.middle == contact_author.middle \\\n",
    "    and fourth_author.last == contact_author.last"
   ]
  },
  {
   "cell_type": "markdown",
   "id": "d1309364-f9a0-4011-8762-81f4ff399fa6",
   "metadata": {},
   "source": [
    "Write a function that compares an author to the contact author and returns True if there is a match. We will call this function `__eq__`, because it is a special dunder method that allows us to compare two objects with a double equal sign (`==`). We will see how this function works when we integrate it into our class later. "
   ]
  },
  {
   "cell_type": "code",
   "execution_count": null,
   "id": "4d13b69c-fe5b-493e-b639-4198d2d95854",
   "metadata": {},
   "outputs": [],
   "source": [
    "def __eq__(author, contact_author):\n",
    "    # Compare the contact_author information with the Author object\n",
    "    # Return True if there is a match, False otherwise"
   ]
  },
  {
   "cell_type": "code",
   "execution_count": null,
   "id": "ccd95412-8d6e-47c5-813e-70ff046bd45c",
   "metadata": {},
   "outputs": [],
   "source": [
    "__eq__(fourth_author, contact_author)"
   ]
  },
  {
   "cell_type": "markdown",
   "id": "e894c0e5-c8e2-4525-9ae6-5fd70a57ba8c",
   "metadata": {},
   "source": [
    "Does it return `True`? Now let's try one we know is not a match and should return `False`. "
   ]
  },
  {
   "cell_type": "code",
   "execution_count": null,
   "id": "d67cc855-8a22-40f3-a96b-9e2dc9459a95",
   "metadata": {},
   "outputs": [],
   "source": [
    "author_list[0]"
   ]
  },
  {
   "cell_type": "code",
   "execution_count": null,
   "id": "f7cf1f37-534e-441b-9cd6-d523f3637fc2",
   "metadata": {},
   "outputs": [],
   "source": [
    "__eq__(author_list[0], contact_author)"
   ]
  },
  {
   "cell_type": "markdown",
   "id": "e048e672-1e8b-456c-9d21-6dbe5a3ef780",
   "metadata": {},
   "source": [
    "Finally, when we do find a match between an author and a contact author, we want to use the contact author information to add information to the author. We could do it like this..."
   ]
  },
  {
   "cell_type": "code",
   "execution_count": null,
   "id": "d80eba46-d1b0-442a-8e45-f554072d42f4",
   "metadata": {},
   "outputs": [],
   "source": [
    "if __eq__(fourth_author, contact_author):\n",
    "    fourth_author.email = contact_author.email"
   ]
  },
  {
   "cell_type": "markdown",
   "id": "c1ef9809-3ea0-4a18-bf5f-23880064fc7c",
   "metadata": {},
   "source": [
    "... and we can see that it works because the email is now there."
   ]
  },
  {
   "cell_type": "code",
   "execution_count": null,
   "id": "7b3dd61e-e0a4-4f59-a0fb-a3de72e70ded",
   "metadata": {},
   "outputs": [],
   "source": [
    "fourth_author"
   ]
  },
  {
   "cell_type": "markdown",
   "id": "9c6d2574-5cdd-4e57-a342-1c3a8f3db84c",
   "metadata": {},
   "source": [
    "But later down the line, we might want to also update the middle name or something as well. So we need to write a function to accomodate these future changes. Also, we want to add some validation to check that the two authors do actually share a name before we merge their information together."
   ]
  },
  {
   "cell_type": "code",
   "execution_count": null,
   "id": "7eed6934-6883-4742-a287-e0a997438377",
   "metadata": {},
   "outputs": [],
   "source": [
    "def add_contact_author_info(author, contact_author):\n",
    "    # use the __eq__ function to make sure the author and contact_author are the same before merging them\n",
    "    # if they aren't the same, raise Exception('not a match')\n",
    "    # add the contact_author email to the author"
   ]
  },
  {
   "cell_type": "markdown",
   "id": "3ae50c00-3840-429a-81eb-1b6f90c2d512",
   "metadata": {},
   "source": [
    "Does it work? Let's try it for an author that we known matchs..."
   ]
  },
  {
   "cell_type": "code",
   "execution_count": null,
   "id": "4a266056-4ecc-462f-a9e4-0cb4698b81fb",
   "metadata": {},
   "outputs": [],
   "source": [
    "add_contact_author_info(fourth_author, contact_author)"
   ]
  },
  {
   "cell_type": "code",
   "execution_count": null,
   "id": "89fd4e4c-1fa2-44a5-81cf-8a253ba7d0a8",
   "metadata": {},
   "outputs": [],
   "source": [
    "fourth_author"
   ]
  },
  {
   "cell_type": "markdown",
   "id": "6603e42f-3a30-4479-a3ea-830f9b8e441b",
   "metadata": {},
   "source": [
    "And one that doesn't. The following code should throw an error..."
   ]
  },
  {
   "cell_type": "code",
   "execution_count": null,
   "id": "48350baa-d007-42e9-9795-9c5fea124a45",
   "metadata": {},
   "outputs": [],
   "source": [
    "add_contact_author_info(author_list[0], contact_author)"
   ]
  },
  {
   "cell_type": "markdown",
   "id": "e550f00f-fd3f-4415-9b03-c2dc74e9ff5f",
   "metadata": {},
   "source": [
    "Okay! Now the only thing left to do is to put this all together in our loop. Take what you had before, but add a few lines to check if the new author and the contact author are the same. If they are, you need to add the contact author info to the new author. Use the commented code below to do it. \n",
    "\n",
    "**Don't forget to use** `__eq__` **and** `add_contact_author_info`**!**"
   ]
  },
  {
   "cell_type": "code",
   "execution_count": null,
   "id": "de7e24c3-49c8-4a29-8113-b0ed9e9e12ef",
   "metadata": {},
   "outputs": [],
   "source": [
    "for author_string in author_names_list:\n",
    "    # extract first, middle, and last name from each author string\n",
    "    # create an Author object\n",
    "    # if the new author is equal to the contact author\n",
    "    #      add the contact author info to the new author object\n",
    "    # add the author to the author list"
   ]
  },
  {
   "cell_type": "markdown",
   "id": "bc4bedac-7891-4a00-bb1a-b5d5464344c5",
   "metadata": {},
   "source": [
    "## Great job!!"
   ]
  },
  {
   "cell_type": "markdown",
   "id": "3c749e3d-62a9-4629-a670-1717113a820e",
   "metadata": {},
   "source": [
    "The next step is to run the loop above for every single row in `df_small`. If you want, you can get started on that below."
   ]
  },
  {
   "cell_type": "code",
   "execution_count": null,
   "id": "6e24841f-251a-4492-a091-3e27a4ed6d5f",
   "metadata": {},
   "outputs": [],
   "source": []
  }
 ],
 "metadata": {
  "kernelspec": {
   "display_name": "python3",
   "language": "python",
   "name": "python3"
  }
 },
 "nbformat": 4,
 "nbformat_minor": 5
}
