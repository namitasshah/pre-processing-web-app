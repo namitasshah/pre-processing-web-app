{
 "cells": [
  {
   "cell_type": "markdown",
   "id": "3efb5d57-b2ba-4c9d-88ff-a1a2ab30e5d3",
   "metadata": {},
   "source": [
    "## (1)This Iteration loads data and splits names"
   ]
  },
  {
   "cell_type": "markdown",
   "id": "7bb8041c-e111-4000-b4f8-e1d2984d6e90",
   "metadata": {},
   "source": [
    "## Loading Correct and Relevant Data"
   ]
  },
  {
   "cell_type": "code",
   "execution_count": null,
   "id": "ce352e20-5fd4-4560-8a5d-ff65d5c52502",
   "metadata": {},
   "outputs": [],
   "source": [
    "#Installing Pandas\n",
    "\n",
    "import pandas as pd\n",
    "import pprint"
   ]
  },
  {
   "cell_type": "code",
   "execution_count": null,
   "id": "3ad382e1-b3db-4041-84c7-fca514216166",
   "metadata": {},
   "outputs": [],
   "source": [
    "#Reading Excel file with pandas and choosing the sheet we want to work with\n",
    "\n",
    "df2 = pd.read_excel(open('../Catalogdatabase-till2018b.xlsx', 'rb'), sheet_name='publication')"
   ]
  },
  {
   "cell_type": "code",
   "execution_count": null,
   "id": "b86b1397-0a52-4420-b708-863b060667e3",
   "metadata": {},
   "outputs": [],
   "source": [
    "#Verifying correct data values show\n",
    "\n",
    "df2.head()"
   ]
  },
  {
   "cell_type": "code",
   "execution_count": null,
   "id": "666d2c28-415c-46aa-84ee-ac5b86ee0af6",
   "metadata": {},
   "outputs": [],
   "source": [
    "#Creating new data frame with only selected columns\n",
    "\n",
    "df = df2.loc[:,['id', 'title', 'contact_email', 'contact_author_name', 'doi', 'author_names']].head()"
   ]
  },
  {
   "cell_type": "code",
   "execution_count": null,
   "id": "4817e421-fc2f-419a-89d9-4d40d2ccad4f",
   "metadata": {},
   "outputs": [],
   "source": [
    "#Displaying Relevant fields we'll work with\n",
    "\n",
    "df"
   ]
  },
  {
   "cell_type": "code",
   "execution_count": null,
   "id": "04678b6b-9b59-4770-9cdb-c0586ac85f79",
   "metadata": {},
   "outputs": [],
   "source": [
    "# Create an author_list to hold all the Author objects\n",
    "author_list = []\n",
    "\n",
    "# Create a list that contains all the new Author objects\n",
    "new_authors = []"
   ]
  },
  {
   "cell_type": "markdown",
   "id": "3feae985-e957-4a57-b0f3-ddaf0fa0a286",
   "metadata": {},
   "source": [
    "## Create an Author for the ***first*** author listed in the first publication\n",
    "\n",
    "1. Get the publication from first row\n",
    "2. Get the author list as a string\n",
    "3. Transform the string into a list\n",
    "4. Extract the first, middle, and last name to create a single author object"
   ]
  },
  {
   "cell_type": "code",
   "execution_count": null,
   "id": "e6a9f479-c1ff-4851-8eab-5ae3bca9de1a",
   "metadata": {},
   "outputs": [],
   "source": [
    "# get the first row\n",
    "single_publication = df.loc[0]\n",
    "single_publication"
   ]
  },
  {
   "cell_type": "code",
   "execution_count": null,
   "id": "c8051e18-5820-471f-bfdd-18af261a8486",
   "metadata": {},
   "outputs": [],
   "source": [
    "# get the author list from the first row\n",
    "author_names = single_publication['author_names']\n",
    "author_names"
   ]
  },
  {
   "cell_type": "code",
   "execution_count": null,
   "id": "20d25474-be97-4f16-b444-dad937f1a9e4",
   "metadata": {},
   "outputs": [],
   "source": [
    "# remove all the brackets and single quotes\n",
    "_author_names = author_names.strip(\"[]\").replace(\"'\", \"\")\n",
    "_author_names"
   ]
  },
  {
   "cell_type": "code",
   "execution_count": null,
   "id": "59e5668d-2e24-42f6-bb3d-f972283ae335",
   "metadata": {},
   "outputs": [],
   "source": [
    "# Split at ',' to get a list\n",
    "_author_names = author_names.split(', ')\n",
    "_author_names"
   ]
  },
  {
   "cell_type": "markdown",
   "id": "b0d91b94-a048-41a0-9fdc-30a4cda2883a",
   "metadata": {},
   "source": [
    "Okay, that looks good! Let's put all that in a function."
   ]
  },
  {
   "cell_type": "code",
   "execution_count": null,
   "id": "59105d20-e73d-4cf3-bfb2-8d27b6e8a0aa",
   "metadata": {},
   "outputs": [],
   "source": [
    "def get_author_names_list(author_names):\n",
    "    author_names = author_names.strip(\"[]\").replace(\"'\", \"\")\n",
    "    author_names_list = author_names.split(',')\n",
    "    return author_names_list"
   ]
  },
  {
   "cell_type": "code",
   "execution_count": null,
   "id": "d08532b9-2c8e-419b-a04e-4445742b679f",
   "metadata": {},
   "outputs": [],
   "source": [
    "author_names = single_publication['author_names']\n",
    "author_names_list = get_author_names_list(author_names)\n",
    "author_names_list"
   ]
  },
  {
   "cell_type": "code",
   "execution_count": null,
   "id": "603de263-a157-4385-b78c-637963f3704f",
   "metadata": {},
   "outputs": [],
   "source": [
    "# grab a single author name from the list of authors\n",
    "single_author = author_names_list[0]\n",
    "single_author"
   ]
  },
  {
   "cell_type": "code",
   "execution_count": null,
   "id": "01e2e2c7-45f3-4cbb-9911-63d17548eae3",
   "metadata": {},
   "outputs": [],
   "source": [
    "## Extract the first, middle, and last name\n",
    "names = single_author.split(' ')\n",
    "first_name = names[0]\n",
    "last_name = names[-1]\n",
    "middle_name = ' '.join(names[1:-1]) if len(names) > 2 else None\n",
    "\n",
    "(first_name, middle_name, last_name)"
   ]
  },
  {
   "cell_type": "markdown",
   "id": "db3c1913-ba85-461a-b644-0207a262ea14",
   "metadata": {},
   "source": [
    "That looks good! Let's put all that logic in a function we can reuse."
   ]
  },
  {
   "cell_type": "code",
   "execution_count": null,
   "id": "dbd9ed87-46f2-4ea2-aeec-30cd94e0c88f",
   "metadata": {},
   "outputs": [],
   "source": [
    "def extract_names(full_name):\n",
    "    names = full_name.split(' ')\n",
    "    first_name = names[0]\n",
    "    last_name = names[-1]\n",
    "    middle_name = ' '.join(names[1:-1]) if len(names) > 2 else None\n",
    "\n",
    "    return (first_name, middle_name, last_name)"
   ]
  },
  {
   "cell_type": "markdown",
   "id": "d4df9034-441b-4c15-bb83-2b49d9563a49",
   "metadata": {},
   "source": [
    "Let's try running that on 'Geoff Podger' again and see if we get the same result."
   ]
  },
  {
   "cell_type": "code",
   "execution_count": null,
   "id": "e69ab39e-f0ed-42b5-a6cc-4dfbb069fe05",
   "metadata": {},
   "outputs": [],
   "source": [
    "extract_names(single_author)"
   ]
  },
  {
   "cell_type": "markdown",
   "id": "af4188d5-10e1-46ea-96aa-56792985c8e2",
   "metadata": {},
   "source": [
    "Nice! Now let's use that return value to create a new Author object."
   ]
  },
  {
   "cell_type": "code",
   "execution_count": null,
   "id": "349262d6-c017-4bb5-b3c8-ee04b9a5879d",
   "metadata": {},
   "outputs": [],
   "source": [
    "class Author:\n",
    "    def __init__(self, first, middle, last, email=None):\n",
    "        self.first = first\n",
    "        self.middle = middle\n",
    "        self.last = last\n",
    "        self.email = email\n",
    "        \n",
    "    def __repr__(self):\n",
    "        return pprint.pformat(vars(self), indent=4)"
   ]
  },
  {
   "cell_type": "markdown",
   "id": "f927e344-3a40-4fb3-a055-560c2e299694",
   "metadata": {},
   "source": [
    "Notice that our `extract_names` function returns a tuple. We can assign each index in the tuple to a separate variable like this..."
   ]
  },
  {
   "cell_type": "code",
   "execution_count": null,
   "id": "17a974ef-3257-4185-a936-fcd42164f4f7",
   "metadata": {},
   "outputs": [],
   "source": [
    "first, middle, last = extract_names(single_author)"
   ]
  },
  {
   "cell_type": "markdown",
   "id": "24e0de0a-7230-4c1c-a341-bbb337771304",
   "metadata": {},
   "source": [
    "Run the cells below just to check that they are, in fact, their own variables."
   ]
  },
  {
   "cell_type": "code",
   "execution_count": null,
   "id": "2a29b4f3-4136-4cd0-94f6-9ee3a2e48e96",
   "metadata": {},
   "outputs": [],
   "source": [
    "first"
   ]
  },
  {
   "cell_type": "code",
   "execution_count": null,
   "id": "3f55c741-9297-4721-a7bc-a41714c03f31",
   "metadata": {},
   "outputs": [],
   "source": [
    "middle"
   ]
  },
  {
   "cell_type": "code",
   "execution_count": null,
   "id": "4a0bab07-bdb4-4084-ba92-778e169eb5ec",
   "metadata": {},
   "outputs": [],
   "source": [
    "last"
   ]
  },
  {
   "cell_type": "code",
   "execution_count": null,
   "id": "446148f1-5fc8-494f-a96a-a43861bae569",
   "metadata": {},
   "outputs": [],
   "source": [
    "author = Author(first, middle, last)\n",
    "author"
   ]
  },
  {
   "cell_type": "markdown",
   "id": "e64cf090-b5ba-4c14-b6be-a9c6ec3861bb",
   "metadata": {},
   "source": [
    "## Review\n",
    "\n",
    "Let's put everything we did all together."
   ]
  },
  {
   "cell_type": "code",
   "execution_count": null,
   "id": "4549e505-9962-4aff-8c72-feaa6ae2c638",
   "metadata": {},
   "outputs": [],
   "source": [
    "single_publication = df.loc[0]\n",
    "single_publication"
   ]
  },
  {
   "cell_type": "code",
   "execution_count": null,
   "id": "8cda7c79-6ed0-41d0-b1f7-bffc7a327f77",
   "metadata": {},
   "outputs": [],
   "source": [
    "author_names = single_publication['author_names']\n",
    "author_names"
   ]
  },
  {
   "cell_type": "code",
   "execution_count": null,
   "id": "8a9bc963-e46c-4c7b-817e-bca1bdf429c8",
   "metadata": {},
   "outputs": [],
   "source": [
    "author_names_list = get_author_names_list(author_names)\n",
    "author_names_list"
   ]
  },
  {
   "cell_type": "code",
   "execution_count": null,
   "id": "c72a6c0c-7c9d-4537-9a15-a99f6643bc5a",
   "metadata": {},
   "outputs": [],
   "source": [
    "first_author = author_names_list[0]"
   ]
  },
  {
   "cell_type": "code",
   "execution_count": null,
   "id": "5d715226-f8ae-4334-b9a7-6b0f4d70e43d",
   "metadata": {},
   "outputs": [],
   "source": [
    "first, middle, last = extract_names(first_author)\n",
    "(first, middle, last)"
   ]
  },
  {
   "cell_type": "code",
   "execution_count": null,
   "id": "c02ff159-6423-4c7f-be81-473d982b7761",
   "metadata": {},
   "outputs": [],
   "source": [
    "author = Author(first, middle, last)\n",
    "author"
   ]
  },
  {
   "cell_type": "markdown",
   "id": "db0d968e-bb6f-4563-800a-e2dac8063a37",
   "metadata": {},
   "source": [
    "___\n",
    "## STOP HERE\n",
    "\n",
    "I'll probably put the code below in another notebook."
   ]
  },
  {
   "cell_type": "markdown",
   "id": "cbee508e-73de-4828-a7f5-00fde34f9635",
   "metadata": {},
   "source": [
    "## Create an Author for ***every*** author listed in the first publication"
   ]
  },
  {
   "cell_type": "code",
   "execution_count": null,
   "id": "e4f8117c-c0d4-438b-95fc-0446f0156d82",
   "metadata": {},
   "outputs": [],
   "source": [
    "author_names"
   ]
  },
  {
   "cell_type": "code",
   "execution_count": null,
   "id": "e85f2e24-e7bb-49cf-91a3-2da37ebcc4ae",
   "metadata": {},
   "outputs": [],
   "source": [
    "author_list = [] # list of Author objects"
   ]
  },
  {
   "cell_type": "code",
   "execution_count": null,
   "id": "6d01b38a-8f7c-4050-a28b-bcf03c50e098",
   "metadata": {},
   "outputs": [],
   "source": [
    "# use a loop to create an Author object for every author listed in the first publication\n",
    "for author_str in author_names:\n",
    "    print(author_str)\n",
    "    first_name, middle_name, last_name = extract_names(author_str)\n",
    "    print(first_name)\n",
    "    # Create an Author object and add it to author_list\n",
    "    new_author = Author(first_name, middle_name, last_name)\n",
    "    author_list.append(new_author)"
   ]
  },
  {
   "cell_type": "code",
   "execution_count": null,
   "id": "153b6fe6-1e0f-4772-ba5b-192796e557f5",
   "metadata": {},
   "outputs": [],
   "source": [
    "author_list"
   ]
  },
  {
   "cell_type": "code",
   "execution_count": null,
   "id": "ec40c81e-4982-4830-b4c2-af69fe4a747b",
   "metadata": {},
   "outputs": [],
   "source": [
    "## Check if the contact author matches the first author"
   ]
  },
  {
   "cell_type": "code",
   "execution_count": null,
   "id": "0bdc56e3-7f3b-4629-9d61-a15b199e8ec7",
   "metadata": {},
   "outputs": [],
   "source": [
    "def compare_to_contact_author(author, contact_author):\n",
    "    "
   ]
  },
  {
   "cell_type": "code",
   "execution_count": null,
   "id": "7fae046b-a106-4694-8043-fa9ebb427d2a",
   "metadata": {},
   "outputs": [],
   "source": [
    "if first_name == contact_author.first\n",
    "and middle_name == contact_author.middle\n",
    "and last_name == contact_author.last"
   ]
  },
  {
   "cell_type": "code",
   "execution_count": null,
   "id": "3b2a897a-d22b-42a4-ac93-f9fe25130a2c",
   "metadata": {},
   "outputs": [],
   "source": [
    "# Check if the contact author matches with the newly created Author\n",
    "    if new_author.compare_to_contact_author(contact_author):\n",
    "        new_author.email = contact_author\n",
    "\n",
    "        # Update the author's name with the contact author's name\n",
    "        new_author.first = df.loc[0, 'Contact Author First Name']\n",
    "        new_author.middle = df.loc[0, 'Contact Author Middle Name']\n",
    "        new_author.last = df.loc[0, 'Contact Author Last Name']"
   ]
  },
  {
   "cell_type": "code",
   "execution_count": null,
   "id": "c151211e-05fb-4547-8aeb-83910d3a82cd",
   "metadata": {},
   "outputs": [],
   "source": [
    "class Author:\n",
    "    def __init__(self, first, middle, last, email=None):\n",
    "        self.first = first\n",
    "        self.middle = middle\n",
    "        self.last = last\n",
    "        self.email = email\n",
    "\n",
    "    def compare_to_contact_author(self, contact_author):\n",
    "        if self.email is not None and contact_author.lower() in self.email.lower():\n",
    "            return True\n",
    "        return False\n",
    "\n",
    "\n",
    "# Create an author_list to hold all the Author objects\n",
    "author_list = []\n",
    "\n",
    "# Create a list that contains all the new Author objects\n",
    "new_authors = []\n",
    "\n",
    "# Process the first row and create Author objects\n",
    "first_row_authors = df.loc[0, 'author_names'].split(', ')\n",
    "contact_author = df.loc[0, 'contact_email']\n",
    "\n",
    "for author_str in first_row_authors:\n",
    "    names = author_str.split(' ')\n",
    "    first_name = names[0]\n",
    "    last_name = names[-1]\n",
    "    middle_name = ' '.join(names[1:-1]) if len(names) > 2 else None\n",
    "\n",
    "    # Create an Author object and add it to author_list\n",
    "    new_author = Author(first_name, middle_name, last_name)\n",
    "    author_list.append(new_author)\n",
    "\n",
    "    # Check if the contact author matches with the newly created Author\n",
    "    if new_author.compare_to_contact_author(contact_author):\n",
    "        new_author.email = contact_author\n",
    "\n",
    "        # Update the author's name with the contact author's name\n",
    "        new_author.first = df.loc[0, 'Contact Author First Name']\n",
    "        new_author.middle = df.loc[0, 'Contact Author Middle Name']\n",
    "        new_author.last = df.loc[0, 'Contact Author Last Name']\n",
    "\n",
    "        # Add the Author object to new_authors\n",
    "        new_authors.append(new_author)\n",
    "\n",
    "print(\"Author List:\")\n",
    "for author in author_list:\n",
    "    print(f\"First Name: {author.first}, Middle Name: {author.middle}, Last Name: {author.last}, Email: {author.email}\")\n",
    "\n",
    "print(\"\\nNew Authors List:\")\n",
    "for author in new_authors:\n",
    "    print(f\"First Name: {author.first}, Middle Name: {author.middle}, Last Name: {author.last}, Email: {author.email}\")\n"
   ]
  },
  {
   "cell_type": "code",
   "execution_count": null,
   "id": "27b1a443-57b8-4f3c-94c6-f586aca00033",
   "metadata": {},
   "outputs": [],
   "source": []
  }
 ],
 "metadata": {
  "kernelspec": {
   "display_name": "python3",
   "language": "python",
   "name": "python3"
  }
 },
 "nbformat": 4,
 "nbformat_minor": 5
}
