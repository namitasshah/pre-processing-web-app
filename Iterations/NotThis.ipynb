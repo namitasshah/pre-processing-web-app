{
 "cells": [
  {
   "cell_type": "markdown",
   "id": "3efb5d57-b2ba-4c9d-88ff-a1a2ab30e5d3",
   "metadata": {},
   "source": [
    "# Create list of Authors from a single publication"
   ]
  },
  {
   "cell_type": "markdown",
   "id": "7bb8041c-e111-4000-b4f8-e1d2984d6e90",
   "metadata": {},
   "source": [
    "## Loading Correct and Relevant Data"
   ]
  },
  {
   "cell_type": "code",
   "execution_count": 1,
   "id": "4db095dc-4ecb-469a-9839-21d0978e8d75",
   "metadata": {},
   "outputs": [],
   "source": [
    "#| default_exp inner_loop"
   ]
  },
  {
   "cell_type": "code",
   "execution_count": 2,
   "id": "d85b00af-6c2d-4438-9534-74962bf29024",
   "metadata": {},
   "outputs": [
    {
     "name": "stdout",
     "output_type": "stream",
     "text": [
      "Exception reporting mode: Minimal\n"
     ]
    }
   ],
   "source": [
    "%xmode minimal"
   ]
  },
  {
   "cell_type": "code",
   "execution_count": 3,
   "id": "7e226d3b-d477-49bb-b38f-c8e40df64315",
   "metadata": {},
   "outputs": [],
   "source": [
    "# from nbdev.export import nb_export\n",
    "# nb_export('iteration1.ipynb', '../preprocessing')"
   ]
  },
  {
   "cell_type": "code",
   "execution_count": 113,
   "id": "ce352e20-5fd4-4560-8a5d-ff65d5c52502",
   "metadata": {},
   "outputs": [
    {
     "data": {
      "text/html": [
       "<div>\n",
       "<style scoped>\n",
       "    .dataframe tbody tr th:only-of-type {\n",
       "        vertical-align: middle;\n",
       "    }\n",
       "\n",
       "    .dataframe tbody tr th {\n",
       "        vertical-align: top;\n",
       "    }\n",
       "\n",
       "    .dataframe thead th {\n",
       "        text-align: right;\n",
       "    }\n",
       "</style>\n",
       "<table border=\"1\" class=\"dataframe\">\n",
       "  <thead>\n",
       "    <tr style=\"text-align: right;\">\n",
       "      <th></th>\n",
       "      <th>id</th>\n",
       "      <th>title</th>\n",
       "      <th>contact_email</th>\n",
       "      <th>contact_author_name</th>\n",
       "      <th>doi</th>\n",
       "      <th>author_names</th>\n",
       "    </tr>\n",
       "  </thead>\n",
       "  <tbody>\n",
       "    <tr>\n",
       "      <th>0</th>\n",
       "      <td>1.0</td>\n",
       "      <td>A river system modelling platform for Murray-D...</td>\n",
       "      <td>ang.yang@csiro.au</td>\n",
       "      <td>Ang Yang</td>\n",
       "      <td>10.2166/hydro.2012.153</td>\n",
       "      <td>['Geoff Podger', 'Robert Power', 'Shane Seaton...</td>\n",
       "    </tr>\n",
       "    <tr>\n",
       "      <th>1</th>\n",
       "      <td>2.0</td>\n",
       "      <td>Impact of Regulation and Network Topology on E...</td>\n",
       "      <td>lei@umd.edu</td>\n",
       "      <td>Lei Zhang</td>\n",
       "      <td>10.3141/2297-21</td>\n",
       "      <td>['Dilya Yusufzyanova', 'Lei Zhang']</td>\n",
       "    </tr>\n",
       "    <tr>\n",
       "      <th>2</th>\n",
       "      <td>3.0</td>\n",
       "      <td>Simulating Rural Environmentally and Socio-Eco...</td>\n",
       "      <td>msqalli@yahoo.com</td>\n",
       "      <td>Mehdi Saqalli</td>\n",
       "      <td>NaN</td>\n",
       "      <td>['Charles L. Bielders', 'Pierre Defourny', 'Br...</td>\n",
       "    </tr>\n",
       "    <tr>\n",
       "      <th>3</th>\n",
       "      <td>4.0</td>\n",
       "      <td>A preliminary test of Hunt's General Theory of...</td>\n",
       "      <td>tay@udayton.edu</td>\n",
       "      <td>N.S.P Tay</td>\n",
       "      <td>10.1016/j.jbusres.2004.04.005</td>\n",
       "      <td>['RF Lusch', 'NSP Tay']</td>\n",
       "    </tr>\n",
       "    <tr>\n",
       "      <th>4</th>\n",
       "      <td>5.0</td>\n",
       "      <td>Human birthweight evolution across contrasting...</td>\n",
       "      <td>fthomas@mpl.ird.fr</td>\n",
       "      <td>FrÃ©dÃ©ric Thomas</td>\n",
       "      <td>10.1111/j.1420-9101.2004.00705.x</td>\n",
       "      <td>['SP Brown', 'EV Budilova', 'JF Guegan', 'F Re...</td>\n",
       "    </tr>\n",
       "    <tr>\n",
       "      <th>5</th>\n",
       "      <td>6.0</td>\n",
       "      <td>Aggregate age-at-marriage patterns from indivi...</td>\n",
       "      <td>ptodd@mpib-berlin.mpg.de</td>\n",
       "      <td>Peter Todd</td>\n",
       "      <td>10.1353/dem.2005.0027</td>\n",
       "      <td>['FC Billari', 'J Simao', 'PM Todd']</td>\n",
       "    </tr>\n",
       "    <tr>\n",
       "      <th>6</th>\n",
       "      <td>7.0</td>\n",
       "      <td>ALMaSS, an agent-based model for animals in te...</td>\n",
       "      <td>cjt@dmu.dk</td>\n",
       "      <td>Christopher J. Topping</td>\n",
       "      <td>10.1016/s0304-3800(03)00173-x</td>\n",
       "      <td>['JU Jepsen', 'P Odderskaer', 'Christopher J T...</td>\n",
       "    </tr>\n",
       "    <tr>\n",
       "      <th>7</th>\n",
       "      <td>8.0</td>\n",
       "      <td>Modeling the influence of temporal and spatial...</td>\n",
       "      <td>cjt@dmu.dk</td>\n",
       "      <td>Christopher J. Topping</td>\n",
       "      <td>10.1897/02-524a</td>\n",
       "      <td>['P Odderskaer', 'Christopher J Topping']</td>\n",
       "    </tr>\n",
       "    <tr>\n",
       "      <th>8</th>\n",
       "      <td>9.0</td>\n",
       "      <td>An agent-based approach for modeling molecular...</td>\n",
       "      <td>ratner@chem.northwestern.edu</td>\n",
       "      <td>Mark A. Ratner</td>\n",
       "      <td>10.1073/pnas.0408308102</td>\n",
       "      <td>['MA Ratner', 'A Troisi', 'V Wong']</td>\n",
       "    </tr>\n",
       "    <tr>\n",
       "      <th>9</th>\n",
       "      <td>10.0</td>\n",
       "      <td>Decision making and institutional design for p...</td>\n",
       "      <td>ueda@issp.u-tokyo.ac.jp</td>\n",
       "      <td>K. Ueda</td>\n",
       "      <td>10.1016/s0007-8506(07)60133-4</td>\n",
       "      <td>['H Nakayama', 'N Nishino', 'SH Oda', 'K Ueda']</td>\n",
       "    </tr>\n",
       "    <tr>\n",
       "      <th>10</th>\n",
       "      <td>11.0</td>\n",
       "      <td>The epitheliome: agent-based modelling of the ...</td>\n",
       "      <td>d.c.walker@sheffield.ac.uk</td>\n",
       "      <td>D.C. Walker</td>\n",
       "      <td>10.1016/j.biosystems.2004.05.025</td>\n",
       "      <td>['G Hill', 'A Holcombe', 'DR Hose', 'S Mac Nei...</td>\n",
       "    </tr>\n",
       "    <tr>\n",
       "      <th>11</th>\n",
       "      <td>12.0</td>\n",
       "      <td>The structure of uncultivated wilderness: Land...</td>\n",
       "      <td>rwang8@partners.org</td>\n",
       "      <td>Robert Walker</td>\n",
       "      <td>10.1111/1467-9787.00139</td>\n",
       "      <td>['R Walker']</td>\n",
       "    </tr>\n",
       "    <tr>\n",
       "      <th>12</th>\n",
       "      <td>13.0</td>\n",
       "      <td>Agent-based modeling and mapping of a manufact...</td>\n",
       "      <td>swang@ex.ac.uk</td>\n",
       "      <td>S.L Wang</td>\n",
       "      <td>10.1016/s0924-0136(02)00624-6</td>\n",
       "      <td>['F Liu', 'GB Tao', 'SL Wang', 'H Xia', 'Z Zha...</td>\n",
       "    </tr>\n",
       "    <tr>\n",
       "      <th>13</th>\n",
       "      <td>14.0</td>\n",
       "      <td>Adaptive agents, political institutions and ci...</td>\n",
       "      <td>rvib@uiuc.edu</td>\n",
       "      <td>Ravi Bhavnani</td>\n",
       "      <td>NaN</td>\n",
       "      <td>['R Bhavnani']</td>\n",
       "    </tr>\n",
       "    <tr>\n",
       "      <th>14</th>\n",
       "      <td>15.0</td>\n",
       "      <td>Announcement, credibility, and turnout in popu...</td>\n",
       "      <td>ravi.bhavnani@graduateinstitute.ch</td>\n",
       "      <td>Ravi Bhavnani</td>\n",
       "      <td>10.1177/0022002703252368</td>\n",
       "      <td>['R Bhavnani', 'M Ross']</td>\n",
       "    </tr>\n",
       "    <tr>\n",
       "      <th>15</th>\n",
       "      <td>16.0</td>\n",
       "      <td>Multi-agent modelling of climate outlooks and ...</td>\n",
       "      <td>sukaina.bharwani@sei-international.org</td>\n",
       "      <td>Sukaina Bharwani</td>\n",
       "      <td>10.1098/rstb.2005.1742</td>\n",
       "      <td>['S Bharwani', 'M Bithell', 'TE Downing', 'M N...</td>\n",
       "    </tr>\n",
       "    <tr>\n",
       "      <th>16</th>\n",
       "      <td>17.0</td>\n",
       "      <td>COMPUTATIONAL FEATURES OF AGENT-BASED MODELS</td>\n",
       "      <td>massimo@iac.cnr.it</td>\n",
       "      <td>Massimo Bernaschi</td>\n",
       "      <td>10.1142/s0219876205000399</td>\n",
       "      <td>['Massimo Bernaschi', 'Filippo Castiglione']</td>\n",
       "    </tr>\n",
       "    <tr>\n",
       "      <th>17</th>\n",
       "      <td>18.0</td>\n",
       "      <td>Adaptation and sustainability in a small Arcti...</td>\n",
       "      <td>matthew.berman@uaa.alaska.edu</td>\n",
       "      <td>Matthew Berman</td>\n",
       "      <td>NaN</td>\n",
       "      <td>['M Berman', 'G Kofinas', 'S Martin', 'C Nicol...</td>\n",
       "    </tr>\n",
       "    <tr>\n",
       "      <th>18</th>\n",
       "      <td>19.0</td>\n",
       "      <td>Specialisation and wealth inequality in a mode...</td>\n",
       "      <td>r.bentley@ucl.ac.uk</td>\n",
       "      <td>Alexander Bentley</td>\n",
       "      <td>10.1016/j.jas.2005.03.008</td>\n",
       "      <td>['RA Bentley', 'MW Lake', 'SJ Shennan']</td>\n",
       "    </tr>\n",
       "    <tr>\n",
       "      <th>19</th>\n",
       "      <td>20.0</td>\n",
       "      <td>UML as a cell and biochemistry modeling language</td>\n",
       "      <td>arpwhite@scs.carleton.ca</td>\n",
       "      <td>Tony White</td>\n",
       "      <td>10.1016/j.biosystems.2004.12.003</td>\n",
       "      <td>['K Webb', 'T White']</td>\n",
       "    </tr>\n",
       "    <tr>\n",
       "      <th>20</th>\n",
       "      <td>21.0</td>\n",
       "      <td>Cell modeling with reusable agent-based formal...</td>\n",
       "      <td>arpwhite@scs.carleton.ca</td>\n",
       "      <td>Tony White</td>\n",
       "      <td>10.1007/s10489-006-6937-9</td>\n",
       "      <td>['K Webb', 'T White']</td>\n",
       "    </tr>\n",
       "    <tr>\n",
       "      <th>21</th>\n",
       "      <td>22.0</td>\n",
       "      <td>Spatial Behavior in Groups: an Agent-Based App...</td>\n",
       "      <td>francesc.salvador@ub.edu</td>\n",
       "      <td>Francesc S. Beltran</td>\n",
       "      <td>NaN</td>\n",
       "      <td>['Francesc S. Beltran', 'Vicenc Quera', 'Laura...</td>\n",
       "    </tr>\n",
       "    <tr>\n",
       "      <th>22</th>\n",
       "      <td>25.0</td>\n",
       "      <td>Agent-based facilitation of water allocation: ...</td>\n",
       "      <td>olivier.barreteau@cemagref.fr</td>\n",
       "      <td>Olivier Barreteau</td>\n",
       "      <td>10.1023/b:grup.0000003743.65698.78</td>\n",
       "      <td>['G Abrami', 'O Barreteau', 'F Cernesson', 'A ...</td>\n",
       "    </tr>\n",
       "    <tr>\n",
       "      <th>23</th>\n",
       "      <td>26.0</td>\n",
       "      <td>Probing the effects of the well-mixed assumpti...</td>\n",
       "      <td>cbeau@cs.unm.edu</td>\n",
       "      <td>Catherine Beachemin</td>\n",
       "      <td>10.1016/j.jtbi.2006.03.014</td>\n",
       "      <td>['Catherine Beauchemin']</td>\n",
       "    </tr>\n",
       "    <tr>\n",
       "      <th>24</th>\n",
       "      <td>27.0</td>\n",
       "      <td>The discrete dynamics of small-scale spatial e...</td>\n",
       "      <td>mbatty@geog.ucl.ac.uk</td>\n",
       "      <td>Michael Batty</td>\n",
       "      <td>10.1080/1365881031000135474</td>\n",
       "      <td>['M Batty', 'J Desyllas', 'E Duxbury']</td>\n",
       "    </tr>\n",
       "    <tr>\n",
       "      <th>25</th>\n",
       "      <td>29.0</td>\n",
       "      <td>Agent-based modelling - intelligent customer r...</td>\n",
       "      <td>iqbal.adjali@lloydsbanking.com</td>\n",
       "      <td>Iqbal Adjali</td>\n",
       "      <td>10.1023/a:1024455405112</td>\n",
       "      <td>['I Adjali', 'D Collings']</td>\n",
       "    </tr>\n",
       "    <tr>\n",
       "      <th>26</th>\n",
       "      <td>30.0</td>\n",
       "      <td>Large-scale water resources management within ...</td>\n",
       "      <td>roland.barthel@iws.uni-stuttgart.de</td>\n",
       "      <td>Roland Barthel</td>\n",
       "      <td>10.1016/j.pce.2005.06.003</td>\n",
       "      <td>['R Barthel', 'J Braun', 'V Rojanschi', 'J Wolf']</td>\n",
       "    </tr>\n",
       "    <tr>\n",
       "      <th>27</th>\n",
       "      <td>31.0</td>\n",
       "      <td>Economic geography, trade, and war</td>\n",
       "      <td>efisher@calpoly.edu</td>\n",
       "      <td>Eric Fisher</td>\n",
       "      <td>10.1177/0022002702046003003</td>\n",
       "      <td>['DH Bearce', 'EO Fisher']</td>\n",
       "    </tr>\n",
       "    <tr>\n",
       "      <th>28</th>\n",
       "      <td>32.0</td>\n",
       "      <td>Suitability of Multi-Agent Simulations to stud...</td>\n",
       "      <td>olivier.barreteau@cemagref.fr</td>\n",
       "      <td>Olivier Barreteau</td>\n",
       "      <td>10.1016/j.agsy.2003.07.005</td>\n",
       "      <td>['O Barreteau', 'Francois Bousquet', 'C Millie...</td>\n",
       "    </tr>\n",
       "    <tr>\n",
       "      <th>29</th>\n",
       "      <td>33.0</td>\n",
       "      <td>Co-existence of Poisson and non-poisson proces...</td>\n",
       "      <td>csaloma@nip.upd.edu.ph</td>\n",
       "      <td>Caesar Saloma</td>\n",
       "      <td>10.1002/cplx.20134</td>\n",
       "      <td>['Johnrob Bantang', 'Caesar Saloma']</td>\n",
       "    </tr>\n",
       "    <tr>\n",
       "      <th>30</th>\n",
       "      <td>35.0</td>\n",
       "      <td>An agent-based model to understand the multipl...</td>\n",
       "      <td>bah@ucad.sn</td>\n",
       "      <td>Alassane Bah</td>\n",
       "      <td>10.1016/j.mcm.2005.02.014</td>\n",
       "      <td>['A. Bah', 'A. T. Diop', 'A. Ickowicz', 'C. Le...</td>\n",
       "    </tr>\n",
       "    <tr>\n",
       "      <th>31</th>\n",
       "      <td>36.0</td>\n",
       "      <td>A comparison of simulation models applied to e...</td>\n",
       "      <td>raul.bagni@tisclinet.it</td>\n",
       "      <td>Raul Bagni</td>\n",
       "      <td>NaN</td>\n",
       "      <td>['R Bagni', 'R Berchi', 'P Cariello']</td>\n",
       "    </tr>\n",
       "    <tr>\n",
       "      <th>32</th>\n",
       "      <td>37.0</td>\n",
       "      <td>Modelling financial markets with agents compet...</td>\n",
       "      <td>johanneswohlmuth@web.de</td>\n",
       "      <td>Johannes Wohlmuth</td>\n",
       "      <td>10.1016/j.physa.2005.08.067</td>\n",
       "      <td>['JV Andersen', 'J Wohlmuth']</td>\n",
       "    </tr>\n",
       "    <tr>\n",
       "      <th>33</th>\n",
       "      <td>38.0</td>\n",
       "      <td>Beyond geography: Cooperation with persistent ...</td>\n",
       "      <td>axe@umich.edu</td>\n",
       "      <td>Robert Axelrod</td>\n",
       "      <td>10.1207/s15327957pspr0604_08</td>\n",
       "      <td>['R Axelrod']</td>\n",
       "    </tr>\n",
       "    <tr>\n",
       "      <th>34</th>\n",
       "      <td>39.0</td>\n",
       "      <td>A hybrid agent-based model for estimating resi...</td>\n",
       "      <td>ioannis@athanasiadis.info</td>\n",
       "      <td>Ioannis N. Athanasiadis</td>\n",
       "      <td>10.1177/0037549705053172</td>\n",
       "      <td>['IN Athanasiadis', 'AK Mentes', 'PA Mitkas', ...</td>\n",
       "    </tr>\n",
       "    <tr>\n",
       "      <th>35</th>\n",
       "      <td>40.0</td>\n",
       "      <td>An agent based model for real-time signaling i...</td>\n",
       "      <td>sundars@u.washington.edu</td>\n",
       "      <td>Sundar Srinivasan</td>\n",
       "      <td>10.1016/j.jbiomech.2005.08.023</td>\n",
       "      <td>['Brandon J. Ausk', 'Ted S. Gross', 'Sundar Sr...</td>\n",
       "    </tr>\n",
       "  </tbody>\n",
       "</table>\n",
       "</div>"
      ],
      "text/plain": [
       "      id                                              title  \\\n",
       "0    1.0  A river system modelling platform for Murray-D...   \n",
       "1    2.0  Impact of Regulation and Network Topology on E...   \n",
       "2    3.0  Simulating Rural Environmentally and Socio-Eco...   \n",
       "3    4.0  A preliminary test of Hunt's General Theory of...   \n",
       "4    5.0  Human birthweight evolution across contrasting...   \n",
       "5    6.0  Aggregate age-at-marriage patterns from indivi...   \n",
       "6    7.0  ALMaSS, an agent-based model for animals in te...   \n",
       "7    8.0  Modeling the influence of temporal and spatial...   \n",
       "8    9.0  An agent-based approach for modeling molecular...   \n",
       "9   10.0  Decision making and institutional design for p...   \n",
       "10  11.0  The epitheliome: agent-based modelling of the ...   \n",
       "11  12.0  The structure of uncultivated wilderness: Land...   \n",
       "12  13.0  Agent-based modeling and mapping of a manufact...   \n",
       "13  14.0  Adaptive agents, political institutions and ci...   \n",
       "14  15.0  Announcement, credibility, and turnout in popu...   \n",
       "15  16.0  Multi-agent modelling of climate outlooks and ...   \n",
       "16  17.0       COMPUTATIONAL FEATURES OF AGENT-BASED MODELS   \n",
       "17  18.0  Adaptation and sustainability in a small Arcti...   \n",
       "18  19.0  Specialisation and wealth inequality in a mode...   \n",
       "19  20.0   UML as a cell and biochemistry modeling language   \n",
       "20  21.0  Cell modeling with reusable agent-based formal...   \n",
       "21  22.0  Spatial Behavior in Groups: an Agent-Based App...   \n",
       "22  25.0  Agent-based facilitation of water allocation: ...   \n",
       "23  26.0  Probing the effects of the well-mixed assumpti...   \n",
       "24  27.0  The discrete dynamics of small-scale spatial e...   \n",
       "25  29.0  Agent-based modelling - intelligent customer r...   \n",
       "26  30.0  Large-scale water resources management within ...   \n",
       "27  31.0                 Economic geography, trade, and war   \n",
       "28  32.0  Suitability of Multi-Agent Simulations to stud...   \n",
       "29  33.0  Co-existence of Poisson and non-poisson proces...   \n",
       "30  35.0  An agent-based model to understand the multipl...   \n",
       "31  36.0  A comparison of simulation models applied to e...   \n",
       "32  37.0  Modelling financial markets with agents compet...   \n",
       "33  38.0  Beyond geography: Cooperation with persistent ...   \n",
       "34  39.0  A hybrid agent-based model for estimating resi...   \n",
       "35  40.0  An agent based model for real-time signaling i...   \n",
       "\n",
       "                             contact_email      contact_author_name  \\\n",
       "0                        ang.yang@csiro.au                 Ang Yang   \n",
       "1                              lei@umd.edu                Lei Zhang   \n",
       "2                        msqalli@yahoo.com            Mehdi Saqalli   \n",
       "3                          tay@udayton.edu                N.S.P Tay   \n",
       "4                       fthomas@mpl.ird.fr        FrÃ©dÃ©ric Thomas   \n",
       "5                 ptodd@mpib-berlin.mpg.de               Peter Todd   \n",
       "6                               cjt@dmu.dk   Christopher J. Topping   \n",
       "7                               cjt@dmu.dk   Christopher J. Topping   \n",
       "8             ratner@chem.northwestern.edu           Mark A. Ratner   \n",
       "9                  ueda@issp.u-tokyo.ac.jp                  K. Ueda   \n",
       "10              d.c.walker@sheffield.ac.uk              D.C. Walker   \n",
       "11                     rwang8@partners.org            Robert Walker   \n",
       "12                          swang@ex.ac.uk                 S.L Wang   \n",
       "13                           rvib@uiuc.edu            Ravi Bhavnani   \n",
       "14      ravi.bhavnani@graduateinstitute.ch            Ravi Bhavnani   \n",
       "15  sukaina.bharwani@sei-international.org         Sukaina Bharwani   \n",
       "16                      massimo@iac.cnr.it        Massimo Bernaschi   \n",
       "17           matthew.berman@uaa.alaska.edu           Matthew Berman   \n",
       "18                     r.bentley@ucl.ac.uk        Alexander Bentley   \n",
       "19                arpwhite@scs.carleton.ca               Tony White   \n",
       "20                arpwhite@scs.carleton.ca               Tony White   \n",
       "21                francesc.salvador@ub.edu      Francesc S. Beltran   \n",
       "22           olivier.barreteau@cemagref.fr        Olivier Barreteau   \n",
       "23                        cbeau@cs.unm.edu      Catherine Beachemin   \n",
       "24                   mbatty@geog.ucl.ac.uk            Michael Batty   \n",
       "25          iqbal.adjali@lloydsbanking.com             Iqbal Adjali   \n",
       "26     roland.barthel@iws.uni-stuttgart.de           Roland Barthel   \n",
       "27                     efisher@calpoly.edu              Eric Fisher   \n",
       "28           olivier.barreteau@cemagref.fr        Olivier Barreteau   \n",
       "29                  csaloma@nip.upd.edu.ph            Caesar Saloma   \n",
       "30                             bah@ucad.sn             Alassane Bah   \n",
       "31                 raul.bagni@tisclinet.it               Raul Bagni   \n",
       "32                 johanneswohlmuth@web.de        Johannes Wohlmuth   \n",
       "33                           axe@umich.edu           Robert Axelrod   \n",
       "34               ioannis@athanasiadis.info  Ioannis N. Athanasiadis   \n",
       "35                sundars@u.washington.edu        Sundar Srinivasan   \n",
       "\n",
       "                                   doi  \\\n",
       "0               10.2166/hydro.2012.153   \n",
       "1                      10.3141/2297-21   \n",
       "2                                  NaN   \n",
       "3        10.1016/j.jbusres.2004.04.005   \n",
       "4     10.1111/j.1420-9101.2004.00705.x   \n",
       "5                10.1353/dem.2005.0027   \n",
       "6        10.1016/s0304-3800(03)00173-x   \n",
       "7                      10.1897/02-524a   \n",
       "8              10.1073/pnas.0408308102   \n",
       "9        10.1016/s0007-8506(07)60133-4   \n",
       "10    10.1016/j.biosystems.2004.05.025   \n",
       "11             10.1111/1467-9787.00139   \n",
       "12       10.1016/s0924-0136(02)00624-6   \n",
       "13                                 NaN   \n",
       "14            10.1177/0022002703252368   \n",
       "15              10.1098/rstb.2005.1742   \n",
       "16           10.1142/s0219876205000399   \n",
       "17                                 NaN   \n",
       "18           10.1016/j.jas.2005.03.008   \n",
       "19    10.1016/j.biosystems.2004.12.003   \n",
       "20           10.1007/s10489-006-6937-9   \n",
       "21                                 NaN   \n",
       "22  10.1023/b:grup.0000003743.65698.78   \n",
       "23          10.1016/j.jtbi.2006.03.014   \n",
       "24         10.1080/1365881031000135474   \n",
       "25             10.1023/a:1024455405112   \n",
       "26           10.1016/j.pce.2005.06.003   \n",
       "27         10.1177/0022002702046003003   \n",
       "28          10.1016/j.agsy.2003.07.005   \n",
       "29                  10.1002/cplx.20134   \n",
       "30           10.1016/j.mcm.2005.02.014   \n",
       "31                                 NaN   \n",
       "32         10.1016/j.physa.2005.08.067   \n",
       "33        10.1207/s15327957pspr0604_08   \n",
       "34            10.1177/0037549705053172   \n",
       "35      10.1016/j.jbiomech.2005.08.023   \n",
       "\n",
       "                                         author_names  \n",
       "0   ['Geoff Podger', 'Robert Power', 'Shane Seaton...  \n",
       "1                 ['Dilya Yusufzyanova', 'Lei Zhang']  \n",
       "2   ['Charles L. Bielders', 'Pierre Defourny', 'Br...  \n",
       "3                             ['RF Lusch', 'NSP Tay']  \n",
       "4   ['SP Brown', 'EV Budilova', 'JF Guegan', 'F Re...  \n",
       "5                ['FC Billari', 'J Simao', 'PM Todd']  \n",
       "6   ['JU Jepsen', 'P Odderskaer', 'Christopher J T...  \n",
       "7           ['P Odderskaer', 'Christopher J Topping']  \n",
       "8                 ['MA Ratner', 'A Troisi', 'V Wong']  \n",
       "9     ['H Nakayama', 'N Nishino', 'SH Oda', 'K Ueda']  \n",
       "10  ['G Hill', 'A Holcombe', 'DR Hose', 'S Mac Nei...  \n",
       "11                                       ['R Walker']  \n",
       "12  ['F Liu', 'GB Tao', 'SL Wang', 'H Xia', 'Z Zha...  \n",
       "13                                     ['R Bhavnani']  \n",
       "14                           ['R Bhavnani', 'M Ross']  \n",
       "15  ['S Bharwani', 'M Bithell', 'TE Downing', 'M N...  \n",
       "16       ['Massimo Bernaschi', 'Filippo Castiglione']  \n",
       "17  ['M Berman', 'G Kofinas', 'S Martin', 'C Nicol...  \n",
       "18            ['RA Bentley', 'MW Lake', 'SJ Shennan']  \n",
       "19                              ['K Webb', 'T White']  \n",
       "20                              ['K Webb', 'T White']  \n",
       "21  ['Francesc S. Beltran', 'Vicenc Quera', 'Laura...  \n",
       "22  ['G Abrami', 'O Barreteau', 'F Cernesson', 'A ...  \n",
       "23                           ['Catherine Beauchemin']  \n",
       "24             ['M Batty', 'J Desyllas', 'E Duxbury']  \n",
       "25                         ['I Adjali', 'D Collings']  \n",
       "26  ['R Barthel', 'J Braun', 'V Rojanschi', 'J Wolf']  \n",
       "27                         ['DH Bearce', 'EO Fisher']  \n",
       "28  ['O Barreteau', 'Francois Bousquet', 'C Millie...  \n",
       "29               ['Johnrob Bantang', 'Caesar Saloma']  \n",
       "30  ['A. Bah', 'A. T. Diop', 'A. Ickowicz', 'C. Le...  \n",
       "31              ['R Bagni', 'R Berchi', 'P Cariello']  \n",
       "32                      ['JV Andersen', 'J Wohlmuth']  \n",
       "33                                      ['R Axelrod']  \n",
       "34  ['IN Athanasiadis', 'AK Mentes', 'PA Mitkas', ...  \n",
       "35  ['Brandon J. Ausk', 'Ted S. Gross', 'Sundar Sr...  "
      ]
     },
     "execution_count": 113,
     "metadata": {},
     "output_type": "execute_result"
    }
   ],
   "source": [
    "#| export\n",
    "\n",
    "import pandas as pd\n",
    "import pprint\n",
    "\n",
    "#| export\n",
    "#Reading Excel file with pandas and choosing the sheet we want to work with\n",
    "\n",
    "usecols = ['id', 'title', 'contact_email', 'contact_author_name', 'doi', 'author_names']\n",
    "\n",
    "df = pd.read_excel(open('../Catalogdatabase-till2018b.xlsx', 'rb'), sheet_name='publication', usecols=usecols)\n",
    "\n",
    "# Practice functions with a small subset of the entire df\n",
    "df_small = df.head(36)\n",
    "\n",
    "#Displaying Relevant fields we'll work with\n",
    "\n",
    "df_small"
   ]
  },
  {
   "cell_type": "markdown",
   "id": "3feae985-e957-4a57-b0f3-ddaf0fa0a286",
   "metadata": {},
   "source": [
    "## Create an Author for the ***first*** author listed in the first publication\n",
    "\n",
    "1. Get the publication from first row\n",
    "2. Get the author list as a string\n",
    "3. Transform the string into a list\n",
    "4. Extract the first, middle, and last name to create a single author object"
   ]
  },
  {
   "cell_type": "code",
   "execution_count": 169,
   "id": "e6a9f479-c1ff-4851-8eab-5ae3bca9de1a",
   "metadata": {},
   "outputs": [
    {
     "data": {
      "text/plain": [
       "id                                                                   3.0\n",
       "title                  Simulating Rural Environmentally and Socio-Eco...\n",
       "contact_email                                          msqalli@yahoo.com\n",
       "contact_author_name                                        Mehdi Saqalli\n",
       "doi                                                                  NaN\n",
       "author_names           ['Charles L. Bielders', 'Pierre Defourny', 'Br...\n",
       "Name: 2, dtype: object"
      ]
     },
     "execution_count": 169,
     "metadata": {},
     "output_type": "execute_result"
    }
   ],
   "source": [
    "# get the first row\n",
    "single_publication = df_small.loc[2]\n",
    "single_publication"
   ]
  },
  {
   "cell_type": "code",
   "execution_count": 170,
   "id": "9b441749-3b10-4a86-a9eb-2d91b672fc76",
   "metadata": {},
   "outputs": [],
   "source": [
    "## TODO: define a publication object with a id, title, and doi\n",
    "class Publication:\n",
    "    def __init__(self, id, title, doi):\n",
    "        self.id = id\n",
    "        self.title = title\n",
    "        self.doi = doi"
   ]
  },
  {
   "cell_type": "code",
   "execution_count": 171,
   "id": "11edb58c-125b-44fb-b849-981350bb0e5d",
   "metadata": {},
   "outputs": [],
   "source": [
    "# TODO: create a publication object\n",
    "publication = Publication(id=single_publication['id'], title=single_publication['title'], doi=single_publication['doi'])"
   ]
  },
  {
   "cell_type": "code",
   "execution_count": 172,
   "id": "c8051e18-5820-471f-bfdd-18af261a8486",
   "metadata": {},
   "outputs": [
    {
     "data": {
      "text/plain": [
       "\"['Charles L. Bielders', 'Pierre Defourny', 'Bruno Gerard', 'Mehdi Saqalli']\""
      ]
     },
     "execution_count": 172,
     "metadata": {},
     "output_type": "execute_result"
    }
   ],
   "source": [
    "# get the author list from the first row\n",
    "author_names = single_publication['author_names']\n",
    "author_names"
   ]
  },
  {
   "cell_type": "code",
   "execution_count": 173,
   "id": "20d25474-be97-4f16-b444-dad937f1a9e4",
   "metadata": {},
   "outputs": [
    {
     "data": {
      "text/plain": [
       "'Charles L. Bielders, Pierre Defourny, Bruno Gerard, Mehdi Saqalli'"
      ]
     },
     "execution_count": 173,
     "metadata": {},
     "output_type": "execute_result"
    }
   ],
   "source": [
    "# remove all the brackets and single quotes\n",
    "_author_names = author_names.strip(\"[]\").replace(\"'\", \"\")\n",
    "_author_names"
   ]
  },
  {
   "cell_type": "code",
   "execution_count": 174,
   "id": "59e5668d-2e24-42f6-bb3d-f972283ae335",
   "metadata": {},
   "outputs": [
    {
     "data": {
      "text/plain": [
       "['Charles L. Bielders', 'Pierre Defourny', 'Bruno Gerard', 'Mehdi Saqalli']"
      ]
     },
     "execution_count": 174,
     "metadata": {},
     "output_type": "execute_result"
    }
   ],
   "source": [
    "# Split at ',' to get a list\n",
    "_author_names = _author_names.split(', ')\n",
    "_author_names"
   ]
  },
  {
   "cell_type": "code",
   "execution_count": 175,
   "id": "59105d20-e73d-4cf3-bfb2-8d27b6e8a0aa",
   "metadata": {},
   "outputs": [],
   "source": [
    "#| export\n",
    "def get_author_names_list(author_names):\n",
    "    author_names = author_names.strip(\"[]\").replace(\"'\", \"\")\n",
    "    author_names_list = author_names.split(', ')\n",
    "    return author_names_list"
   ]
  },
  {
   "cell_type": "code",
   "execution_count": 176,
   "id": "d08532b9-2c8e-419b-a04e-4445742b679f",
   "metadata": {},
   "outputs": [
    {
     "data": {
      "text/plain": [
       "['Charles L. Bielders', 'Pierre Defourny', 'Bruno Gerard', 'Mehdi Saqalli']"
      ]
     },
     "execution_count": 176,
     "metadata": {},
     "output_type": "execute_result"
    }
   ],
   "source": [
    "author_names = single_publication['author_names']\n",
    "author_names_list = get_author_names_list(author_names)\n",
    "author_names_list"
   ]
  },
  {
   "cell_type": "code",
   "execution_count": 178,
   "id": "603de263-a157-4385-b78c-637963f3704f",
   "metadata": {},
   "outputs": [
    {
     "data": {
      "text/plain": [
       "'Charles L. Bielders'"
      ]
     },
     "execution_count": 178,
     "metadata": {},
     "output_type": "execute_result"
    }
   ],
   "source": [
    "# grab a single author name from the list of authors\n",
    "single_author = author_names_list[0]\n",
    "single_author"
   ]
  },
  {
   "cell_type": "code",
   "execution_count": 179,
   "id": "15e76c42-18e5-4008-8331-4c86a07df825",
   "metadata": {},
   "outputs": [],
   "source": [
    "import re\n",
    "\n",
    "def extract_names(full_name):\n",
    "    # Check for any name with first two capital letters\n",
    "    pattern_first_two_capital = re.compile(r'^([A-Z])([A-Z])\\s+(.*)$')\n",
    "    match_first_two_capital = pattern_first_two_capital.match(full_name)\n",
    "\n",
    "    if match_first_two_capital:\n",
    "        first_name = match_first_two_capital.group(1)\n",
    "        middle_name = match_first_two_capital.group(2)\n",
    "        last_name = match_first_two_capital.group(3)\n",
    "    else:\n",
    "        # Fallback to the original splitting\n",
    "        names = full_name.split(' ')\n",
    "        first_name = names[0]\n",
    "        middle_name = ' '.join(names[1:-1]) if len(names) > 2 else None\n",
    "        last_name = names[-1]\n",
    "\n",
    "    return (first_name, middle_name, last_name)"
   ]
  },
  {
   "cell_type": "code",
   "execution_count": 181,
   "id": "36e9a936-9f23-4046-ab02-f3bfa729456a",
   "metadata": {},
   "outputs": [
    {
     "data": {
      "text/plain": [
       "('Charles', 'L.', 'Bielders')"
      ]
     },
     "execution_count": 181,
     "metadata": {},
     "output_type": "execute_result"
    }
   ],
   "source": [
    "extract_names(single_author)"
   ]
  },
  {
   "cell_type": "markdown",
   "id": "db3c1913-ba85-461a-b644-0207a262ea14",
   "metadata": {},
   "source": [
    "That looks good! Let's put all that logic in a function we can reuse."
   ]
  },
  {
   "cell_type": "code",
   "execution_count": 182,
   "id": "dbd9ed87-46f2-4ea2-aeec-30cd94e0c88f",
   "metadata": {},
   "outputs": [
    {
     "data": {
      "text/plain": [
       "\"def extract_names(full_name):\\n    names = full_name.split(' ')\\n    first_name = names[0]\\n    last_name = names[-1]\\n    middle_name = ' '.join(names[1:-1]) if len(names) > 2 else None\\n\\n    return (first_name, middle_name, last_name)\""
      ]
     },
     "execution_count": 182,
     "metadata": {},
     "output_type": "execute_result"
    }
   ],
   "source": [
    "#| export\n",
    "\"\"\"def extract_names(full_name):\n",
    "    names = full_name.split(' ')\n",
    "    first_name = names[0]\n",
    "    last_name = names[-1]\n",
    "    middle_name = ' '.join(names[1:-1]) if len(names) > 2 else None\n",
    "\n",
    "    return (first_name, middle_name, last_name)\"\"\""
   ]
  },
  {
   "cell_type": "code",
   "execution_count": 183,
   "id": "04df486f-c740-44ca-bb52-bd94c29ff28a",
   "metadata": {},
   "outputs": [
    {
     "data": {
      "text/plain": [
       "('Charles', 'L.', 'Bielders')"
      ]
     },
     "execution_count": 183,
     "metadata": {},
     "output_type": "execute_result"
    }
   ],
   "source": [
    "extract_names(single_author)"
   ]
  },
  {
   "cell_type": "markdown",
   "id": "d4df9034-441b-4c15-bb83-2b49d9563a49",
   "metadata": {},
   "source": [
    "Let's try running that on 'Geoff Podger' again and see if we get the same result."
   ]
  },
  {
   "cell_type": "markdown",
   "id": "af4188d5-10e1-46ea-96aa-56792985c8e2",
   "metadata": {},
   "source": [
    "Nice! Now let's use that return value to create a new Author object."
   ]
  },
  {
   "cell_type": "code",
   "execution_count": 184,
   "id": "349262d6-c017-4bb5-b3c8-ee04b9a5879d",
   "metadata": {},
   "outputs": [],
   "source": [
    "class Author:\n",
    "    \n",
    "    # Static variable to keep track of author ids\n",
    "    author_id_counter = 1\n",
    "    \n",
    "    def __init__(self, first, middle, last, email=None):\n",
    "        # TODO: keep track and add author ids\n",
    "        # you can use a regular variable somewhere or try out using a static variable, whatever you want\n",
    "    \n",
    "        # Generate a unique author id\n",
    "        self.id = Author.author_id_counter\n",
    "        Author.author_id_counter += 1\n",
    "        \n",
    "        self.first = first\n",
    "        self.middle = middle\n",
    "        self.last = last\n",
    "        self.email = email\n",
    "        self.publications = []\n",
    "        \n",
    "    def __repr__(self):\n",
    "        dictionary = vars(self)\n",
    "        dictionary['pub_ids'] = [pub.id for pub in self.publications]\n",
    "        return pprint.pformat(dictionary, indent=4)"
   ]
  },
  {
   "cell_type": "markdown",
   "id": "f927e344-3a40-4fb3-a055-560c2e299694",
   "metadata": {},
   "source": [
    "Notice that our `extract_names` function returns a tuple. We can assign each index in the tuple to a separate variable like this..."
   ]
  },
  {
   "cell_type": "code",
   "execution_count": 185,
   "id": "17a974ef-3257-4185-a936-fcd42164f4f7",
   "metadata": {},
   "outputs": [],
   "source": [
    "first, middle, last = extract_names(single_author)"
   ]
  },
  {
   "cell_type": "markdown",
   "id": "24e0de0a-7230-4c1c-a341-bbb337771304",
   "metadata": {},
   "source": [
    "Run the cells below just to check that they are, in fact, their own variables."
   ]
  },
  {
   "cell_type": "code",
   "execution_count": 186,
   "id": "2a29b4f3-4136-4cd0-94f6-9ee3a2e48e96",
   "metadata": {},
   "outputs": [
    {
     "data": {
      "text/plain": [
       "'Charles'"
      ]
     },
     "execution_count": 186,
     "metadata": {},
     "output_type": "execute_result"
    }
   ],
   "source": [
    "first"
   ]
  },
  {
   "cell_type": "code",
   "execution_count": 187,
   "id": "3f55c741-9297-4721-a7bc-a41714c03f31",
   "metadata": {},
   "outputs": [
    {
     "data": {
      "text/plain": [
       "'L.'"
      ]
     },
     "execution_count": 187,
     "metadata": {},
     "output_type": "execute_result"
    }
   ],
   "source": [
    "middle"
   ]
  },
  {
   "cell_type": "code",
   "execution_count": 188,
   "id": "4a0bab07-bdb4-4084-ba92-778e169eb5ec",
   "metadata": {},
   "outputs": [
    {
     "data": {
      "text/plain": [
       "'Bielders'"
      ]
     },
     "execution_count": 188,
     "metadata": {},
     "output_type": "execute_result"
    }
   ],
   "source": [
    "last"
   ]
  },
  {
   "cell_type": "code",
   "execution_count": 189,
   "id": "446148f1-5fc8-494f-a96a-a43861bae569",
   "metadata": {},
   "outputs": [
    {
     "data": {
      "text/plain": [
       "{   'email': None,\n",
       "    'first': 'Charles',\n",
       "    'id': 1,\n",
       "    'last': 'Bielders',\n",
       "    'middle': 'L.',\n",
       "    'pub_ids': [],\n",
       "    'publications': []}"
      ]
     },
     "execution_count": 189,
     "metadata": {},
     "output_type": "execute_result"
    }
   ],
   "source": [
    "author = Author(first, middle, last)\n",
    "author"
   ]
  },
  {
   "cell_type": "code",
   "execution_count": 24,
   "id": "1c4bafca-d784-4345-9d21-065b4f7d7df4",
   "metadata": {},
   "outputs": [],
   "source": [
    "# TODO: add the publication to the the author's publication attribute\n",
    "# Add the publication to the list of publications\n",
    "publication_list = []\n",
    "publication_list.append(publication)\n",
    "    \n",
    "    # Split the authors string by ',' to get individual authors\n",
    "authors = single_publication['author_names'].split(',')\n",
    "    \n",
    "    # Iterate over the authors and create an Author object for each\n",
    "for author_name in authors:\n",
    "    author_name = author_name.strip()  # Remove leading/trailing whitespaces if any\n",
    "        \n",
    "        # Create an Author object\n",
    "    author = Author(first='', middle='', last='')  # Replace the empty strings with actual values if available\n",
    "        \n",
    "        # Add the Publication to the Author's list of publications\n",
    "    author.publications.append(publication)\n",
    "        "
   ]
  },
  {
   "cell_type": "code",
   "execution_count": 25,
   "id": "a5e930e6-4a39-403d-8af7-c3d931e19844",
   "metadata": {},
   "outputs": [],
   "source": [
    "# TODO: add the publication to the author's publication attribute\n",
    "def add_publication(self, publication):\n",
    "    self.publications.append(publication)"
   ]
  },
  {
   "cell_type": "markdown",
   "id": "e64cf090-b5ba-4c14-b6be-a9c6ec3861bb",
   "metadata": {},
   "source": [
    "## Review\n",
    "\n",
    "Let's put everything we did all together."
   ]
  },
  {
   "cell_type": "code",
   "execution_count": 26,
   "id": "4549e505-9962-4aff-8c72-feaa6ae2c638",
   "metadata": {},
   "outputs": [
    {
     "data": {
      "text/plain": [
       "id                                                                   1.0\n",
       "title                  A river system modelling platform for Murray-D...\n",
       "contact_email                                          ang.yang@csiro.au\n",
       "contact_author_name                                             Ang Yang\n",
       "doi                                               10.2166/hydro.2012.153\n",
       "author_names           ['Geoff Podger', 'Robert Power', 'Shane Seaton...\n",
       "Name: 0, dtype: object"
      ]
     },
     "execution_count": 26,
     "metadata": {},
     "output_type": "execute_result"
    }
   ],
   "source": [
    "single_publication = df.loc[0]\n",
    "single_publication"
   ]
  },
  {
   "cell_type": "code",
   "execution_count": 27,
   "id": "8cda7c79-6ed0-41d0-b1f7-bffc7a327f77",
   "metadata": {},
   "outputs": [
    {
     "data": {
      "text/plain": [
       "\"['Geoff Podger', 'Robert Power', 'Shane Seaton', 'Ang Yang']\""
      ]
     },
     "execution_count": 27,
     "metadata": {},
     "output_type": "execute_result"
    }
   ],
   "source": [
    "author_names = single_publication['author_names']\n",
    "author_names"
   ]
  },
  {
   "cell_type": "code",
   "execution_count": 28,
   "id": "8a9bc963-e46c-4c7b-817e-bca1bdf429c8",
   "metadata": {},
   "outputs": [
    {
     "data": {
      "text/plain": [
       "['Geoff Podger', 'Robert Power', 'Shane Seaton', 'Ang Yang']"
      ]
     },
     "execution_count": 28,
     "metadata": {},
     "output_type": "execute_result"
    }
   ],
   "source": [
    "author_names_list = get_author_names_list(author_names)\n",
    "author_names_list"
   ]
  },
  {
   "cell_type": "code",
   "execution_count": 29,
   "id": "c72a6c0c-7c9d-4537-9a15-a99f6643bc5a",
   "metadata": {},
   "outputs": [],
   "source": [
    "first_author = author_names_list[0]"
   ]
  },
  {
   "cell_type": "code",
   "execution_count": 30,
   "id": "5d715226-f8ae-4334-b9a7-6b0f4d70e43d",
   "metadata": {},
   "outputs": [
    {
     "data": {
      "text/plain": [
       "('Geoff', None, 'Podger')"
      ]
     },
     "execution_count": 30,
     "metadata": {},
     "output_type": "execute_result"
    }
   ],
   "source": [
    "first, middle, last = extract_names(first_author)\n",
    "(first, middle, last)"
   ]
  },
  {
   "cell_type": "code",
   "execution_count": 31,
   "id": "c02ff159-6423-4c7f-be81-473d982b7761",
   "metadata": {},
   "outputs": [
    {
     "data": {
      "text/plain": [
       "{   'email': None,\n",
       "    'first': 'Geoff',\n",
       "    'id': 8,\n",
       "    'last': 'Podger',\n",
       "    'middle': None,\n",
       "    'pub_ids': [],\n",
       "    'publications': []}"
      ]
     },
     "execution_count": 31,
     "metadata": {},
     "output_type": "execute_result"
    }
   ],
   "source": [
    "author = Author(first, middle, last)\n",
    "author"
   ]
  },
  {
   "cell_type": "markdown",
   "id": "cbee508e-73de-4828-a7f5-00fde34f9635",
   "metadata": {},
   "source": [
    "## Create an Author for ***every*** author listed in the first publication\n",
    "\n",
    "1. Get the publication from first row\n",
    "2. Create a Publication object and add it to a list of publications\n",
    "3. Get the author list as a string\n",
    "4. Transform the string into a list\n",
    "5. Extract the first, middle, and last name to create a single author object for every author in list\n",
    "6. Add the Publication to the the Author's publication attribute\n",
    "\n",
    "All the steps are the same, except we want to turn the last step into a loop so we turn every author in the list into an author object."
   ]
  },
  {
   "cell_type": "code",
   "execution_count": 32,
   "id": "ac066084-d89f-4bcd-b2c2-c3a00329754c",
   "metadata": {},
   "outputs": [
    {
     "data": {
      "text/plain": [
       "id                                                                   1.0\n",
       "title                  A river system modelling platform for Murray-D...\n",
       "contact_email                                          ang.yang@csiro.au\n",
       "contact_author_name                                             Ang Yang\n",
       "doi                                               10.2166/hydro.2012.153\n",
       "author_names           ['Geoff Podger', 'Robert Power', 'Shane Seaton...\n",
       "Name: 0, dtype: object"
      ]
     },
     "execution_count": 32,
     "metadata": {},
     "output_type": "execute_result"
    }
   ],
   "source": [
    "# 1. Get the publication from first row\n",
    "single_publication = df.loc[0]\n",
    "single_publication"
   ]
  },
  {
   "cell_type": "code",
   "execution_count": 33,
   "id": "5ba4dca9-4fae-4d94-bbde-b1e3adaf5792",
   "metadata": {},
   "outputs": [],
   "source": [
    "publication_list = [] # list of Publication objects"
   ]
  },
  {
   "cell_type": "code",
   "execution_count": 34,
   "id": "14ec44d8-5da5-4eaf-8328-68881884a8e6",
   "metadata": {},
   "outputs": [],
   "source": [
    "# 2. TODO: Create a Publication object and add it to a list of publications (DONE)\n",
    "publication = Publication(id=single_publication['id'], title=single_publication['title'], doi=single_publication['doi'])\n",
    "\n",
    "publication_list.append(publication)"
   ]
  },
  {
   "cell_type": "code",
   "execution_count": 35,
   "id": "a254a90f-db32-4f26-b7b6-f0bcd6f89c98",
   "metadata": {},
   "outputs": [
    {
     "data": {
      "text/plain": [
       "\"['Geoff Podger', 'Robert Power', 'Shane Seaton', 'Ang Yang']\""
      ]
     },
     "execution_count": 35,
     "metadata": {},
     "output_type": "execute_result"
    }
   ],
   "source": [
    "# 2. Get the author list as a string\n",
    "author_names = single_publication['author_names']\n",
    "author_names"
   ]
  },
  {
   "cell_type": "code",
   "execution_count": 36,
   "id": "e4f8117c-c0d4-438b-95fc-0446f0156d82",
   "metadata": {},
   "outputs": [
    {
     "data": {
      "text/plain": [
       "['Geoff Podger', 'Robert Power', 'Shane Seaton', 'Ang Yang']"
      ]
     },
     "execution_count": 36,
     "metadata": {},
     "output_type": "execute_result"
    }
   ],
   "source": [
    "# 3. Transform the string into a list\n",
    "author_names_list = get_author_names_list(author_names)\n",
    "author_names_list"
   ]
  },
  {
   "cell_type": "code",
   "execution_count": 37,
   "id": "123c1d6e-96ec-4566-9626-6b68191e0d24",
   "metadata": {},
   "outputs": [],
   "source": [
    "# 4. For each author name in list, extract the first, middle, and last name to create a single author object\n",
    "\n",
    "author_list = [] # list of Author objects"
   ]
  },
  {
   "cell_type": "code",
   "execution_count": 38,
   "id": "bfbede17-cbae-47f3-9d9b-f73a06efcf37",
   "metadata": {},
   "outputs": [],
   "source": [
    "for author_string in author_names_list:\n",
    "    # Extract first, middle, and last name from each author string\n",
    "    first_name, middle_name, last_name = extract_names(author_string)\n",
    "\n",
    "    # Create an Author object\n",
    "    author = Author(first_name, middle_name, last_name)\n",
    "\n",
    "    # TODO: add the publication to the author's publication attribute\n",
    "    author.publications.append(publication)\n",
    "   \n",
    "    # Add the author to the author list\n",
    "    author_list.append(author)"
   ]
  },
  {
   "cell_type": "code",
   "execution_count": 39,
   "id": "153b6fe6-1e0f-4772-ba5b-192796e557f5",
   "metadata": {},
   "outputs": [
    {
     "data": {
      "text/plain": [
       "[{   'email': None,\n",
       "     'first': 'Geoff',\n",
       "     'id': 9,\n",
       "     'last': 'Podger',\n",
       "     'middle': None,\n",
       "     'pub_ids': [1.0],\n",
       "     'publications': [<__main__.Publication object at 0x126a50e10>]},\n",
       " {   'email': None,\n",
       "     'first': 'Robert',\n",
       "     'id': 10,\n",
       "     'last': 'Power',\n",
       "     'middle': None,\n",
       "     'pub_ids': [1.0],\n",
       "     'publications': [<__main__.Publication object at 0x126a50e10>]},\n",
       " {   'email': None,\n",
       "     'first': 'Shane',\n",
       "     'id': 11,\n",
       "     'last': 'Seaton',\n",
       "     'middle': None,\n",
       "     'pub_ids': [1.0],\n",
       "     'publications': [<__main__.Publication object at 0x126a50e10>]},\n",
       " {   'email': None,\n",
       "     'first': 'Ang',\n",
       "     'id': 12,\n",
       "     'last': 'Yang',\n",
       "     'middle': None,\n",
       "     'pub_ids': [1.0],\n",
       "     'publications': [<__main__.Publication object at 0x126a50e10>]}]"
      ]
     },
     "execution_count": 39,
     "metadata": {},
     "output_type": "execute_result"
    }
   ],
   "source": [
    "author_list"
   ]
  },
  {
   "cell_type": "markdown",
   "id": "0e64377b-072e-4ca1-aa6a-81984fa3451c",
   "metadata": {},
   "source": [
    "## Create an Author for every author listed in the first publication ***and*** add an email if that author is also the contact author\n",
    "\n",
    "1. Create an Author object for the contact author\n",
    "2. Write a function that compares the author to the contact author to see if they are the same\n",
    "3. If they are the same, add the contact author email to the author"
   ]
  },
  {
   "cell_type": "code",
   "execution_count": 40,
   "id": "ec40c81e-4982-4830-b4c2-af69fe4a747b",
   "metadata": {},
   "outputs": [],
   "source": [
    "## Check if the contact author matches a sigle author"
   ]
  },
  {
   "cell_type": "code",
   "execution_count": 41,
   "id": "8c00e3bb-bb2d-4675-88bf-da7722094898",
   "metadata": {},
   "outputs": [
    {
     "data": {
      "text/plain": [
       "id                                                                   2.0\n",
       "title                  Impact of Regulation and Network Topology on E...\n",
       "contact_email                                                lei@umd.edu\n",
       "contact_author_name                                            Lei Zhang\n",
       "doi                                                      10.3141/2297-21\n",
       "author_names                         ['Dilya Yusufzyanova', 'Lei Zhang']\n",
       "Name: 1, dtype: object"
      ]
     },
     "execution_count": 41,
     "metadata": {},
     "output_type": "execute_result"
    }
   ],
   "source": [
    "single_publication = df.loc[1]\n",
    "single_publication"
   ]
  },
  {
   "cell_type": "code",
   "execution_count": 42,
   "id": "eb067d28-80a6-4bfc-877c-1c636c4490c5",
   "metadata": {},
   "outputs": [
    {
     "data": {
      "text/plain": [
       "'Lei Zhang'"
      ]
     },
     "execution_count": 42,
     "metadata": {},
     "output_type": "execute_result"
    }
   ],
   "source": [
    "# get contact author name from single_publication\n",
    "contact_author_name = single_publication['contact_author_name']\n",
    "contact_author_name"
   ]
  },
  {
   "cell_type": "code",
   "execution_count": 43,
   "id": "f5231863-3f51-4e8b-beec-1d043a93283f",
   "metadata": {},
   "outputs": [
    {
     "data": {
      "text/plain": [
       "('Lei', None, 'Zhang')"
      ]
     },
     "execution_count": 43,
     "metadata": {},
     "output_type": "execute_result"
    }
   ],
   "source": [
    "# use a function to extract the first, middle, and last names of the contact author\n",
    "contact_first, contact_middle, contact_last = extract_names(contact_author_name)\n",
    "contact_first, contact_middle, contact_last"
   ]
  },
  {
   "cell_type": "code",
   "execution_count": 44,
   "id": "46a5bdbc-5dec-4810-a17f-915aaae9128b",
   "metadata": {},
   "outputs": [
    {
     "data": {
      "text/plain": [
       "'lei@umd.edu'"
      ]
     },
     "execution_count": 44,
     "metadata": {},
     "output_type": "execute_result"
    }
   ],
   "source": [
    "single_publication['contact_email']\n"
   ]
  },
  {
   "cell_type": "code",
   "execution_count": 45,
   "id": "2766bd60-3a0b-409c-a627-9c47e2f5154a",
   "metadata": {},
   "outputs": [
    {
     "data": {
      "text/plain": [
       "0     ang.yang@csiro.au\n",
       "1           lei@umd.edu\n",
       "2     msqalli@yahoo.com\n",
       "3       tay@udayton.edu\n",
       "4    fthomas@mpl.ird.fr\n",
       "Name: contact_email, dtype: object"
      ]
     },
     "execution_count": 45,
     "metadata": {},
     "output_type": "execute_result"
    }
   ],
   "source": [
    "df_small['contact_email']"
   ]
  },
  {
   "cell_type": "code",
   "execution_count": 46,
   "id": "bbfd95b8-4e11-45ca-84e1-cc9b59c86b0e",
   "metadata": {},
   "outputs": [
    {
     "data": {
      "text/plain": [
       "'lei@umd.edu'"
      ]
     },
     "execution_count": 46,
     "metadata": {},
     "output_type": "execute_result"
    }
   ],
   "source": [
    "# get the contact email for the contact author\n",
    "contact_author_email = single_publication['contact_email']\n",
    "contact_author_email"
   ]
  },
  {
   "cell_type": "code",
   "execution_count": 47,
   "id": "ade2ff4e-1d8a-48c3-b325-7389b57580c1",
   "metadata": {},
   "outputs": [
    {
     "data": {
      "text/plain": [
       "'lei@umd.edu'"
      ]
     },
     "execution_count": 47,
     "metadata": {},
     "output_type": "execute_result"
    }
   ],
   "source": [
    "# get the contact email for the contact author\n",
    "contact_author_email = single_publication['contact_email']\n",
    "contact_author_email"
   ]
  },
  {
   "cell_type": "code",
   "execution_count": 48,
   "id": "98ddd0ee-ca57-4758-81c2-75dd2fbcac6b",
   "metadata": {},
   "outputs": [
    {
     "data": {
      "text/plain": [
       "{   'email': 'lei@umd.edu',\n",
       "    'first': 'Lei',\n",
       "    'id': 13,\n",
       "    'last': 'Zhang',\n",
       "    'middle': None,\n",
       "    'pub_ids': [],\n",
       "    'publications': []}"
      ]
     },
     "execution_count": 48,
     "metadata": {},
     "output_type": "execute_result"
    }
   ],
   "source": [
    "# create an Author object for the contact author\n",
    "\n",
    "contact_author = Author(contact_first, contact_middle, contact_last, contact_author_email)\n",
    "contact_author"
   ]
  },
  {
   "cell_type": "markdown",
   "id": "b5f0d253-5b79-440e-82e8-fa2f74b1a7b7",
   "metadata": {},
   "source": [
    "Let's save the author that matchs the contact author."
   ]
  },
  {
   "cell_type": "code",
   "execution_count": 49,
   "id": "d7c41e3f-d1a8-4b66-b467-55d922e9aeb8",
   "metadata": {},
   "outputs": [
    {
     "data": {
      "text/plain": [
       "{   'email': None,\n",
       "    'first': 'Shane',\n",
       "    'id': 11,\n",
       "    'last': 'Seaton',\n",
       "    'middle': None,\n",
       "    'pub_ids': [1.0],\n",
       "    'publications': [<__main__.Publication object at 0x126a50e10>]}"
      ]
     },
     "execution_count": 49,
     "metadata": {},
     "output_type": "execute_result"
    }
   ],
   "source": [
    "fourth_author = author_list[2]\n",
    "fourth_author"
   ]
  },
  {
   "cell_type": "code",
   "execution_count": 50,
   "id": "b72da6d5-f62e-4b03-9ea6-a6f896017706",
   "metadata": {},
   "outputs": [
    {
     "data": {
      "text/plain": [
       "False"
      ]
     },
     "execution_count": 50,
     "metadata": {},
     "output_type": "execute_result"
    }
   ],
   "source": [
    "fourth_author.first == contact_author.first \\\n",
    "    and fourth_author.middle == contact_author.middle \\\n",
    "    and fourth_author.last == contact_author.last"
   ]
  },
  {
   "cell_type": "markdown",
   "id": "d1309364-f9a0-4011-8762-81f4ff399fa6",
   "metadata": {},
   "source": [
    "Write a function that compares an author to the contact author and returns True if there is a match. We will call this function `__eq__`, because it is a special dunder method that allows us to compare two objects with a double equal sign (`==`). We will see how this function works when we integrate it into our class later. "
   ]
  },
  {
   "cell_type": "code",
   "execution_count": 51,
   "id": "4d13b69c-fe5b-493e-b639-4198d2d95854",
   "metadata": {},
   "outputs": [],
   "source": [
    "def __eq__(author, contact_author):\n",
    "\n",
    "    return author.first == contact_author.first and author.middle == contact_author.middle and author.last == contact_author.last\n",
    "   \n"
   ]
  },
  {
   "cell_type": "code",
   "execution_count": 52,
   "id": "ccd95412-8d6e-47c5-813e-70ff046bd45c",
   "metadata": {},
   "outputs": [
    {
     "ename": "IndexError",
     "evalue": "list index out of range",
     "output_type": "error",
     "traceback": [
      "\u001b[0;31mIndexError\u001b[0m\u001b[0;31m:\u001b[0m list index out of range\n"
     ]
    }
   ],
   "source": [
    "__eq__(author_list[5], contact_author)"
   ]
  },
  {
   "cell_type": "markdown",
   "id": "e894c0e5-c8e2-4525-9ae6-5fd70a57ba8c",
   "metadata": {},
   "source": [
    "Does it return `True`? Now let's try one we know is not a match and should return `False`. "
   ]
  },
  {
   "cell_type": "code",
   "execution_count": null,
   "id": "d67cc855-8a22-40f3-a96b-9e2dc9459a95",
   "metadata": {},
   "outputs": [],
   "source": [
    "author_list[5]"
   ]
  },
  {
   "cell_type": "code",
   "execution_count": null,
   "id": "f7cf1f37-534e-441b-9cd6-d523f3637fc2",
   "metadata": {},
   "outputs": [],
   "source": [
    "__eq__(author_list[0], contact_author)"
   ]
  },
  {
   "cell_type": "markdown",
   "id": "e048e672-1e8b-456c-9d21-6dbe5a3ef780",
   "metadata": {},
   "source": [
    "Finally, when we do find a match between an author and a contact author, we want to use the contact author information to add information to the author. We could do it like this..."
   ]
  },
  {
   "cell_type": "code",
   "execution_count": null,
   "id": "d80eba46-d1b0-442a-8e45-f554072d42f4",
   "metadata": {},
   "outputs": [],
   "source": [
    "if __eq__(fourth_author, contact_author):\n",
    "    fourth_author.email = contact_author.email"
   ]
  },
  {
   "cell_type": "markdown",
   "id": "c1ef9809-3ea0-4a18-bf5f-23880064fc7c",
   "metadata": {},
   "source": [
    "... and we can see that it works because the email is now there."
   ]
  },
  {
   "cell_type": "code",
   "execution_count": null,
   "id": "7b3dd61e-e0a4-4f59-a0fb-a3de72e70ded",
   "metadata": {},
   "outputs": [],
   "source": [
    "fourth_author"
   ]
  },
  {
   "cell_type": "code",
   "execution_count": null,
   "id": "5be1578d-90f7-49d0-a195-cdeb0d5ead96",
   "metadata": {},
   "outputs": [],
   "source": [
    "contact_author"
   ]
  },
  {
   "cell_type": "markdown",
   "id": "9c6d2574-5cdd-4e57-a342-1c3a8f3db84c",
   "metadata": {},
   "source": [
    "But later down the line, we might want to also update the middle name or something as well. So we need to write a function to accomodate these future changes. Also, we want to add some validation to check that the two authors do actually share a name before we merge their information together."
   ]
  },
  {
   "cell_type": "code",
   "execution_count": null,
   "id": "7eed6934-6883-4742-a287-e0a997438377",
   "metadata": {},
   "outputs": [],
   "source": [
    "def add_contact_author_info(author, contact_author):\n",
    "    if not __eq__(author, contact_author):\n",
    "        raise Exception('not a match')\n",
    "    else: \n",
    "        #author_list.append(contact_author_email)\n",
    "        author.email = contact_author.email"
   ]
  },
  {
   "cell_type": "markdown",
   "id": "3ae50c00-3840-429a-81eb-1b6f90c2d512",
   "metadata": {},
   "source": [
    "Does it work? Let's try it for an author that we known matchs..."
   ]
  },
  {
   "cell_type": "code",
   "execution_count": null,
   "id": "4a266056-4ecc-462f-a9e4-0cb4698b81fb",
   "metadata": {},
   "outputs": [],
   "source": [
    "add_contact_author_info(fourth_author, contact_author)"
   ]
  },
  {
   "cell_type": "code",
   "execution_count": null,
   "id": "89fd4e4c-1fa2-44a5-81cf-8a253ba7d0a8",
   "metadata": {},
   "outputs": [],
   "source": [
    "fourth_author"
   ]
  },
  {
   "cell_type": "markdown",
   "id": "6603e42f-3a30-4479-a3ea-830f9b8e441b",
   "metadata": {},
   "source": [
    "And one that doesn't. The following code should throw an error..."
   ]
  },
  {
   "cell_type": "code",
   "execution_count": null,
   "id": "48350baa-d007-42e9-9795-9c5fea124a45",
   "metadata": {},
   "outputs": [],
   "source": [
    "add_contact_author_info(author_list[0], contact_author)"
   ]
  },
  {
   "cell_type": "markdown",
   "id": "e550f00f-fd3f-4415-9b03-c2dc74e9ff5f",
   "metadata": {},
   "source": [
    "Okay! Now the only thing left to do is to put this all together in our loop. Take what you had before, but add a few lines to check if the new author and the contact author are the same. If they are, you need to add the contact author info to the new author. Use the commented code below to do it. \n",
    "\n",
    "**Don't forget to use** `__eq__` **and** `add_contact_author_info`**!**"
   ]
  },
  {
   "cell_type": "code",
   "execution_count": null,
   "id": "de7e24c3-49c8-4a29-8113-b0ed9e9e12ef",
   "metadata": {},
   "outputs": [],
   "source": [
    "for author_string in author_names_list:\n",
    "    # extract first, middle, and last name from each author string\n",
    "    # TODO: replace the code below with a function: DONE\n",
    "    first_name, middle_name, last_name = extract_names(author_string)\n",
    "    \n",
    "    # create an Author object\n",
    "    author = Author(first_name, middle_name, last_name)\n",
    "    \n",
    "    # TODO: add publication to author's publication list: DONE?\n",
    "    author.publications.append(publication)\n",
    "    \n",
    "    if not __eq__(author, contact_author): \n",
    "        print (\"Not a match\")\n",
    "    else:\n",
    "        # add the author to the author list\n",
    "        add_contact_author_info(author, contact_author)\n",
    "        print(\"Done\")"
   ]
  },
  {
   "cell_type": "markdown",
   "id": "bc4bedac-7891-4a00-bb1a-b5d5464344c5",
   "metadata": {},
   "source": [
    "## ***For every publication...*** create a Publication and an Author for every author in the list and add an email if that author is also the contact author\n"
   ]
  },
  {
   "cell_type": "markdown",
   "id": "3c749e3d-62a9-4629-a670-1717113a820e",
   "metadata": {},
   "source": [
    "The next step is to run the loop above for every single row in `df_small`. If you want, you can get started on that below."
   ]
  },
  {
   "cell_type": "code",
   "execution_count": null,
   "id": "6e24841f-251a-4492-a091-3e27a4ed6d5f",
   "metadata": {},
   "outputs": [],
   "source": [
    "df_small"
   ]
  },
  {
   "cell_type": "code",
   "execution_count": 193,
   "id": "08545903-37d0-4f98-bc32-ad136f65267a",
   "metadata": {},
   "outputs": [
    {
     "name": "stdout",
     "output_type": "stream",
     "text": [
      "True {   'email': None,\n",
      "    'first': 'Ang',\n",
      "    'id': 11,\n",
      "    'last': 'Yang',\n",
      "    'middle': None,\n",
      "    'pub_ids': [1.0],\n",
      "    'publications': [<__main__.Publication object at 0x126dc1a50>]}\n"
     ]
    },
    {
     "ename": "NameError",
     "evalue": "name 'add_contact_author_info' is not defined",
     "output_type": "error",
     "traceback": [
      "\u001b[0;31mNameError\u001b[0m\u001b[0;31m:\u001b[0m name 'add_contact_author_info' is not defined\n"
     ]
    }
   ],
   "source": [
    "publication_list = []\n",
    "author_list = []\n",
    "\n",
    "for index, row in df_small.iterrows():\n",
    "    # create a new publication object- DONE\n",
    "    publication = Publication(id=row['id'], title=row['title'], doi=row['doi'])\n",
    "\n",
    "    # add the publication to the list- DONE\n",
    "    publication_list.append(publication)\n",
    "\n",
    "    # create an Author object for every author belonging to the publication - DONE\n",
    "    author_names_list = get_author_names_list(row['author_names'])\n",
    "\n",
    "    #Create contact author\n",
    "    \n",
    "    contact_name = row[\"contact_author_name\"]\n",
    "\n",
    "    contact_first_name, contact_middle_name, contact_last_name = extract_names(contact_name)\n",
    "    \n",
    "    \n",
    "    contact_author = Author(contact_first_name, contact_middle_name, contact_last_name, row[\"contact_email\"])\n",
    "    \n",
    "    \n",
    "    for author_name in author_names_list:\n",
    "        # Extract first, middle, and last name from each author string\n",
    "        first_name, middle_name, last_name = extract_names(author_name)\n",
    "\n",
    "        # Create an Author object\n",
    "        author = Author(first_name, middle_name, last_name)\n",
    "\n",
    "        \n",
    "        # Add the publication to the Author's list of publications - DONE\n",
    "        author.publications.append(publication)\n",
    "        \n",
    "        # if that author is also the contact author, add an email - DONE\n",
    "        if __eq__(author, contact_author):\n",
    "            print (\"True\", author)\n",
    "            add_contact_author_info(author, contact_author)\n",
    "            \n",
    "        # add the Author to the list of Authors - DONE\n",
    "        author_list.append(author)"
   ]
  },
  {
   "cell_type": "code",
   "execution_count": 194,
   "id": "bfbf0f86-d47f-4c43-9510-0455652295e6",
   "metadata": {},
   "outputs": [
    {
     "name": "stdout",
     "output_type": "stream",
     "text": [
      "<__main__.Publication object at 0x126dc1a50>\n",
      "{   'email': None,\n",
      "    'first': 'Geoff',\n",
      "    'id': 8,\n",
      "    'last': 'Podger',\n",
      "    'middle': None,\n",
      "    'pub_ids': [1.0],\n",
      "    'publications': [<__main__.Publication object at 0x126dc1a50>]}\n",
      "{   'email': None,\n",
      "    'first': 'Robert',\n",
      "    'id': 9,\n",
      "    'last': 'Power',\n",
      "    'middle': None,\n",
      "    'pub_ids': [1.0],\n",
      "    'publications': [<__main__.Publication object at 0x126dc1a50>]}\n",
      "{   'email': None,\n",
      "    'first': 'Shane',\n",
      "    'id': 10,\n",
      "    'last': 'Seaton',\n",
      "    'middle': None,\n",
      "    'pub_ids': [1.0],\n",
      "    'publications': [<__main__.Publication object at 0x126dc1a50>]}\n"
     ]
    }
   ],
   "source": [
    "for publication in publication_list:\n",
    "    print(publication)\n",
    "for author in author_list:\n",
    "    print(author)"
   ]
  },
  {
   "cell_type": "code",
   "execution_count": 192,
   "id": "7812926a-4a82-4405-91ad-d2e8ccf424bd",
   "metadata": {},
   "outputs": [
    {
     "name": "stdout",
     "output_type": "stream",
     "text": [
      "{'id': 1.0, 'title': 'A river system modelling platform for Murray-Darling Basin, Australia', 'doi': '10.2166/hydro.2012.153'}\n",
      "{'id': 3, 'first': 'Geoff', 'middle': None, 'last': 'Podger', 'email': None, 'publications': [<__main__.Publication object at 0x126daa210>], 'pub_ids': [1.0]}\n",
      "{'id': 4, 'first': 'Robert', 'middle': None, 'last': 'Power', 'email': None, 'publications': [<__main__.Publication object at 0x126daa210>], 'pub_ids': [1.0]}\n",
      "{'id': 5, 'first': 'Shane', 'middle': None, 'last': 'Seaton', 'email': None, 'publications': [<__main__.Publication object at 0x126daa210>], 'pub_ids': [1.0]}\n"
     ]
    }
   ],
   "source": [
    "# Print the created publications and authors\n",
    "for publication in publication_list:\n",
    "    print(publication.__dict__)\n",
    "\n",
    "for author in author_list:\n",
    "    print(author.__dict__)"
   ]
  },
  {
   "cell_type": "code",
   "execution_count": null,
   "id": "b6c7086e-45a5-4695-a4bb-206a11e2caba",
   "metadata": {},
   "outputs": [],
   "source": []
  },
  {
   "cell_type": "code",
   "execution_count": null,
   "id": "ac2f7139-8a20-44e1-b4ba-83a6fbb4818e",
   "metadata": {},
   "outputs": [],
   "source": []
  }
 ],
 "metadata": {
  "kernelspec": {
   "display_name": "Python 3 (ipykernel)",
   "language": "python",
   "name": "python3"
  },
  "language_info": {
   "codemirror_mode": {
    "name": "ipython",
    "version": 3
   },
   "file_extension": ".py",
   "mimetype": "text/x-python",
   "name": "python",
   "nbconvert_exporter": "python",
   "pygments_lexer": "ipython3",
   "version": "3.11.3"
  }
 },
 "nbformat": 4,
 "nbformat_minor": 5
}
