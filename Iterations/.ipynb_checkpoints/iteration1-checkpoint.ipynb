{
 "cells": [
  {
   "cell_type": "markdown",
   "id": "3efb5d57-b2ba-4c9d-88ff-a1a2ab30e5d3",
   "metadata": {},
   "source": [
    "# Create list of Authors from a single publication"
   ]
  },
  {
   "cell_type": "markdown",
   "id": "7bb8041c-e111-4000-b4f8-e1d2984d6e90",
   "metadata": {},
   "source": [
    "## Loading Correct and Relevant Data"
   ]
  },
  {
   "cell_type": "code",
   "execution_count": 154,
   "id": "4db095dc-4ecb-469a-9839-21d0978e8d75",
   "metadata": {},
   "outputs": [],
   "source": [
    "#| default_exp inner_loop"
   ]
  },
  {
   "cell_type": "code",
   "execution_count": 155,
   "id": "d85b00af-6c2d-4438-9534-74962bf29024",
   "metadata": {},
   "outputs": [
    {
     "name": "stdout",
     "output_type": "stream",
     "text": [
      "Exception reporting mode: Minimal\n"
     ]
    }
   ],
   "source": [
    "%xmode minimal"
   ]
  },
  {
   "cell_type": "code",
   "execution_count": 156,
   "id": "7e226d3b-d477-49bb-b38f-c8e40df64315",
   "metadata": {},
   "outputs": [],
   "source": [
    "# from nbdev.export import nb_export\n",
    "# nb_export('iteration1.ipynb', '../preprocessing')"
   ]
  },
  {
   "cell_type": "code",
   "execution_count": 157,
   "id": "ce352e20-5fd4-4560-8a5d-ff65d5c52502",
   "metadata": {},
   "outputs": [],
   "source": [
    "#| export\n",
    "\n",
    "import pandas as pd\n",
    "import pprint"
   ]
  },
  {
   "cell_type": "code",
   "execution_count": 158,
   "id": "3ad382e1-b3db-4041-84c7-fca514216166",
   "metadata": {},
   "outputs": [],
   "source": [
    "#| export\n",
    "#Reading Excel file with pandas and choosing the sheet we want to work with\n",
    "\n",
    "usecols = ['id', 'title', 'contact_email', 'contact_author_name', 'doi', 'author_names']\n",
    "\n",
    "df = pd.read_excel(open('../Catalogdatabase-till2018b.xlsx', 'rb'), sheet_name='publication', usecols=usecols)"
   ]
  },
  {
   "cell_type": "code",
   "execution_count": 151,
   "id": "666d2c28-415c-46aa-84ee-ac5b86ee0af6",
   "metadata": {},
   "outputs": [
    {
     "data": {
      "text/html": [
       "<div>\n",
       "<style scoped>\n",
       "    .dataframe tbody tr th:only-of-type {\n",
       "        vertical-align: middle;\n",
       "    }\n",
       "\n",
       "    .dataframe tbody tr th {\n",
       "        vertical-align: top;\n",
       "    }\n",
       "\n",
       "    .dataframe thead th {\n",
       "        text-align: right;\n",
       "    }\n",
       "</style>\n",
       "<table border=\"1\" class=\"dataframe\">\n",
       "  <thead>\n",
       "    <tr style=\"text-align: right;\">\n",
       "      <th></th>\n",
       "      <th>id</th>\n",
       "      <th>title</th>\n",
       "      <th>contact_email</th>\n",
       "      <th>contact_author_name</th>\n",
       "      <th>doi</th>\n",
       "      <th>author_names</th>\n",
       "    </tr>\n",
       "  </thead>\n",
       "  <tbody>\n",
       "    <tr>\n",
       "      <th>0</th>\n",
       "      <td>1.0</td>\n",
       "      <td>A river system modelling platform for Murray-D...</td>\n",
       "      <td>ang.yang@csiro.au</td>\n",
       "      <td>Ang Yang</td>\n",
       "      <td>10.2166/hydro.2012.153</td>\n",
       "      <td>['Geoff Podger', 'Robert Power', 'Shane Seaton...</td>\n",
       "    </tr>\n",
       "    <tr>\n",
       "      <th>1</th>\n",
       "      <td>2.0</td>\n",
       "      <td>Impact of Regulation and Network Topology on E...</td>\n",
       "      <td>lei@umd.edu</td>\n",
       "      <td>Lei Zhang</td>\n",
       "      <td>10.3141/2297-21</td>\n",
       "      <td>['Dilya Yusufzyanova', 'Lei Zhang']</td>\n",
       "    </tr>\n",
       "    <tr>\n",
       "      <th>2</th>\n",
       "      <td>3.0</td>\n",
       "      <td>Simulating Rural Environmentally and Socio-Eco...</td>\n",
       "      <td>msqalli@yahoo.com</td>\n",
       "      <td>Mehdi Saqalli</td>\n",
       "      <td>NaN</td>\n",
       "      <td>['Charles L. Bielders', 'Pierre Defourny', 'Br...</td>\n",
       "    </tr>\n",
       "    <tr>\n",
       "      <th>3</th>\n",
       "      <td>4.0</td>\n",
       "      <td>A preliminary test of Hunt's General Theory of...</td>\n",
       "      <td>tay@udayton.edu</td>\n",
       "      <td>N.S.P Tay</td>\n",
       "      <td>10.1016/j.jbusres.2004.04.005</td>\n",
       "      <td>['RF Lusch', 'NSP Tay']</td>\n",
       "    </tr>\n",
       "    <tr>\n",
       "      <th>4</th>\n",
       "      <td>5.0</td>\n",
       "      <td>Human birthweight evolution across contrasting...</td>\n",
       "      <td>fthomas@mpl.ird.fr</td>\n",
       "      <td>FrÃ©dÃ©ric Thomas</td>\n",
       "      <td>10.1111/j.1420-9101.2004.00705.x</td>\n",
       "      <td>['SP Brown', 'EV Budilova', 'JF Guegan', 'F Re...</td>\n",
       "    </tr>\n",
       "  </tbody>\n",
       "</table>\n",
       "</div>"
      ],
      "text/plain": [
       "    id                                              title       contact_email  \\\n",
       "0  1.0  A river system modelling platform for Murray-D...   ang.yang@csiro.au   \n",
       "1  2.0  Impact of Regulation and Network Topology on E...         lei@umd.edu   \n",
       "2  3.0  Simulating Rural Environmentally and Socio-Eco...   msqalli@yahoo.com   \n",
       "3  4.0  A preliminary test of Hunt's General Theory of...     tay@udayton.edu   \n",
       "4  5.0  Human birthweight evolution across contrasting...  fthomas@mpl.ird.fr   \n",
       "\n",
       "  contact_author_name                               doi  \\\n",
       "0            Ang Yang            10.2166/hydro.2012.153   \n",
       "1           Lei Zhang                   10.3141/2297-21   \n",
       "2       Mehdi Saqalli                               NaN   \n",
       "3           N.S.P Tay     10.1016/j.jbusres.2004.04.005   \n",
       "4   FrÃ©dÃ©ric Thomas  10.1111/j.1420-9101.2004.00705.x   \n",
       "\n",
       "                                        author_names  \n",
       "0  ['Geoff Podger', 'Robert Power', 'Shane Seaton...  \n",
       "1                ['Dilya Yusufzyanova', 'Lei Zhang']  \n",
       "2  ['Charles L. Bielders', 'Pierre Defourny', 'Br...  \n",
       "3                            ['RF Lusch', 'NSP Tay']  \n",
       "4  ['SP Brown', 'EV Budilova', 'JF Guegan', 'F Re...  "
      ]
     },
     "execution_count": 151,
     "metadata": {},
     "output_type": "execute_result"
    }
   ],
   "source": [
    "#Displaying Relevant fields we'll work with\n",
    "\n",
    "df_small"
   ]
  },
  {
   "cell_type": "code",
   "execution_count": 7,
   "id": "4817e421-fc2f-419a-89d9-4d40d2ccad4f",
   "metadata": {},
   "outputs": [
    {
     "data": {
      "text/html": [
       "<div>\n",
       "<style scoped>\n",
       "    .dataframe tbody tr th:only-of-type {\n",
       "        vertical-align: middle;\n",
       "    }\n",
       "\n",
       "    .dataframe tbody tr th {\n",
       "        vertical-align: top;\n",
       "    }\n",
       "\n",
       "    .dataframe thead th {\n",
       "        text-align: right;\n",
       "    }\n",
       "</style>\n",
       "<table border=\"1\" class=\"dataframe\">\n",
       "  <thead>\n",
       "    <tr style=\"text-align: right;\">\n",
       "      <th></th>\n",
       "      <th>id</th>\n",
       "      <th>title</th>\n",
       "      <th>contact_email</th>\n",
       "      <th>contact_author_name</th>\n",
       "      <th>doi</th>\n",
       "      <th>author_names</th>\n",
       "    </tr>\n",
       "  </thead>\n",
       "  <tbody>\n",
       "    <tr>\n",
       "      <th>0</th>\n",
       "      <td>1.0</td>\n",
       "      <td>A river system modelling platform for Murray-D...</td>\n",
       "      <td>ang.yang@csiro.au</td>\n",
       "      <td>Ang Yang</td>\n",
       "      <td>10.2166/hydro.2012.153</td>\n",
       "      <td>['Geoff Podger', 'Robert Power', 'Shane Seaton...</td>\n",
       "    </tr>\n",
       "    <tr>\n",
       "      <th>1</th>\n",
       "      <td>2.0</td>\n",
       "      <td>Impact of Regulation and Network Topology on E...</td>\n",
       "      <td>lei@umd.edu</td>\n",
       "      <td>Lei Zhang</td>\n",
       "      <td>10.3141/2297-21</td>\n",
       "      <td>['Dilya Yusufzyanova', 'Lei Zhang']</td>\n",
       "    </tr>\n",
       "    <tr>\n",
       "      <th>2</th>\n",
       "      <td>3.0</td>\n",
       "      <td>Simulating Rural Environmentally and Socio-Eco...</td>\n",
       "      <td>msqalli@yahoo.com</td>\n",
       "      <td>Mehdi Saqalli</td>\n",
       "      <td>NaN</td>\n",
       "      <td>['Charles L. Bielders', 'Pierre Defourny', 'Br...</td>\n",
       "    </tr>\n",
       "    <tr>\n",
       "      <th>3</th>\n",
       "      <td>4.0</td>\n",
       "      <td>A preliminary test of Hunt's General Theory of...</td>\n",
       "      <td>tay@udayton.edu</td>\n",
       "      <td>N.S.P Tay</td>\n",
       "      <td>10.1016/j.jbusres.2004.04.005</td>\n",
       "      <td>['RF Lusch', 'NSP Tay']</td>\n",
       "    </tr>\n",
       "    <tr>\n",
       "      <th>4</th>\n",
       "      <td>5.0</td>\n",
       "      <td>Human birthweight evolution across contrasting...</td>\n",
       "      <td>fthomas@mpl.ird.fr</td>\n",
       "      <td>FrÃ©dÃ©ric Thomas</td>\n",
       "      <td>10.1111/j.1420-9101.2004.00705.x</td>\n",
       "      <td>['SP Brown', 'EV Budilova', 'JF Guegan', 'F Re...</td>\n",
       "    </tr>\n",
       "  </tbody>\n",
       "</table>\n",
       "</div>"
      ],
      "text/plain": [
       "    id                                              title       contact_email  \\\n",
       "0  1.0  A river system modelling platform for Murray-D...   ang.yang@csiro.au   \n",
       "1  2.0  Impact of Regulation and Network Topology on E...         lei@umd.edu   \n",
       "2  3.0  Simulating Rural Environmentally and Socio-Eco...   msqalli@yahoo.com   \n",
       "3  4.0  A preliminary test of Hunt's General Theory of...     tay@udayton.edu   \n",
       "4  5.0  Human birthweight evolution across contrasting...  fthomas@mpl.ird.fr   \n",
       "\n",
       "  contact_author_name                               doi  \\\n",
       "0            Ang Yang            10.2166/hydro.2012.153   \n",
       "1           Lei Zhang                   10.3141/2297-21   \n",
       "2       Mehdi Saqalli                               NaN   \n",
       "3           N.S.P Tay     10.1016/j.jbusres.2004.04.005   \n",
       "4   FrÃ©dÃ©ric Thomas  10.1111/j.1420-9101.2004.00705.x   \n",
       "\n",
       "                                        author_names  \n",
       "0  ['Geoff Podger', 'Robert Power', 'Shane Seaton...  \n",
       "1                ['Dilya Yusufzyanova', 'Lei Zhang']  \n",
       "2  ['Charles L. Bielders', 'Pierre Defourny', 'Br...  \n",
       "3                            ['RF Lusch', 'NSP Tay']  \n",
       "4  ['SP Brown', 'EV Budilova', 'JF Guegan', 'F Re...  "
      ]
     },
     "execution_count": 7,
     "metadata": {},
     "output_type": "execute_result"
    }
   ],
   "source": [
    "#Displaying Relevant fields we'll work with\n",
    "\n",
    "df_small"
   ]
  },
  {
   "cell_type": "markdown",
   "id": "3feae985-e957-4a57-b0f3-ddaf0fa0a286",
   "metadata": {},
   "source": [
    "## Create an Author for the ***first*** author listed in the first publication\n",
    "\n",
    "1. Get the publication from first row\n",
    "2. Get the author list as a string\n",
    "3. Transform the string into a list\n",
    "4. Extract the first, middle, and last name to create a single author object"
   ]
  },
  {
   "cell_type": "code",
   "execution_count": 8,
   "id": "e6a9f479-c1ff-4851-8eab-5ae3bca9de1a",
   "metadata": {},
   "outputs": [
    {
     "data": {
      "text/plain": [
       "id                                                                   1.0\n",
       "title                  A river system modelling platform for Murray-D...\n",
       "contact_email                                          ang.yang@csiro.au\n",
       "contact_author_name                                             Ang Yang\n",
       "doi                                               10.2166/hydro.2012.153\n",
       "author_names           ['Geoff Podger', 'Robert Power', 'Shane Seaton...\n",
       "Name: 0, dtype: object"
      ]
     },
     "execution_count": 8,
     "metadata": {},
     "output_type": "execute_result"
    }
   ],
   "source": [
    "# get the first row\n",
    "single_publication = df_small.loc[0]\n",
    "single_publication"
   ]
  },
  {
   "cell_type": "code",
   "execution_count": 9,
   "id": "9b441749-3b10-4a86-a9eb-2d91b672fc76",
   "metadata": {},
   "outputs": [],
   "source": [
    "## TODO: define a publication object with a id, title, and doi\n",
    "class Publication:\n",
    "    def __init__(self, id, title, doi):\n",
    "        self.id = id\n",
    "        self.title = title\n",
    "        self.doi = doi"
   ]
  },
  {
   "cell_type": "code",
   "execution_count": 153,
   "id": "11edb58c-125b-44fb-b849-981350bb0e5d",
   "metadata": {},
   "outputs": [],
   "source": [
    "# TODO: create a publication object\n",
    "publication = Publication(id=single_publication['id'], title=single_publication['title'], doi=single_publication['doi'])\n"
   ]
  },
  {
   "cell_type": "code",
   "execution_count": 16,
   "id": "c8051e18-5820-471f-bfdd-18af261a8486",
   "metadata": {},
   "outputs": [
    {
     "data": {
      "text/plain": [
       "\"['Geoff Podger', 'Robert Power', 'Shane Seaton', 'Ang Yang']\""
      ]
     },
     "execution_count": 16,
     "metadata": {},
     "output_type": "execute_result"
    }
   ],
   "source": [
    "# get the author list from the first row\n",
    "author_names = single_publication['author_names']\n",
    "author_names"
   ]
  },
  {
   "cell_type": "code",
   "execution_count": 21,
   "id": "20d25474-be97-4f16-b444-dad937f1a9e4",
   "metadata": {},
   "outputs": [
    {
     "data": {
      "text/plain": [
       "'Geoff Podger, Robert Power, Shane Seaton, Ang Yang'"
      ]
     },
     "execution_count": 21,
     "metadata": {},
     "output_type": "execute_result"
    }
   ],
   "source": [
    "# remove all the brackets and single quotes\n",
    "_author_names = author_names.strip(\"[]\").replace(\"'\", \"\")\n",
    "_author_names"
   ]
  },
  {
   "cell_type": "code",
   "execution_count": 22,
   "id": "59e5668d-2e24-42f6-bb3d-f972283ae335",
   "metadata": {},
   "outputs": [
    {
     "data": {
      "text/plain": [
       "['Geoff Podger', 'Robert Power', 'Shane Seaton', 'Ang Yang']"
      ]
     },
     "execution_count": 22,
     "metadata": {},
     "output_type": "execute_result"
    }
   ],
   "source": [
    "# Split at ',' to get a list\n",
    "_author_names = _author_names.split(', ')\n",
    "_author_names"
   ]
  },
  {
   "cell_type": "markdown",
   "id": "b0d91b94-a048-41a0-9fdc-30a4cda2883a",
   "metadata": {},
   "source": [
    "Okay, that looks good! Let's put all that in a function."
   ]
  },
  {
   "cell_type": "code",
   "execution_count": 23,
   "id": "59105d20-e73d-4cf3-bfb2-8d27b6e8a0aa",
   "metadata": {},
   "outputs": [],
   "source": [
    "#| export\n",
    "def get_author_names_list(author_names):\n",
    "    author_names = author_names.strip(\"[]\").replace(\"'\", \"\")\n",
    "    author_names_list = author_names.split(', ')\n",
    "    return author_names_list"
   ]
  },
  {
   "cell_type": "code",
   "execution_count": 24,
   "id": "d08532b9-2c8e-419b-a04e-4445742b679f",
   "metadata": {},
   "outputs": [
    {
     "data": {
      "text/plain": [
       "['Geoff Podger', 'Robert Power', 'Shane Seaton', 'Ang Yang']"
      ]
     },
     "execution_count": 24,
     "metadata": {},
     "output_type": "execute_result"
    }
   ],
   "source": [
    "author_names = single_publication['author_names']\n",
    "author_names_list = get_author_names_list(author_names)\n",
    "author_names_list"
   ]
  },
  {
   "cell_type": "code",
   "execution_count": 25,
   "id": "603de263-a157-4385-b78c-637963f3704f",
   "metadata": {},
   "outputs": [
    {
     "data": {
      "text/plain": [
       "'Geoff Podger'"
      ]
     },
     "execution_count": 25,
     "metadata": {},
     "output_type": "execute_result"
    }
   ],
   "source": [
    "# grab a single author name from the list of authors\n",
    "single_author = author_names_list[0]\n",
    "single_author"
   ]
  },
  {
   "cell_type": "code",
   "execution_count": 26,
   "id": "01e2e2c7-45f3-4cbb-9911-63d17548eae3",
   "metadata": {},
   "outputs": [
    {
     "data": {
      "text/plain": [
       "('Geoff', None, 'Podger')"
      ]
     },
     "execution_count": 26,
     "metadata": {},
     "output_type": "execute_result"
    }
   ],
   "source": [
    "## Extract the first, middle, and last name\n",
    "names = single_author.split(' ')\n",
    "first_name = names[0]\n",
    "last_name = names[-1]\n",
    "middle_name = ' '.join(names[1:-1]) if len(names) > 2 else None\n",
    "\n",
    "(first_name, middle_name, last_name)"
   ]
  },
  {
   "cell_type": "markdown",
   "id": "db3c1913-ba85-461a-b644-0207a262ea14",
   "metadata": {},
   "source": [
    "That looks good! Let's put all that logic in a function we can reuse."
   ]
  },
  {
   "cell_type": "code",
   "execution_count": 27,
   "id": "dbd9ed87-46f2-4ea2-aeec-30cd94e0c88f",
   "metadata": {},
   "outputs": [],
   "source": [
    "#| export\n",
    "def extract_names(full_name):\n",
    "    names = full_name.split(' ')\n",
    "    first_name = names[0]\n",
    "    last_name = names[-1]\n",
    "    middle_name = ' '.join(names[1:-1]) if len(names) > 2 else None\n",
    "\n",
    "    return (first_name, middle_name, last_name)"
   ]
  },
  {
   "cell_type": "markdown",
   "id": "d4df9034-441b-4c15-bb83-2b49d9563a49",
   "metadata": {},
   "source": [
    "Let's try running that on 'Geoff Podger' again and see if we get the same result."
   ]
  },
  {
   "cell_type": "code",
   "execution_count": 28,
   "id": "e69ab39e-f0ed-42b5-a6cc-4dfbb069fe05",
   "metadata": {},
   "outputs": [
    {
     "data": {
      "text/plain": [
       "('Geoff', None, 'Podger')"
      ]
     },
     "execution_count": 28,
     "metadata": {},
     "output_type": "execute_result"
    }
   ],
   "source": [
    "extract_names(single_author)"
   ]
  },
  {
   "cell_type": "markdown",
   "id": "af4188d5-10e1-46ea-96aa-56792985c8e2",
   "metadata": {},
   "source": [
    "Nice! Now let's use that return value to create a new Author object."
   ]
  },
  {
   "cell_type": "code",
   "execution_count": 29,
   "id": "349262d6-c017-4bb5-b3c8-ee04b9a5879d",
   "metadata": {},
   "outputs": [],
   "source": [
    "class Author:\n",
    "    \n",
    "    # Static variable to keep track of author ids\n",
    "    author_id_counter = 1\n",
    "    \n",
    "    def __init__(self, first, middle, last, email=None):\n",
    "        # TODO: keep track and add author ids\n",
    "        # you can use a regular variable somewhere or try out using a static variable, whatever you want\n",
    "    \n",
    "        # Generate a unique author id\n",
    "        self.id = Author.author_id_counter\n",
    "        Author.author_id_counter += 1\n",
    "        \n",
    "        self.first = first\n",
    "        self.middle = middle\n",
    "        self.last = last\n",
    "        self.email = email\n",
    "        self.publications = []\n",
    "        \n",
    "    def __repr__(self):\n",
    "        dictionary = vars(self)\n",
    "        dictionary['pub_ids'] = [pub.id for pub in self.publications]\n",
    "        return pprint.pformat(dictionary, indent=4)"
   ]
  },
  {
   "cell_type": "markdown",
   "id": "f927e344-3a40-4fb3-a055-560c2e299694",
   "metadata": {},
   "source": [
    "Notice that our `extract_names` function returns a tuple. We can assign each index in the tuple to a separate variable like this..."
   ]
  },
  {
   "cell_type": "code",
   "execution_count": 30,
   "id": "17a974ef-3257-4185-a936-fcd42164f4f7",
   "metadata": {},
   "outputs": [],
   "source": [
    "first, middle, last = extract_names(single_author)"
   ]
  },
  {
   "cell_type": "markdown",
   "id": "24e0de0a-7230-4c1c-a341-bbb337771304",
   "metadata": {},
   "source": [
    "Run the cells below just to check that they are, in fact, their own variables."
   ]
  },
  {
   "cell_type": "code",
   "execution_count": 31,
   "id": "2a29b4f3-4136-4cd0-94f6-9ee3a2e48e96",
   "metadata": {},
   "outputs": [
    {
     "data": {
      "text/plain": [
       "'Geoff'"
      ]
     },
     "execution_count": 31,
     "metadata": {},
     "output_type": "execute_result"
    }
   ],
   "source": [
    "first"
   ]
  },
  {
   "cell_type": "code",
   "execution_count": 32,
   "id": "3f55c741-9297-4721-a7bc-a41714c03f31",
   "metadata": {},
   "outputs": [],
   "source": [
    "middle"
   ]
  },
  {
   "cell_type": "code",
   "execution_count": 33,
   "id": "4a0bab07-bdb4-4084-ba92-778e169eb5ec",
   "metadata": {},
   "outputs": [
    {
     "data": {
      "text/plain": [
       "'Podger'"
      ]
     },
     "execution_count": 33,
     "metadata": {},
     "output_type": "execute_result"
    }
   ],
   "source": [
    "last"
   ]
  },
  {
   "cell_type": "code",
   "execution_count": 34,
   "id": "446148f1-5fc8-494f-a96a-a43861bae569",
   "metadata": {},
   "outputs": [
    {
     "data": {
      "text/plain": [
       "{   'email': None,\n",
       "    'first': 'Geoff',\n",
       "    'id': 1,\n",
       "    'last': 'Podger',\n",
       "    'middle': None,\n",
       "    'pub_ids': [],\n",
       "    'publications': []}"
      ]
     },
     "execution_count": 34,
     "metadata": {},
     "output_type": "execute_result"
    }
   ],
   "source": [
    "author = Author(first, middle, last)\n",
    "author"
   ]
  },
  {
   "cell_type": "code",
   "execution_count": 39,
   "id": "1c4bafca-d784-4345-9d21-065b4f7d7df4",
   "metadata": {},
   "outputs": [],
   "source": [
    "# TODO: add the publication to the the author's publication attribute\n",
    "# Add the publication to the list of publications\n",
    "publication_list = []\n",
    "publication_list.append(publication)\n",
    "    \n",
    "    # Split the authors string by ',' to get individual authors\n",
    "authors = single_publication['author_names'].split(',')\n",
    "    \n",
    "    # Iterate over the authors and create an Author object for each\n",
    "for author_name in authors:\n",
    "    author_name = author_name.strip()  # Remove leading/trailing whitespaces if any\n",
    "        \n",
    "        # Create an Author object\n",
    "    author = Author(first='', middle='', last='')  # Replace the empty strings with actual values if available\n",
    "        \n",
    "        # Add the Publication to the Author's list of publications\n",
    "    author.publications.append(publication)\n",
    "        "
   ]
  },
  {
   "cell_type": "code",
   "execution_count": 42,
   "id": "a5e930e6-4a39-403d-8af7-c3d931e19844",
   "metadata": {},
   "outputs": [],
   "source": [
    "# TODO: add the publication to the author's publication attribute\n",
    "def add_publication(self, publication):\n",
    "    self.publications.append(publication)"
   ]
  },
  {
   "cell_type": "markdown",
   "id": "e64cf090-b5ba-4c14-b6be-a9c6ec3861bb",
   "metadata": {},
   "source": [
    "## Review\n",
    "\n",
    "Let's put everything we did all together."
   ]
  },
  {
   "cell_type": "code",
   "execution_count": 41,
   "id": "4549e505-9962-4aff-8c72-feaa6ae2c638",
   "metadata": {},
   "outputs": [
    {
     "data": {
      "text/plain": [
       "id                                                                   1.0\n",
       "title                  A river system modelling platform for Murray-D...\n",
       "contact_email                                          ang.yang@csiro.au\n",
       "contact_author_name                                             Ang Yang\n",
       "doi                                               10.2166/hydro.2012.153\n",
       "author_names           ['Geoff Podger', 'Robert Power', 'Shane Seaton...\n",
       "Name: 0, dtype: object"
      ]
     },
     "execution_count": 41,
     "metadata": {},
     "output_type": "execute_result"
    }
   ],
   "source": [
    "single_publication = df.loc[0]\n",
    "single_publication"
   ]
  },
  {
   "cell_type": "code",
   "execution_count": 43,
   "id": "8cda7c79-6ed0-41d0-b1f7-bffc7a327f77",
   "metadata": {},
   "outputs": [
    {
     "data": {
      "text/plain": [
       "\"['Geoff Podger', 'Robert Power', 'Shane Seaton', 'Ang Yang']\""
      ]
     },
     "execution_count": 43,
     "metadata": {},
     "output_type": "execute_result"
    }
   ],
   "source": [
    "author_names = single_publication['author_names']\n",
    "author_names"
   ]
  },
  {
   "cell_type": "code",
   "execution_count": 44,
   "id": "8a9bc963-e46c-4c7b-817e-bca1bdf429c8",
   "metadata": {},
   "outputs": [
    {
     "data": {
      "text/plain": [
       "['Geoff Podger', 'Robert Power', 'Shane Seaton', 'Ang Yang']"
      ]
     },
     "execution_count": 44,
     "metadata": {},
     "output_type": "execute_result"
    }
   ],
   "source": [
    "author_names_list = get_author_names_list(author_names)\n",
    "author_names_list"
   ]
  },
  {
   "cell_type": "code",
   "execution_count": 45,
   "id": "c72a6c0c-7c9d-4537-9a15-a99f6643bc5a",
   "metadata": {},
   "outputs": [],
   "source": [
    "first_author = author_names_list[0]"
   ]
  },
  {
   "cell_type": "code",
   "execution_count": 46,
   "id": "5d715226-f8ae-4334-b9a7-6b0f4d70e43d",
   "metadata": {},
   "outputs": [
    {
     "data": {
      "text/plain": [
       "('Geoff', None, 'Podger')"
      ]
     },
     "execution_count": 46,
     "metadata": {},
     "output_type": "execute_result"
    }
   ],
   "source": [
    "first, middle, last = extract_names(first_author)\n",
    "(first, middle, last)"
   ]
  },
  {
   "cell_type": "code",
   "execution_count": 47,
   "id": "c02ff159-6423-4c7f-be81-473d982b7761",
   "metadata": {},
   "outputs": [
    {
     "data": {
      "text/plain": [
       "{   'email': None,\n",
       "    'first': 'Geoff',\n",
       "    'id': 6,\n",
       "    'last': 'Podger',\n",
       "    'middle': None,\n",
       "    'pub_ids': [],\n",
       "    'publications': []}"
      ]
     },
     "execution_count": 47,
     "metadata": {},
     "output_type": "execute_result"
    }
   ],
   "source": [
    "author = Author(first, middle, last)\n",
    "author"
   ]
  },
  {
   "cell_type": "markdown",
   "id": "cbee508e-73de-4828-a7f5-00fde34f9635",
   "metadata": {},
   "source": [
    "## Create an Author for ***every*** author listed in the first publication\n",
    "\n",
    "1. Get the publication from first row\n",
    "2. Create a Publication object and add it to a list of publications\n",
    "3. Get the author list as a string\n",
    "4. Transform the string into a list\n",
    "5. Extract the first, middle, and last name to create a single author object for every author in list\n",
    "6. Add the Publication to the the Author's publication attribute\n",
    "\n",
    "All the steps are the same, except we want to turn the last step into a loop so we turn every author in the list into an author object."
   ]
  },
  {
   "cell_type": "code",
   "execution_count": 48,
   "id": "ac066084-d89f-4bcd-b2c2-c3a00329754c",
   "metadata": {},
   "outputs": [
    {
     "data": {
      "text/plain": [
       "id                                                                   1.0\n",
       "title                  A river system modelling platform for Murray-D...\n",
       "contact_email                                          ang.yang@csiro.au\n",
       "contact_author_name                                             Ang Yang\n",
       "doi                                               10.2166/hydro.2012.153\n",
       "author_names           ['Geoff Podger', 'Robert Power', 'Shane Seaton...\n",
       "Name: 0, dtype: object"
      ]
     },
     "execution_count": 48,
     "metadata": {},
     "output_type": "execute_result"
    }
   ],
   "source": [
    "# 1. Get the publication from first row\n",
    "single_publication = df.loc[0]\n",
    "single_publication"
   ]
  },
  {
   "cell_type": "code",
   "execution_count": 49,
   "id": "5ba4dca9-4fae-4d94-bbde-b1e3adaf5792",
   "metadata": {},
   "outputs": [],
   "source": [
    "publication_list = [] # list of Publication objects"
   ]
  },
  {
   "cell_type": "code",
   "execution_count": 51,
   "id": "14ec44d8-5da5-4eaf-8328-68881884a8e6",
   "metadata": {},
   "outputs": [],
   "source": [
    "# 2. TODO: Create a Publication object and add it to a list of publications (DONE)\n",
    "publication = Publication(id=single_publication['id'], title=single_publication['title'], doi=single_publication['doi'])\n",
    "\n",
    "publication_list.append(publication)"
   ]
  },
  {
   "cell_type": "code",
   "execution_count": 52,
   "id": "a254a90f-db32-4f26-b7b6-f0bcd6f89c98",
   "metadata": {},
   "outputs": [
    {
     "data": {
      "text/plain": [
       "\"['Geoff Podger', 'Robert Power', 'Shane Seaton', 'Ang Yang']\""
      ]
     },
     "execution_count": 52,
     "metadata": {},
     "output_type": "execute_result"
    }
   ],
   "source": [
    "# 2. Get the author list as a string\n",
    "author_names = single_publication['author_names']\n",
    "author_names"
   ]
  },
  {
   "cell_type": "code",
   "execution_count": 53,
   "id": "e4f8117c-c0d4-438b-95fc-0446f0156d82",
   "metadata": {},
   "outputs": [
    {
     "data": {
      "text/plain": [
       "['Geoff Podger', 'Robert Power', 'Shane Seaton', 'Ang Yang']"
      ]
     },
     "execution_count": 53,
     "metadata": {},
     "output_type": "execute_result"
    }
   ],
   "source": [
    "# 3. Transform the string into a list\n",
    "author_names_list = get_author_names_list(author_names)\n",
    "author_names_list"
   ]
  },
  {
   "cell_type": "code",
   "execution_count": 54,
   "id": "123c1d6e-96ec-4566-9626-6b68191e0d24",
   "metadata": {},
   "outputs": [],
   "source": [
    "# 4. For each author name in list, extract the first, middle, and last name to create a single author object\n",
    "\n",
    "author_list = [] # list of Author objects"
   ]
  },
  {
   "cell_type": "code",
   "execution_count": 55,
   "id": "bfbede17-cbae-47f3-9d9b-f73a06efcf37",
   "metadata": {},
   "outputs": [],
   "source": [
    "for author_string in author_names_list:\n",
    "    # Extract first, middle, and last name from each author string\n",
    "    first_name, middle_name, last_name = extract_names(author_string)\n",
    "\n",
    "    # Create an Author object\n",
    "    author = Author(first_name, middle_name, last_name)\n",
    "\n",
    "    # TODO: add the publication to the author's publication attribute\n",
    "    author.publications.append(publication)\n",
    "   \n",
    "    # Add the author to the author list\n",
    "    author_list.append(author)"
   ]
  },
  {
   "cell_type": "code",
   "execution_count": 56,
   "id": "153b6fe6-1e0f-4772-ba5b-192796e557f5",
   "metadata": {},
   "outputs": [
    {
     "data": {
      "text/plain": [
       "[{   'email': None,\n",
       "     'first': 'Geoff',\n",
       "     'id': 7,\n",
       "     'last': 'Podger',\n",
       "     'middle': None,\n",
       "     'pub_ids': [1.0],\n",
       "     'publications': [<__main__.Publication object at 0x15b87cd50>]},\n",
       " {   'email': None,\n",
       "     'first': 'Robert',\n",
       "     'id': 8,\n",
       "     'last': 'Power',\n",
       "     'middle': None,\n",
       "     'pub_ids': [1.0],\n",
       "     'publications': [<__main__.Publication object at 0x15b87cd50>]},\n",
       " {   'email': None,\n",
       "     'first': 'Shane',\n",
       "     'id': 9,\n",
       "     'last': 'Seaton',\n",
       "     'middle': None,\n",
       "     'pub_ids': [1.0],\n",
       "     'publications': [<__main__.Publication object at 0x15b87cd50>]},\n",
       " {   'email': None,\n",
       "     'first': 'Ang',\n",
       "     'id': 10,\n",
       "     'last': 'Yang',\n",
       "     'middle': None,\n",
       "     'pub_ids': [1.0],\n",
       "     'publications': [<__main__.Publication object at 0x15b87cd50>]}]"
      ]
     },
     "execution_count": 56,
     "metadata": {},
     "output_type": "execute_result"
    }
   ],
   "source": [
    "author_list"
   ]
  },
  {
   "cell_type": "markdown",
   "id": "0e64377b-072e-4ca1-aa6a-81984fa3451c",
   "metadata": {},
   "source": [
    "## Create an Author for every author listed in the first publication ***and*** add an email if that author is also the contact author\n",
    "\n",
    "1. Create an Author object for the contact author\n",
    "2. Write a function that compares the author to the contact author to see if they are the same\n",
    "3. If they are the same, add the contact author email to the author"
   ]
  },
  {
   "cell_type": "code",
   "execution_count": 57,
   "id": "ec40c81e-4982-4830-b4c2-af69fe4a747b",
   "metadata": {},
   "outputs": [],
   "source": [
    "## Check if the contact author matches a sigle author"
   ]
  },
  {
   "cell_type": "code",
   "execution_count": 125,
   "id": "8c00e3bb-bb2d-4675-88bf-da7722094898",
   "metadata": {},
   "outputs": [
    {
     "data": {
      "text/plain": [
       "id                                                                   2.0\n",
       "title                  Impact of Regulation and Network Topology on E...\n",
       "contact_email                                                lei@umd.edu\n",
       "contact_author_name                                            Lei Zhang\n",
       "doi                                                      10.3141/2297-21\n",
       "author_names                         ['Dilya Yusufzyanova', 'Lei Zhang']\n",
       "Name: 1, dtype: object"
      ]
     },
     "execution_count": 125,
     "metadata": {},
     "output_type": "execute_result"
    }
   ],
   "source": [
    "single_publication = df.loc[1]\n",
    "single_publication"
   ]
  },
  {
   "cell_type": "code",
   "execution_count": 126,
   "id": "eb067d28-80a6-4bfc-877c-1c636c4490c5",
   "metadata": {},
   "outputs": [
    {
     "data": {
      "text/plain": [
       "'Lei Zhang'"
      ]
     },
     "execution_count": 126,
     "metadata": {},
     "output_type": "execute_result"
    }
   ],
   "source": [
    "# get contact author name from single_publication\n",
    "contact_author_name = single_publication['contact_author_name']\n",
    "contact_author_name"
   ]
  },
  {
   "cell_type": "code",
   "execution_count": 127,
   "id": "f5231863-3f51-4e8b-beec-1d043a93283f",
   "metadata": {},
   "outputs": [
    {
     "data": {
      "text/plain": [
       "('Lei', None, 'Zhang')"
      ]
     },
     "execution_count": 127,
     "metadata": {},
     "output_type": "execute_result"
    }
   ],
   "source": [
    "# use a function to extract the first, middle, and last names of the contact author\n",
    "contact_first, contact_middle, contact_last = extract_names(contact_author_name)\n",
    "contact_first, contact_middle, contact_last"
   ]
  },
  {
   "cell_type": "code",
   "execution_count": 128,
   "id": "46a5bdbc-5dec-4810-a17f-915aaae9128b",
   "metadata": {},
   "outputs": [
    {
     "data": {
      "text/plain": [
       "'lei@umd.edu'"
      ]
     },
     "execution_count": 128,
     "metadata": {},
     "output_type": "execute_result"
    }
   ],
   "source": [
    "single_publication['contact_email']\n"
   ]
  },
  {
   "cell_type": "code",
   "execution_count": 129,
   "id": "2766bd60-3a0b-409c-a627-9c47e2f5154a",
   "metadata": {},
   "outputs": [
    {
     "data": {
      "text/plain": [
       "0     ang.yang@csiro.au\n",
       "1           lei@umd.edu\n",
       "2     msqalli@yahoo.com\n",
       "3       tay@udayton.edu\n",
       "4    fthomas@mpl.ird.fr\n",
       "Name: contact_email, dtype: object"
      ]
     },
     "execution_count": 129,
     "metadata": {},
     "output_type": "execute_result"
    }
   ],
   "source": [
    "df_small['contact_email']"
   ]
  },
  {
   "cell_type": "code",
   "execution_count": 130,
   "id": "bbfd95b8-4e11-45ca-84e1-cc9b59c86b0e",
   "metadata": {},
   "outputs": [
    {
     "data": {
      "text/plain": [
       "'lei@umd.edu'"
      ]
     },
     "execution_count": 130,
     "metadata": {},
     "output_type": "execute_result"
    }
   ],
   "source": [
    "# get the contact email for the contact author\n",
    "contact_author_email = single_publication['contact_email']\n",
    "contact_author_email"
   ]
  },
  {
   "cell_type": "code",
   "execution_count": 131,
   "id": "ade2ff4e-1d8a-48c3-b325-7389b57580c1",
   "metadata": {},
   "outputs": [
    {
     "data": {
      "text/plain": [
       "'lei@umd.edu'"
      ]
     },
     "execution_count": 131,
     "metadata": {},
     "output_type": "execute_result"
    }
   ],
   "source": [
    "# get the contact email for the contact author\n",
    "contact_author_email = single_publication['contact_email']\n",
    "contact_author_email"
   ]
  },
  {
   "cell_type": "code",
   "execution_count": 132,
   "id": "98ddd0ee-ca57-4758-81c2-75dd2fbcac6b",
   "metadata": {},
   "outputs": [
    {
     "data": {
      "text/plain": [
       "{   'email': 'lei@umd.edu',\n",
       "    'first': 'Lei',\n",
       "    'id': 95,\n",
       "    'last': 'Zhang',\n",
       "    'middle': None,\n",
       "    'pub_ids': [],\n",
       "    'publications': []}"
      ]
     },
     "execution_count": 132,
     "metadata": {},
     "output_type": "execute_result"
    }
   ],
   "source": [
    "# create an Author object for the contact author\n",
    "\n",
    "contact_author = Author(contact_first, contact_middle, contact_last, contact_author_email)\n",
    "contact_author"
   ]
  },
  {
   "cell_type": "markdown",
   "id": "b5f0d253-5b79-440e-82e8-fa2f74b1a7b7",
   "metadata": {},
   "source": [
    "Let's save the author that matchs the contact author."
   ]
  },
  {
   "cell_type": "code",
   "execution_count": 137,
   "id": "d7c41e3f-d1a8-4b66-b467-55d922e9aeb8",
   "metadata": {},
   "outputs": [
    {
     "data": {
      "text/plain": [
       "{   'email': None,\n",
       "    'first': 'Lei',\n",
       "    'id': 82,\n",
       "    'last': 'Zhang',\n",
       "    'middle': None,\n",
       "    'pub_ids': [2.0],\n",
       "    'publications': [<__main__.Publication object at 0x15bb27350>]}"
      ]
     },
     "execution_count": 137,
     "metadata": {},
     "output_type": "execute_result"
    }
   ],
   "source": [
    "fourth_author = author_list[5]\n",
    "fourth_author"
   ]
  },
  {
   "cell_type": "code",
   "execution_count": 138,
   "id": "b72da6d5-f62e-4b03-9ea6-a6f896017706",
   "metadata": {},
   "outputs": [
    {
     "data": {
      "text/plain": [
       "True"
      ]
     },
     "execution_count": 138,
     "metadata": {},
     "output_type": "execute_result"
    }
   ],
   "source": [
    "fourth_author.first == contact_author.first \\\n",
    "    and fourth_author.middle == contact_author.middle \\\n",
    "    and fourth_author.last == contact_author.last"
   ]
  },
  {
   "cell_type": "markdown",
   "id": "d1309364-f9a0-4011-8762-81f4ff399fa6",
   "metadata": {},
   "source": [
    "Write a function that compares an author to the contact author and returns True if there is a match. We will call this function `__eq__`, because it is a special dunder method that allows us to compare two objects with a double equal sign (`==`). We will see how this function works when we integrate it into our class later. "
   ]
  },
  {
   "cell_type": "code",
   "execution_count": 139,
   "id": "4d13b69c-fe5b-493e-b639-4198d2d95854",
   "metadata": {},
   "outputs": [],
   "source": [
    "def __eq__(author, contact_author):\n",
    "\n",
    "    return author.first == contact_author.first and author.middle == contact_author.middle and author.last == contact_author.last\n",
    "   \n"
   ]
  },
  {
   "cell_type": "code",
   "execution_count": 140,
   "id": "ccd95412-8d6e-47c5-813e-70ff046bd45c",
   "metadata": {},
   "outputs": [
    {
     "data": {
      "text/plain": [
       "True"
      ]
     },
     "execution_count": 140,
     "metadata": {},
     "output_type": "execute_result"
    }
   ],
   "source": [
    "__eq__(author_list[5], contact_author)"
   ]
  },
  {
   "cell_type": "markdown",
   "id": "e894c0e5-c8e2-4525-9ae6-5fd70a57ba8c",
   "metadata": {},
   "source": [
    "Does it return `True`? Now let's try one we know is not a match and should return `False`. "
   ]
  },
  {
   "cell_type": "code",
   "execution_count": 141,
   "id": "d67cc855-8a22-40f3-a96b-9e2dc9459a95",
   "metadata": {},
   "outputs": [
    {
     "data": {
      "text/plain": [
       "{   'email': None,\n",
       "    'first': 'Lei',\n",
       "    'id': 82,\n",
       "    'last': 'Zhang',\n",
       "    'middle': None,\n",
       "    'pub_ids': [2.0],\n",
       "    'publications': [<__main__.Publication object at 0x15bb27350>]}"
      ]
     },
     "execution_count": 141,
     "metadata": {},
     "output_type": "execute_result"
    }
   ],
   "source": [
    "author_list[5]"
   ]
  },
  {
   "cell_type": "code",
   "execution_count": 143,
   "id": "f7cf1f37-534e-441b-9cd6-d523f3637fc2",
   "metadata": {},
   "outputs": [
    {
     "data": {
      "text/plain": [
       "False"
      ]
     },
     "execution_count": 143,
     "metadata": {},
     "output_type": "execute_result"
    }
   ],
   "source": [
    "__eq__(author_list[0], contact_author)"
   ]
  },
  {
   "cell_type": "markdown",
   "id": "e048e672-1e8b-456c-9d21-6dbe5a3ef780",
   "metadata": {},
   "source": [
    "Finally, when we do find a match between an author and a contact author, we want to use the contact author information to add information to the author. We could do it like this..."
   ]
  },
  {
   "cell_type": "code",
   "execution_count": 144,
   "id": "d80eba46-d1b0-442a-8e45-f554072d42f4",
   "metadata": {},
   "outputs": [],
   "source": [
    "if __eq__(fourth_author, contact_author):\n",
    "    fourth_author.email = contact_author.email"
   ]
  },
  {
   "cell_type": "markdown",
   "id": "c1ef9809-3ea0-4a18-bf5f-23880064fc7c",
   "metadata": {},
   "source": [
    "... and we can see that it works because the email is now there."
   ]
  },
  {
   "cell_type": "code",
   "execution_count": 145,
   "id": "7b3dd61e-e0a4-4f59-a0fb-a3de72e70ded",
   "metadata": {},
   "outputs": [
    {
     "data": {
      "text/plain": [
       "{   'email': 'lei@umd.edu',\n",
       "    'first': 'Lei',\n",
       "    'id': 82,\n",
       "    'last': 'Zhang',\n",
       "    'middle': None,\n",
       "    'pub_ids': [2.0],\n",
       "    'publications': [<__main__.Publication object at 0x15bb27350>]}"
      ]
     },
     "execution_count": 145,
     "metadata": {},
     "output_type": "execute_result"
    }
   ],
   "source": [
    "fourth_author"
   ]
  },
  {
   "cell_type": "code",
   "execution_count": 146,
   "id": "5be1578d-90f7-49d0-a195-cdeb0d5ead96",
   "metadata": {},
   "outputs": [
    {
     "data": {
      "text/plain": [
       "{   'email': 'lei@umd.edu',\n",
       "    'first': 'Lei',\n",
       "    'id': 95,\n",
       "    'last': 'Zhang',\n",
       "    'middle': None,\n",
       "    'pub_ids': [],\n",
       "    'publications': []}"
      ]
     },
     "execution_count": 146,
     "metadata": {},
     "output_type": "execute_result"
    }
   ],
   "source": [
    "contact_author"
   ]
  },
  {
   "cell_type": "markdown",
   "id": "9c6d2574-5cdd-4e57-a342-1c3a8f3db84c",
   "metadata": {},
   "source": [
    "But later down the line, we might want to also update the middle name or something as well. So we need to write a function to accomodate these future changes. Also, we want to add some validation to check that the two authors do actually share a name before we merge their information together."
   ]
  },
  {
   "cell_type": "code",
   "execution_count": 86,
   "id": "7eed6934-6883-4742-a287-e0a997438377",
   "metadata": {},
   "outputs": [],
   "source": [
    "def add_contact_author_info(author, contact_author):\n",
    "    if not __eq__(author, contact_author):\n",
    "        raise Exception('not a match')\n",
    "    else: \n",
    "        #author_list.append(contact_author_email)\n",
    "        author.email = contact_author.email"
   ]
  },
  {
   "cell_type": "markdown",
   "id": "3ae50c00-3840-429a-81eb-1b6f90c2d512",
   "metadata": {},
   "source": [
    "Does it work? Let's try it for an author that we known matchs..."
   ]
  },
  {
   "cell_type": "code",
   "execution_count": 87,
   "id": "4a266056-4ecc-462f-a9e4-0cb4698b81fb",
   "metadata": {},
   "outputs": [],
   "source": [
    "add_contact_author_info(fourth_author, contact_author)"
   ]
  },
  {
   "cell_type": "code",
   "execution_count": 88,
   "id": "89fd4e4c-1fa2-44a5-81cf-8a253ba7d0a8",
   "metadata": {},
   "outputs": [
    {
     "data": {
      "text/plain": [
       "{   'email': 'ang.yang@csiro.au',\n",
       "    'first': 'Ang',\n",
       "    'id': 10,\n",
       "    'last': 'Yang',\n",
       "    'middle': None,\n",
       "    'pub_ids': [1.0],\n",
       "    'publications': [<__main__.Publication object at 0x15b87cd50>]}"
      ]
     },
     "execution_count": 88,
     "metadata": {},
     "output_type": "execute_result"
    }
   ],
   "source": [
    "fourth_author"
   ]
  },
  {
   "cell_type": "markdown",
   "id": "6603e42f-3a30-4479-a3ea-830f9b8e441b",
   "metadata": {},
   "source": [
    "And one that doesn't. The following code should throw an error..."
   ]
  },
  {
   "cell_type": "code",
   "execution_count": 89,
   "id": "48350baa-d007-42e9-9795-9c5fea124a45",
   "metadata": {},
   "outputs": [
    {
     "ename": "Exception",
     "evalue": "not a match",
     "output_type": "error",
     "traceback": [
      "\u001b[0;31mException\u001b[0m\u001b[0;31m:\u001b[0m not a match\n"
     ]
    }
   ],
   "source": [
    "add_contact_author_info(author_list[0], contact_author)"
   ]
  },
  {
   "cell_type": "markdown",
   "id": "e550f00f-fd3f-4415-9b03-c2dc74e9ff5f",
   "metadata": {},
   "source": [
    "Okay! Now the only thing left to do is to put this all together in our loop. Take what you had before, but add a few lines to check if the new author and the contact author are the same. If they are, you need to add the contact author info to the new author. Use the commented code below to do it. \n",
    "\n",
    "**Don't forget to use** `__eq__` **and** `add_contact_author_info`**!**"
   ]
  },
  {
   "cell_type": "code",
   "execution_count": 90,
   "id": "de7e24c3-49c8-4a29-8113-b0ed9e9e12ef",
   "metadata": {},
   "outputs": [
    {
     "name": "stdout",
     "output_type": "stream",
     "text": [
      "Not a match\n",
      "Not a match\n",
      "Not a match\n",
      "Done\n"
     ]
    }
   ],
   "source": [
    "for author_string in author_names_list:\n",
    "    # extract first, middle, and last name from each author string\n",
    "    # TODO: replace the code below with a function: DONE\n",
    "    first_name, middle_name, last_name = extract_names(author_string)\n",
    "    \n",
    "    # create an Author object\n",
    "    author = Author(first_name, middle_name, last_name)\n",
    "    \n",
    "    # TODO: add publication to author's publication list: DONE?\n",
    "    author.publications.append(publication)\n",
    "    \n",
    "    if not __eq__(author, contact_author): \n",
    "        print (\"Not a match\")\n",
    "    else:\n",
    "        # add the author to the author list\n",
    "        add_contact_author_info(author, contact_author)\n",
    "        print(\"Done\")"
   ]
  },
  {
   "cell_type": "markdown",
   "id": "bc4bedac-7891-4a00-bb1a-b5d5464344c5",
   "metadata": {},
   "source": [
    "## ***For every publication...*** create a Publication and an Author for every author in the list and add an email if that author is also the contact author\n"
   ]
  },
  {
   "cell_type": "markdown",
   "id": "3c749e3d-62a9-4629-a670-1717113a820e",
   "metadata": {},
   "source": [
    "The next step is to run the loop above for every single row in `df_small`. If you want, you can get started on that below."
   ]
  },
  {
   "cell_type": "code",
   "execution_count": 91,
   "id": "6e24841f-251a-4492-a091-3e27a4ed6d5f",
   "metadata": {},
   "outputs": [
    {
     "data": {
      "text/html": [
       "<div>\n",
       "<style scoped>\n",
       "    .dataframe tbody tr th:only-of-type {\n",
       "        vertical-align: middle;\n",
       "    }\n",
       "\n",
       "    .dataframe tbody tr th {\n",
       "        vertical-align: top;\n",
       "    }\n",
       "\n",
       "    .dataframe thead th {\n",
       "        text-align: right;\n",
       "    }\n",
       "</style>\n",
       "<table border=\"1\" class=\"dataframe\">\n",
       "  <thead>\n",
       "    <tr style=\"text-align: right;\">\n",
       "      <th></th>\n",
       "      <th>id</th>\n",
       "      <th>title</th>\n",
       "      <th>contact_email</th>\n",
       "      <th>contact_author_name</th>\n",
       "      <th>doi</th>\n",
       "      <th>author_names</th>\n",
       "    </tr>\n",
       "  </thead>\n",
       "  <tbody>\n",
       "    <tr>\n",
       "      <th>0</th>\n",
       "      <td>1.0</td>\n",
       "      <td>A river system modelling platform for Murray-D...</td>\n",
       "      <td>ang.yang@csiro.au</td>\n",
       "      <td>Ang Yang</td>\n",
       "      <td>10.2166/hydro.2012.153</td>\n",
       "      <td>['Geoff Podger', 'Robert Power', 'Shane Seaton...</td>\n",
       "    </tr>\n",
       "    <tr>\n",
       "      <th>1</th>\n",
       "      <td>2.0</td>\n",
       "      <td>Impact of Regulation and Network Topology on E...</td>\n",
       "      <td>lei@umd.edu</td>\n",
       "      <td>Lei Zhang</td>\n",
       "      <td>10.3141/2297-21</td>\n",
       "      <td>['Dilya Yusufzyanova', 'Lei Zhang']</td>\n",
       "    </tr>\n",
       "    <tr>\n",
       "      <th>2</th>\n",
       "      <td>3.0</td>\n",
       "      <td>Simulating Rural Environmentally and Socio-Eco...</td>\n",
       "      <td>msqalli@yahoo.com</td>\n",
       "      <td>Mehdi Saqalli</td>\n",
       "      <td>NaN</td>\n",
       "      <td>['Charles L. Bielders', 'Pierre Defourny', 'Br...</td>\n",
       "    </tr>\n",
       "    <tr>\n",
       "      <th>3</th>\n",
       "      <td>4.0</td>\n",
       "      <td>A preliminary test of Hunt's General Theory of...</td>\n",
       "      <td>tay@udayton.edu</td>\n",
       "      <td>N.S.P Tay</td>\n",
       "      <td>10.1016/j.jbusres.2004.04.005</td>\n",
       "      <td>['RF Lusch', 'NSP Tay']</td>\n",
       "    </tr>\n",
       "    <tr>\n",
       "      <th>4</th>\n",
       "      <td>5.0</td>\n",
       "      <td>Human birthweight evolution across contrasting...</td>\n",
       "      <td>fthomas@mpl.ird.fr</td>\n",
       "      <td>FrÃ©dÃ©ric Thomas</td>\n",
       "      <td>10.1111/j.1420-9101.2004.00705.x</td>\n",
       "      <td>['SP Brown', 'EV Budilova', 'JF Guegan', 'F Re...</td>\n",
       "    </tr>\n",
       "  </tbody>\n",
       "</table>\n",
       "</div>"
      ],
      "text/plain": [
       "    id                                              title       contact_email  \\\n",
       "0  1.0  A river system modelling platform for Murray-D...   ang.yang@csiro.au   \n",
       "1  2.0  Impact of Regulation and Network Topology on E...         lei@umd.edu   \n",
       "2  3.0  Simulating Rural Environmentally and Socio-Eco...   msqalli@yahoo.com   \n",
       "3  4.0  A preliminary test of Hunt's General Theory of...     tay@udayton.edu   \n",
       "4  5.0  Human birthweight evolution across contrasting...  fthomas@mpl.ird.fr   \n",
       "\n",
       "  contact_author_name                               doi  \\\n",
       "0            Ang Yang            10.2166/hydro.2012.153   \n",
       "1           Lei Zhang                   10.3141/2297-21   \n",
       "2       Mehdi Saqalli                               NaN   \n",
       "3           N.S.P Tay     10.1016/j.jbusres.2004.04.005   \n",
       "4   FrÃ©dÃ©ric Thomas  10.1111/j.1420-9101.2004.00705.x   \n",
       "\n",
       "                                        author_names  \n",
       "0  ['Geoff Podger', 'Robert Power', 'Shane Seaton...  \n",
       "1                ['Dilya Yusufzyanova', 'Lei Zhang']  \n",
       "2  ['Charles L. Bielders', 'Pierre Defourny', 'Br...  \n",
       "3                            ['RF Lusch', 'NSP Tay']  \n",
       "4  ['SP Brown', 'EV Budilova', 'JF Guegan', 'F Re...  "
      ]
     },
     "execution_count": 91,
     "metadata": {},
     "output_type": "execute_result"
    }
   ],
   "source": [
    "df_small"
   ]
  },
  {
   "cell_type": "code",
   "execution_count": 148,
   "id": "08545903-37d0-4f98-bc32-ad136f65267a",
   "metadata": {},
   "outputs": [
    {
     "name": "stdout",
     "output_type": "stream",
     "text": [
      "True {   'email': None,\n",
      "    'first': 'Ang',\n",
      "    'id': 100,\n",
      "    'last': 'Yang',\n",
      "    'middle': None,\n",
      "    'pub_ids': [1.0],\n",
      "    'publications': [<__main__.Publication object at 0x15bb33710>]}\n",
      "True {   'email': None,\n",
      "    'first': 'Lei',\n",
      "    'id': 103,\n",
      "    'last': 'Zhang',\n",
      "    'middle': None,\n",
      "    'pub_ids': [2.0],\n",
      "    'publications': [<__main__.Publication object at 0x15bb33450>]}\n",
      "True {   'email': None,\n",
      "    'first': 'Mehdi',\n",
      "    'id': 108,\n",
      "    'last': 'Saqalli',\n",
      "    'middle': None,\n",
      "    'pub_ids': [3.0],\n",
      "    'publications': [<__main__.Publication object at 0x15af490d0>]}\n"
     ]
    }
   ],
   "source": [
    "publication_list = []\n",
    "author_list = []\n",
    "\n",
    "for index, row in df_small.iterrows():\n",
    "    # create a new publication object- DONE\n",
    "    publication = Publication(id=row['id'], title=row['title'], doi=row['doi'])\n",
    "\n",
    "    # add the publication to the list- DONE\n",
    "    publication_list.append(publication)\n",
    "\n",
    "    # create an Author object for every author belonging to the publication - DONE\n",
    "    author_names_list = get_author_names_list(row['author_names'])\n",
    "\n",
    "    #Create contact author\n",
    "    \n",
    "    contact_name = row[\"contact_author_name\"]\n",
    "\n",
    "    contact_first_name, contact_middle_name, contact_last_name = extract_names(contact_name)\n",
    "    \n",
    "    \n",
    "    contact_author = Author(contact_first_name, contact_middle_name, contact_last_name, row[\"contact_email\"])\n",
    "    \n",
    "    \n",
    "    for author_name in author_names_list:\n",
    "        # Extract first, middle, and last name from each author string\n",
    "        first_name, middle_name, last_name = extract_names(author_name)\n",
    "\n",
    "        # Create an Author object\n",
    "        author = Author(first_name, middle_name, last_name)\n",
    "\n",
    "        \n",
    "        # Add the publication to the Author's list of publications - DONE\n",
    "        author.publications.append(publication)\n",
    "        \n",
    "        # if that author is also the contact author, add an email - DONE\n",
    "        if __eq__(author, contact_author):\n",
    "            print (\"True\", author)\n",
    "            add_contact_author_info(author, contact_author)\n",
    "            \n",
    "        # add the Author to the list of Authors - DONE\n",
    "        author_list.append(author)"
   ]
  },
  {
   "cell_type": "code",
   "execution_count": 149,
   "id": "bfbf0f86-d47f-4c43-9510-0455652295e6",
   "metadata": {},
   "outputs": [
    {
     "name": "stdout",
     "output_type": "stream",
     "text": [
      "<__main__.Publication object at 0x15bb33710>\n",
      "<__main__.Publication object at 0x15bb33450>\n",
      "<__main__.Publication object at 0x15af490d0>\n",
      "<__main__.Publication object at 0x15b81e350>\n",
      "<__main__.Publication object at 0x15af54a90>\n",
      "{   'email': None,\n",
      "    'first': 'Geoff',\n",
      "    'id': 97,\n",
      "    'last': 'Podger',\n",
      "    'middle': None,\n",
      "    'pub_ids': [1.0],\n",
      "    'publications': [<__main__.Publication object at 0x15bb33710>]}\n",
      "{   'email': None,\n",
      "    'first': 'Robert',\n",
      "    'id': 98,\n",
      "    'last': 'Power',\n",
      "    'middle': None,\n",
      "    'pub_ids': [1.0],\n",
      "    'publications': [<__main__.Publication object at 0x15bb33710>]}\n",
      "{   'email': None,\n",
      "    'first': 'Shane',\n",
      "    'id': 99,\n",
      "    'last': 'Seaton',\n",
      "    'middle': None,\n",
      "    'pub_ids': [1.0],\n",
      "    'publications': [<__main__.Publication object at 0x15bb33710>]}\n",
      "{   'email': 'ang.yang@csiro.au',\n",
      "    'first': 'Ang',\n",
      "    'id': 100,\n",
      "    'last': 'Yang',\n",
      "    'middle': None,\n",
      "    'pub_ids': [1.0],\n",
      "    'publications': [<__main__.Publication object at 0x15bb33710>]}\n",
      "{   'email': None,\n",
      "    'first': 'Dilya',\n",
      "    'id': 102,\n",
      "    'last': 'Yusufzyanova',\n",
      "    'middle': None,\n",
      "    'pub_ids': [2.0],\n",
      "    'publications': [<__main__.Publication object at 0x15bb33450>]}\n",
      "{   'email': 'lei@umd.edu',\n",
      "    'first': 'Lei',\n",
      "    'id': 103,\n",
      "    'last': 'Zhang',\n",
      "    'middle': None,\n",
      "    'pub_ids': [2.0],\n",
      "    'publications': [<__main__.Publication object at 0x15bb33450>]}\n",
      "{   'email': None,\n",
      "    'first': 'Charles',\n",
      "    'id': 105,\n",
      "    'last': 'Bielders',\n",
      "    'middle': 'L.',\n",
      "    'pub_ids': [3.0],\n",
      "    'publications': [<__main__.Publication object at 0x15af490d0>]}\n",
      "{   'email': None,\n",
      "    'first': 'Pierre',\n",
      "    'id': 106,\n",
      "    'last': 'Defourny',\n",
      "    'middle': None,\n",
      "    'pub_ids': [3.0],\n",
      "    'publications': [<__main__.Publication object at 0x15af490d0>]}\n",
      "{   'email': None,\n",
      "    'first': 'Bruno',\n",
      "    'id': 107,\n",
      "    'last': 'Gerard',\n",
      "    'middle': None,\n",
      "    'pub_ids': [3.0],\n",
      "    'publications': [<__main__.Publication object at 0x15af490d0>]}\n",
      "{   'email': 'msqalli@yahoo.com',\n",
      "    'first': 'Mehdi',\n",
      "    'id': 108,\n",
      "    'last': 'Saqalli',\n",
      "    'middle': None,\n",
      "    'pub_ids': [3.0],\n",
      "    'publications': [<__main__.Publication object at 0x15af490d0>]}\n",
      "{   'email': None,\n",
      "    'first': 'RF',\n",
      "    'id': 110,\n",
      "    'last': 'Lusch',\n",
      "    'middle': None,\n",
      "    'pub_ids': [4.0],\n",
      "    'publications': [<__main__.Publication object at 0x15b81e350>]}\n",
      "{   'email': None,\n",
      "    'first': 'NSP',\n",
      "    'id': 111,\n",
      "    'last': 'Tay',\n",
      "    'middle': None,\n",
      "    'pub_ids': [4.0],\n",
      "    'publications': [<__main__.Publication object at 0x15b81e350>]}\n",
      "{   'email': None,\n",
      "    'first': 'SP',\n",
      "    'id': 113,\n",
      "    'last': 'Brown',\n",
      "    'middle': None,\n",
      "    'pub_ids': [5.0],\n",
      "    'publications': [<__main__.Publication object at 0x15af54a90>]}\n",
      "{   'email': None,\n",
      "    'first': 'EV',\n",
      "    'id': 114,\n",
      "    'last': 'Budilova',\n",
      "    'middle': None,\n",
      "    'pub_ids': [5.0],\n",
      "    'publications': [<__main__.Publication object at 0x15af54a90>]}\n",
      "{   'email': None,\n",
      "    'first': 'JF',\n",
      "    'id': 115,\n",
      "    'last': 'Guegan',\n",
      "    'middle': None,\n",
      "    'pub_ids': [5.0],\n",
      "    'publications': [<__main__.Publication object at 0x15af54a90>]}\n",
      "{   'email': None,\n",
      "    'first': 'F',\n",
      "    'id': 116,\n",
      "    'last': 'Renaud',\n",
      "    'middle': None,\n",
      "    'pub_ids': [5.0],\n",
      "    'publications': [<__main__.Publication object at 0x15af54a90>]}\n",
      "{   'email': None,\n",
      "    'first': 'AT',\n",
      "    'id': 117,\n",
      "    'last': 'Teriokhin',\n",
      "    'middle': None,\n",
      "    'pub_ids': [5.0],\n",
      "    'publications': [<__main__.Publication object at 0x15af54a90>]}\n",
      "{   'email': None,\n",
      "    'first': 'F',\n",
      "    'id': 118,\n",
      "    'last': 'Thomas',\n",
      "    'middle': None,\n",
      "    'pub_ids': [5.0],\n",
      "    'publications': [<__main__.Publication object at 0x15af54a90>]}\n"
     ]
    }
   ],
   "source": [
    "for publication in publication_list:\n",
    "    print(publication)\n",
    "for author in author_list:\n",
    "    print(author)"
   ]
  },
  {
   "cell_type": "code",
   "execution_count": null,
   "id": "7812926a-4a82-4405-91ad-d2e8ccf424bd",
   "metadata": {},
   "outputs": [],
   "source": [
    "# Print the created publications and authors\n",
    "for publication in publication_list:\n",
    "    print(publication.__dict__)\n",
    "\n",
    "for author in author_list:\n",
    "    print(author.__dict__)"
   ]
  },
  {
   "cell_type": "code",
   "execution_count": null,
   "id": "b6c7086e-45a5-4695-a4bb-206a11e2caba",
   "metadata": {},
   "outputs": [],
   "source": []
  },
  {
   "cell_type": "code",
   "execution_count": null,
   "id": "ac2f7139-8a20-44e1-b4ba-83a6fbb4818e",
   "metadata": {},
   "outputs": [],
   "source": []
  }
 ],
 "metadata": {
  "kernelspec": {
   "display_name": "Python 3 (ipykernel)",
   "language": "python",
   "name": "python3"
  },
  "language_info": {
   "codemirror_mode": {
    "name": "ipython",
    "version": 3
   },
   "file_extension": ".py",
   "mimetype": "text/x-python",
   "name": "python",
   "nbconvert_exporter": "python",
   "pygments_lexer": "ipython3",
   "version": "3.11.3"
  }
 },
 "nbformat": 4,
 "nbformat_minor": 5
}
