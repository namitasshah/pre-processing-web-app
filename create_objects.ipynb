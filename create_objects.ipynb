{
 "cells": [
  {
   "cell_type": "markdown",
   "id": "763078f1-5445-41d2-98a6-ca59fd525225",
   "metadata": {},
   "source": [
    "# Create all Author and Publication Objects"
   ]
  },
  {
   "cell_type": "code",
   "execution_count": null,
   "id": "30172110-7121-41d1-9cea-59f03df9dc74",
   "metadata": {},
   "outputs": [],
   "source": [
    "# TODO: import `load_data`, `get_author_names_list`, and `extract_names` from process_names.ipynb"
   ]
  },
  {
   "cell_type": "code",
   "execution_count": null,
   "id": "40a5d017-e122-4218-9676-089f92eed74b",
   "metadata": {},
   "outputs": [],
   "source": [
    "# TODO: load the data using the load_data function. Save it in a variable called df"
   ]
  },
  {
   "cell_type": "markdown",
   "id": "f1dc8c54-8ff8-4d0b-8c73-e4622f1b268e",
   "metadata": {},
   "source": [
    "## Create an Author for ***every*** author listed in the first publication\n",
    "\n",
    "1. Get the publication from first row\n",
    "2. Create a Publication object and add it to a list of publications\n",
    "3. Get the author list as a string\n",
    "4. Transform the string into a list\n",
    "5. Extract the first, middle, and last name to create a single author object for every author in list\n",
    "6. Add the Publication to the the Author's publication attribute\n",
    "\n",
    "All the steps are the same, except we want to turn the last step into a loop so we turn every author in the list into an author object."
   ]
  },
  {
   "cell_type": "code",
   "execution_count": null,
   "id": "64be2296-6384-493c-8872-2cd3a2959a44",
   "metadata": {},
   "outputs": [],
   "source": [
    "# 1. Get the publication from first row\n",
    "single_publication = df.loc[0]\n",
    "single_publication"
   ]
  },
  {
   "cell_type": "code",
   "execution_count": null,
   "id": "3fc90b3f-3bd0-4930-a345-febe3f132076",
   "metadata": {},
   "outputs": [],
   "source": [
    "publication_list = [] # list of Publication objects"
   ]
  },
  {
   "cell_type": "code",
   "execution_count": null,
   "id": "74a7e77f-b930-48f0-bc46-8a31af5a2d7d",
   "metadata": {},
   "outputs": [],
   "source": [
    "# 2. Create a Publication object and add it to a list of publications (DONE)\n",
    "publication = Publication(id=single_publication['id'], title=single_publication['title'], doi=single_publication['doi'])\n",
    "\n",
    "publication_list.append(publication)"
   ]
  },
  {
   "cell_type": "code",
   "execution_count": null,
   "id": "d0933a75-2477-4406-95f4-30aecf94fd22",
   "metadata": {},
   "outputs": [],
   "source": [
    "# 2. Get the author list as a string\n",
    "author_names = single_publication['author_names']\n",
    "author_names"
   ]
  },
  {
   "cell_type": "code",
   "execution_count": null,
   "id": "cc1218a3-1b9f-4afc-b7c1-2e536487b281",
   "metadata": {},
   "outputs": [],
   "source": [
    "# 3. Transform the string into a list\n",
    "author_names_list = get_author_names_list(author_names)\n",
    "author_names_list"
   ]
  },
  {
   "cell_type": "code",
   "execution_count": null,
   "id": "a86b9eb1-0a4f-40f7-994a-95bd6b2724e8",
   "metadata": {},
   "outputs": [],
   "source": [
    "# 4. For each author name in list, extract the first, middle, and last name to create a single author object\n",
    "\n",
    "author_list = [] # list of Author objects"
   ]
  },
  {
   "cell_type": "code",
   "execution_count": null,
   "id": "88d2f186-263f-42ad-918a-d329169b0bb8",
   "metadata": {},
   "outputs": [],
   "source": [
    "for author_string in author_names_list:\n",
    "    # Extract first, middle, and last name from each author string\n",
    "    first_name, middle_name, last_name = extract_names(author_string)\n",
    "\n",
    "    # Create an Author object\n",
    "    author = Author(first_name, middle_name, last_name)\n",
    "\n",
    "    # TODO: add the publication to the author's publication attribute\n",
    "    author.publications.append(publication)\n",
    "   \n",
    "    # Add the author to the author list\n",
    "    author_list.append(author)"
   ]
  },
  {
   "cell_type": "code",
   "execution_count": null,
   "id": "e41b5d74-effe-4c91-8b3a-e98fc1c03af1",
   "metadata": {},
   "outputs": [],
   "source": [
    "author_list"
   ]
  },
  {
   "cell_type": "markdown",
   "id": "4e3354fc-7993-40cd-9c8c-89d76769f8fe",
   "metadata": {},
   "source": [
    "## Create an Author for every author listed in the first publication ***and*** add an email if that author is also the contact author\n",
    "\n",
    "1. Create an Author object for the contact author\n",
    "2. Write a function that compares the author to the contact author to see if they are the same\n",
    "3. If they are the same, add the contact author email to the author"
   ]
  },
  {
   "cell_type": "code",
   "execution_count": null,
   "id": "2b146090-19f8-43ce-b298-8da1833fbf43",
   "metadata": {},
   "outputs": [],
   "source": [
    "## Check if the contact author matches a sigle author"
   ]
  },
  {
   "cell_type": "code",
   "execution_count": null,
   "id": "03936247-a3b5-4063-bb67-df151563923d",
   "metadata": {},
   "outputs": [],
   "source": [
    "single_publication = df.loc[1]\n",
    "single_publication"
   ]
  },
  {
   "cell_type": "code",
   "execution_count": null,
   "id": "b6296a83-1507-4d17-b382-1d23e9d61580",
   "metadata": {},
   "outputs": [],
   "source": [
    "# get contact author name from single_publication\n",
    "contact_author_name = single_publication['contact_author_name']\n",
    "contact_author_name"
   ]
  },
  {
   "cell_type": "code",
   "execution_count": null,
   "id": "1bbf952e-c678-42b9-8041-f8d1c4c445cf",
   "metadata": {},
   "outputs": [],
   "source": [
    "# use a function to extract the first, middle, and last names of the contact author\n",
    "contact_first, contact_middle, contact_last = extract_names(contact_author_name)\n",
    "contact_first, contact_middle, contact_last"
   ]
  },
  {
   "cell_type": "code",
   "execution_count": null,
   "id": "4bbaea77-4352-4f9f-b2e5-e84b3cd539cb",
   "metadata": {},
   "outputs": [],
   "source": [
    "single_publication['contact_email']\n"
   ]
  },
  {
   "cell_type": "code",
   "execution_count": null,
   "id": "568f4d0d-41ce-4e91-b1ca-1a20a0ef830f",
   "metadata": {},
   "outputs": [],
   "source": [
    "df_small['contact_email']"
   ]
  },
  {
   "cell_type": "code",
   "execution_count": null,
   "id": "205bb1e0-3255-40bc-a453-2a674e120508",
   "metadata": {},
   "outputs": [],
   "source": [
    "# get the contact email for the contact author\n",
    "contact_author_email = single_publication['contact_email']\n",
    "contact_author_email"
   ]
  },
  {
   "cell_type": "code",
   "execution_count": null,
   "id": "7948b2d7-1888-4287-ad66-6353091dbfd5",
   "metadata": {},
   "outputs": [],
   "source": [
    "# get the contact email for the contact author\n",
    "contact_author_email = single_publication['contact_email']\n",
    "contact_author_email"
   ]
  },
  {
   "cell_type": "code",
   "execution_count": null,
   "id": "459dc55e-21ca-46b9-8846-dc2e6b6c53cd",
   "metadata": {},
   "outputs": [],
   "source": [
    "# create an Author object for the contact author\n",
    "\n",
    "contact_author = Author(contact_first, contact_middle, contact_last, contact_author_email)\n",
    "contact_author"
   ]
  },
  {
   "cell_type": "markdown",
   "id": "1407fdff-c881-4b10-8845-50f06697067e",
   "metadata": {},
   "source": [
    "Let's save the author that matchs the contact author."
   ]
  },
  {
   "cell_type": "code",
   "execution_count": null,
   "id": "ebb80f8c-c6e8-4abb-acf7-81929504ebab",
   "metadata": {},
   "outputs": [],
   "source": [
    "fourth_author = author_list[2]\n",
    "fourth_author"
   ]
  },
  {
   "cell_type": "code",
   "execution_count": null,
   "id": "e62a7e0a-3820-479b-a5e9-d971cf5f6924",
   "metadata": {},
   "outputs": [],
   "source": [
    "fourth_author.first == contact_author.first \\\n",
    "    and fourth_author.middle == contact_author.middle \\\n",
    "    and fourth_author.last == contact_author.last"
   ]
  },
  {
   "cell_type": "markdown",
   "id": "cefe0634-cf3d-49b5-9076-9cc8a8b6942f",
   "metadata": {},
   "source": [
    "Write a function that compares an author to the contact author and returns True if there is a match. We will call this function `__eq__`, because it is a special dunder method that allows us to compare two objects with a double equal sign (`==`). We will see how this function works when we integrate it into our class later. "
   ]
  },
  {
   "cell_type": "code",
   "execution_count": null,
   "id": "41b25566-1a69-4163-9604-e8b6b0474eb0",
   "metadata": {},
   "outputs": [],
   "source": [
    "def __eq__(author, contact_author):\n",
    "\n",
    "    return author.first == contact_author.first and author.middle == contact_author.middle and author.last == contact_author.last\n",
    "   \n"
   ]
  },
  {
   "cell_type": "code",
   "execution_count": null,
   "id": "19d2a583-0d81-4a51-9a2f-3092c6fccaa9",
   "metadata": {},
   "outputs": [],
   "source": [
    "__eq__(author_list[5], contact_author)"
   ]
  },
  {
   "cell_type": "markdown",
   "id": "aec9d9bb-8841-4f78-afba-c2a890ca4bf5",
   "metadata": {},
   "source": [
    "Does it return `True`? Now let's try one we know is not a match and should return `False`. "
   ]
  },
  {
   "cell_type": "code",
   "execution_count": null,
   "id": "34027659-17e1-4762-b9e8-b69f763fa7e0",
   "metadata": {},
   "outputs": [],
   "source": [
    "author_list[5]"
   ]
  },
  {
   "cell_type": "code",
   "execution_count": null,
   "id": "0622fb03-57f3-47cc-8257-69399a0ad9b3",
   "metadata": {},
   "outputs": [],
   "source": [
    "__eq__(author_list[0], contact_author)"
   ]
  },
  {
   "cell_type": "markdown",
   "id": "22d98e2a-3d67-405b-8395-5888bc55f6fe",
   "metadata": {},
   "source": [
    "Finally, when we do find a match between an author and a contact author, we want to use the contact author information to add information to the author. We could do it like this..."
   ]
  },
  {
   "cell_type": "code",
   "execution_count": null,
   "id": "28a494e6-d633-4268-bd8f-53ff17306de6",
   "metadata": {},
   "outputs": [],
   "source": [
    "if __eq__(fourth_author, contact_author):\n",
    "    fourth_author.email = contact_author.email"
   ]
  },
  {
   "cell_type": "markdown",
   "id": "ee734175-51eb-4230-ba81-cbe41969ab64",
   "metadata": {},
   "source": [
    "... and we can see that it works because the email is now there."
   ]
  },
  {
   "cell_type": "code",
   "execution_count": null,
   "id": "b47b6949-54e2-4c6a-889b-2a46f828599e",
   "metadata": {},
   "outputs": [],
   "source": [
    "fourth_author"
   ]
  },
  {
   "cell_type": "code",
   "execution_count": null,
   "id": "adbbf585-c2cc-452a-ab62-798fc77e44a8",
   "metadata": {},
   "outputs": [],
   "source": [
    "contact_author"
   ]
  },
  {
   "cell_type": "markdown",
   "id": "ebf5a411-808c-4652-b2c9-1dbbafe1e8e2",
   "metadata": {},
   "source": [
    "But later down the line, we might want to also update the middle name or something as well. So we need to write a function to accomodate these future changes. Also, we want to add some validation to check that the two authors do actually share a name before we merge their information together."
   ]
  },
  {
   "cell_type": "code",
   "execution_count": null,
   "id": "fa257b69-6b04-4324-b649-16691759aacf",
   "metadata": {},
   "outputs": [],
   "source": [
    "def add_contact_author_info(author, contact_author):\n",
    "    if not __eq__(author, contact_author):\n",
    "        raise Exception('not a match')\n",
    "    else: \n",
    "        #author_list.append(contact_author_email)\n",
    "        author.email = contact_author.email"
   ]
  },
  {
   "cell_type": "markdown",
   "id": "9d65f99f-9595-4533-936a-120011c21782",
   "metadata": {},
   "source": [
    "Does it work? Let's try it for an author that we known matchs..."
   ]
  },
  {
   "cell_type": "code",
   "execution_count": null,
   "id": "174ade96-5cf6-4f8a-bdb3-9363f9834a32",
   "metadata": {},
   "outputs": [],
   "source": [
    "add_contact_author_info(fourth_author, contact_author)"
   ]
  },
  {
   "cell_type": "code",
   "execution_count": null,
   "id": "a0490ef6-51e9-4a5f-b8bf-e321f4be1c04",
   "metadata": {},
   "outputs": [],
   "source": [
    "fourth_author"
   ]
  },
  {
   "cell_type": "markdown",
   "id": "67e59e66-7d88-4b44-8a89-7ee4ebccfd52",
   "metadata": {},
   "source": [
    "And one that doesn't. The following code should throw an error..."
   ]
  },
  {
   "cell_type": "code",
   "execution_count": null,
   "id": "e61c7ef4-63e5-487f-b158-4bfa17d1f4fa",
   "metadata": {},
   "outputs": [],
   "source": [
    "add_contact_author_info(author_list[0], contact_author)"
   ]
  },
  {
   "cell_type": "markdown",
   "id": "65e587a7-c3f3-4911-b8e3-81bbcb0066fa",
   "metadata": {},
   "source": [
    "Okay! Now the only thing left to do is to put this all together in our loop. Take what you had before, but add a few lines to check if the new author and the contact author are the same. If they are, you need to add the contact author info to the new author. Use the commented code below to do it. \n",
    "\n",
    "**Don't forget to use** `__eq__` **and** `add_contact_author_info`**!**"
   ]
  },
  {
   "cell_type": "code",
   "execution_count": null,
   "id": "28c946ff-5e4b-4df3-bab4-a47fc1975b2c",
   "metadata": {},
   "outputs": [],
   "source": [
    "for author_string in author_names_list:\n",
    "    # extract first, middle, and last name from each author string\n",
    "    # TODO: replace the code below with a function: DONE\n",
    "    first_name, middle_name, last_name = extract_names(author_string)\n",
    "    \n",
    "    # create an Author object\n",
    "    author = Author(first_name, middle_name, last_name)\n",
    "    \n",
    "    # TODO: add publication to author's publication list: DONE?\n",
    "    author.publications.append(publication)\n",
    "    \n",
    "    if not __eq__(author, contact_author): \n",
    "        print (\"Not a match\")\n",
    "    else:\n",
    "        # add the author to the author list\n",
    "        add_contact_author_info(author, contact_author)\n",
    "        print(\"Done\")"
   ]
  },
  {
   "cell_type": "markdown",
   "id": "c0efad93-a054-44d8-9e9d-d8fed33e3d1c",
   "metadata": {},
   "source": [
    "## ***For every publication...*** create a Publication and an Author for every author in the list and add an email if that author is also the contact author\n"
   ]
  },
  {
   "cell_type": "markdown",
   "id": "b9a0e598-c49a-4df5-acce-997b271f615c",
   "metadata": {},
   "source": [
    "The next step is to run the loop above for every single row in `df_small`. If you want, you can get started on that below."
   ]
  },
  {
   "cell_type": "code",
   "execution_count": null,
   "id": "d4b08653-60eb-4eec-a8ea-b4cd988cf6c4",
   "metadata": {},
   "outputs": [],
   "source": [
    "df_small"
   ]
  },
  {
   "cell_type": "code",
   "execution_count": null,
   "id": "6b27084d-f6cd-4b2b-8e2e-991a951fd052",
   "metadata": {},
   "outputs": [],
   "source": [
    "publication_list = []\n",
    "author_list = []\n",
    "\n",
    "for index, row in df_small.iterrows():\n",
    "    # create a new publication object- DONE\n",
    "    publication = Publication(id=row['id'], title=row['title'], doi=row['doi'])\n",
    "\n",
    "    # add the publication to the list- DONE\n",
    "    publication_list.append(publication)\n",
    "\n",
    "    # create an Author object for every author belonging to the publication - DONE\n",
    "    author_names_list = get_author_names_list(row['author_names'])\n",
    "\n",
    "    #Create contact author\n",
    "    \n",
    "    contact_name = row[\"contact_author_name\"]\n",
    "\n",
    "    contact_first_name, contact_middle_name, contact_last_name = extract_names(contact_name)\n",
    "    \n",
    "    \n",
    "    contact_author = Author(contact_first_name, contact_middle_name, contact_last_name, row[\"contact_email\"])\n",
    "    \n",
    "    \n",
    "    for author_name in author_names_list:\n",
    "        # Extract first, middle, and last name from each author string\n",
    "        first_name, middle_name, last_name = extract_names(author_name)\n",
    "\n",
    "        # Create an Author object\n",
    "        author = Author(first_name, middle_name, last_name)\n",
    "\n",
    "        \n",
    "        # Add the publication to the Author's list of publications - DONE\n",
    "        author.publications.append(publication)\n",
    "        \n",
    "        # if that author is also the contact author, add an email - DONE\n",
    "        if __eq__(author, contact_author):\n",
    "            print (\"True\", author)\n",
    "            add_contact_author_info(author, contact_author)\n",
    "            \n",
    "        # add the Author to the list of Authors - DONE\n",
    "        author_list.append(author)"
   ]
  },
  {
   "cell_type": "code",
   "execution_count": null,
   "id": "595c9ea4-abf7-47a3-bd76-d6a6477664a6",
   "metadata": {},
   "outputs": [],
   "source": [
    "for publication in publication_list:\n",
    "    print(publication)\n",
    "for author in author_list:\n",
    "    print(author)"
   ]
  },
  {
   "cell_type": "code",
   "execution_count": null,
   "id": "2bb84887-b76e-4e5b-9043-ba0ed2cbcc29",
   "metadata": {},
   "outputs": [],
   "source": [
    "# Print the created publications and authors\n",
    "for publication in publication_list:\n",
    "    print(publication.__dict__)\n",
    "\n",
    "for author in author_list:\n",
    "    print(author.__dict__)"
   ]
  },
  {
   "cell_type": "markdown",
   "id": "bbc7f711-671e-4f73-8481-fb5e5928a4ce",
   "metadata": {},
   "source": [
    "## For every publication create a Publication and an Author for every author in the list and add an email if that author is also the contact author. \n",
    "## **If the author exists already, use the new Author object to update the old one. Otherwise add the new Author to the list of Authors.**"
   ]
  },
  {
   "cell_type": "code",
   "execution_count": null,
   "id": "6e0aa66d-8e68-42b1-a173-2b3b204e44a5",
   "metadata": {},
   "outputs": [],
   "source": []
  }
 ],
 "metadata": {
  "kernelspec": {
   "display_name": "python3",
   "language": "python",
   "name": "python3"
  }
 },
 "nbformat": 4,
 "nbformat_minor": 5
}
