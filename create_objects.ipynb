{
 "cells": [
  {
   "cell_type": "markdown",
   "id": "763078f1-5445-41d2-98a6-ca59fd525225",
   "metadata": {},
   "source": [
    "# Create all Author and Publication Objects\n",
    "\n",
    "In this module, we will define a Publication object which is associated with each row of the Excel sheet. Each publication is also associated with several authors. We create an Author object for each author, including the contact author, which has an associated email. If we encounter an author with the same name or initials as an author we've already created, we assume they are the same person and combine their data. Analysis in another notebook will show that this oversimplified approach may be \"good enough\" for our purposes. Finally, we pickle all of these objects so they can be used by another repository for network analysis."
   ]
  },
  {
   "cell_type": "code",
   "execution_count": null,
   "id": "9f100d66-a8f0-4e53-8b62-8d277ddd04e6",
   "metadata": {},
   "outputs": [],
   "source": [
    "#| default_exp objects"
   ]
  },
  {
   "cell_type": "code",
   "execution_count": null,
   "id": "30172110-7121-41d1-9cea-59f03df9dc74",
   "metadata": {},
   "outputs": [],
   "source": [
    "#| export\n",
    "from preprocessing.process_names import load_data, get_author_names_list, extract_names\n",
    "from preprocessing.author import Author\n",
    "from preprocessing.publication import Publication\n",
    "import pandas as pd\n",
    "from sortedcontainers import SortedList"
   ]
  },
  {
   "cell_type": "markdown",
   "id": "4a772709-2c2c-475e-8f2b-5348adb784ab",
   "metadata": {},
   "source": [
    "## Load Excel Data\n",
    "\n",
    "The first step is to load our excel data. This database has 7501 publications associated with it and around 25,000 (undisambiguated) authors. It takes several minutes to process the whole list. If you want to run an example on the first five entries, use the `small` variable below.\n"
   ]
  },
  {
   "cell_type": "code",
   "execution_count": null,
   "id": "d4b08653-60eb-4eec-a8ea-b4cd988cf6c4",
   "metadata": {},
   "outputs": [],
   "source": [
    "df = load_data(small=False) # small=True if you only want the first 5 entries\n",
    "df.head()"
   ]
  },
  {
   "cell_type": "markdown",
   "id": "cbc466c7-9bc3-4864-9559-f9f444ba230a",
   "metadata": {},
   "source": [
    "In a previous module, we made the Author class, but we also want to have a Publication object that we can associate with multiple authors. Our end goal is to make a graph with multiple representations, so we will make a list of authors that contain associated publications and a list of publications that point to associated authors. "
   ]
  },
  {
   "cell_type": "markdown",
   "id": "6bb9063e-0f92-4bfe-ad5a-72ec8be8aaf8",
   "metadata": {},
   "source": [
    "## Creating Publications and Authors\n",
    "\n",
    "In the main loop, we want to go through the all the rows in the dataframe and create Publication objects using the `title` and `DOI` columns and create Author objects for each author in the `author_names` column. This will require us to loop through the rows in the dataframe and\n",
    "1. create a publication object\n",
    "2. parse and split the `author_names` string into a list of author names\n",
    "3. add the author to the list\n",
    "\n",
    "Adding the author to the list is complicated by the fact that the Author could already be in the list, in which case we only need to *update* the author already in the list instead of appending a new one. We have extracted this part into its own function below."
   ]
  },
  {
   "cell_type": "code",
   "execution_count": null,
   "id": "cf0be135-b4e5-4938-8797-8cfc1aa1bed6",
   "metadata": {},
   "outputs": [],
   "source": [
    "#| export\n",
    "# if author with same name is in list, combine their info\n",
    "# else if author is not in list, append it to the list\n",
    "\n",
    "def add_author_in_list(author_list, new_author):\n",
    "\n",
    "    \n",
    "    \n",
    "    for existing_author in author_list:\n",
    "        if new_author.same_name(existing_author):\n",
    "            # combine info from each\n",
    "            existing_author.merge_names(new_author)\n",
    "            # combine emails\n",
    "            existing_author.add_contact_author_info(new_author)\n",
    "            # publications\n",
    "            for publication in new_author.publications:\n",
    "                existing_author.publications.append(publication)\n",
    "            return existing_author\n",
    "\n",
    "            \n",
    "    # add new_author to list\n",
    "    author_list.add(new_author)\n",
    "    return new_author"
   ]
  },
  {
   "cell_type": "code",
   "execution_count": null,
   "id": "17bd2867-ec23-4f4d-8743-110c9d85d017",
   "metadata": {},
   "outputs": [],
   "source": [
    "sl = SortedList([10, 11, 12, 14])\n",
    "\n",
    "index = sl.bisect_left(15)\n",
    "index"
   ]
  },
  {
   "cell_type": "code",
   "execution_count": null,
   "id": "3e06ddc4-9360-4590-a494-273747584140",
   "metadata": {},
   "outputs": [],
   "source": [
    "len(sl)"
   ]
  },
  {
   "cell_type": "code",
   "execution_count": null,
   "id": "55cd7bc4-2f9a-4e0c-bd5f-3a219469b4c9",
   "metadata": {},
   "outputs": [],
   "source": [
    "def add_author_in_list(author_list, new_author):\n",
    "\n",
    "    index = author_list.bisect_left(new_author)\n",
    "    if index < len(author_list):\n",
    "        existing_author = author_list[index]\n",
    "        if new_author.same_name(existing_author):\n",
    "            # combine info from each\n",
    "            existing_author.merge_names(new_author)\n",
    "            # combine emails\n",
    "            existing_author.add_contact_author_info(new_author)\n",
    "            # publications\n",
    "            for publication in new_author.publications:\n",
    "                existing_author.publications.append(publication)\n",
    "            return existing_author\n",
    "    # add new_author to list\n",
    "    author_list.add(new_author)\n",
    "    return new_author"
   ]
  },
  {
   "cell_type": "markdown",
   "id": "4cd3a7f0-90f8-4b31-a099-f76658d8eb7d",
   "metadata": {},
   "source": [
    "We can check that this function works on its own. We will create two authors, Jane and Mary."
   ]
  },
  {
   "cell_type": "code",
   "execution_count": null,
   "id": "a9f96bc6-22fa-457a-a33a-91d164a00774",
   "metadata": {},
   "outputs": [],
   "source": [
    "mary = Author('Lou', 'Mary')\n",
    "jane = Author('Doe', 'Jane')\n",
    "toy_list = SortedList([jane, mary])\n",
    "toy_list"
   ]
  },
  {
   "cell_type": "markdown",
   "id": "88c31500-5ada-4269-9380-b375d253f8f5",
   "metadata": {},
   "source": [
    "Then we will add another Author object who has the same name as Mary. We expect that when we try to add `mary2` to the `toy_list` that the list will not get longer because the two Mary objects will get combined. This is probably made most obvious by the fact that the name will get updated to combine information from both representations of the name to lose the least amount of information possible."
   ]
  },
  {
   "cell_type": "code",
   "execution_count": null,
   "id": "2250dff9-50eb-4383-a511-c1c62b17f314",
   "metadata": {},
   "outputs": [],
   "source": [
    "mary2 = Author('Lou', 'M' ,'R', emails=['ml@asu.edu'])\n",
    "\n",
    "assert mary.full_name() == 'Mary Lou'\n",
    "assert mary2.full_name() == 'M R Lou'"
   ]
  },
  {
   "cell_type": "code",
   "execution_count": null,
   "id": "7de1d35b-9734-4c23-9333-f1904427edaf",
   "metadata": {},
   "outputs": [],
   "source": [
    "add_author_in_list(toy_list, mary2)\n",
    "\n",
    "assert mary.full_name() == 'Mary R Lou' # we can see both versions of mary were combined"
   ]
  },
  {
   "cell_type": "code",
   "execution_count": null,
   "id": "16d10fa3-98d0-4933-8cab-4ebbc79b53d0",
   "metadata": {},
   "outputs": [],
   "source": [
    "mary.emails # and that mary is now associated with mary2's email"
   ]
  },
  {
   "cell_type": "markdown",
   "id": "43382ed0-47af-4507-9e42-d26b2cdb18e5",
   "metadata": {},
   "source": [
    "Okay, time to put this all to use. Next, let's initialize the lists that all the publications and authors get loaded into."
   ]
  },
  {
   "cell_type": "markdown",
   "id": "264ded2b-6adb-4b44-8f8e-b7fd336b697b",
   "metadata": {},
   "source": [
    "We're also going to count some things to make sure we create the number of publications and authors we expect to. And so we can learn a little more about the data."
   ]
  },
  {
   "cell_type": "markdown",
   "id": "bcd4eb38-7705-4907-a9e0-9c659a59814d",
   "metadata": {},
   "source": [
    "Let's get into the weeds now. If you aren't using the \"small\" dataframe, this will take a few minutes since we are searching for matches with brute force. "
   ]
  },
  {
   "cell_type": "code",
   "execution_count": null,
   "id": "9ec821c8-87ca-4b4e-911d-49a520b3c890",
   "metadata": {},
   "outputs": [],
   "source": [
    "#| export \n",
    "def create_objects(databaseFilePath):\n",
    "        \n",
    "    df = load_data(small=False, filePath=databaseFilePath)\n",
    "    publication_list = []\n",
    "    author_list = SortedList()\n",
    "    num_no_authors = 0\n",
    "    num_no_publication = 0\n",
    "    \n",
    "    for index, row in df.iterrows():\n",
    "\n",
    "        # only process the row if title or contact_email exists\n",
    "        if (row['title'] or row['doi']):\n",
    "            author_row_list = [] #List of authors in each publication; author Object\n",
    "            # create a new publication object\n",
    "            publication = Publication(id=row['id'], title=row['title'], doi=row['doi'])\n",
    "            publication.authors = []\n",
    "            # add the publication to the list\n",
    "            publication_list.append(publication)\n",
    "    \n",
    "            author_names = row['author_names']\n",
    "            \n",
    "            if pd.isna(author_names) or (len(author_names) == 0) or (author_names).strip('[\\'] ') == '':\n",
    "                author_exists = False\n",
    "            else:\n",
    "                author_exists = True\n",
    "                author_names_list = get_author_names_list(author_names)\n",
    "                for author_name in author_names_list:\n",
    "                    last_name, first_name, middle_name1, middle_name2, middle_name3 = extract_names(author_name)\n",
    "                    if last_name:\n",
    "                        # Create an Author object\n",
    "                        author = Author(last_name, first_name, middle_name1, middle_name2, middle_name3)\n",
    "                        # Add the publication to the Author's list of publications\n",
    "                        author_row_list.append(author)\n",
    "    \n",
    "            # Create contact author\n",
    "            contact_name = row[\"contact_author_name\"]\n",
    "            \n",
    "            if pd.isna(contact_name) or (len(contact_name) == 0) or (contact_name.strip() == ''):\n",
    "                contact_exists = False\n",
    "            else: #Contact exists = no contact name\n",
    "                contact_exists = True\n",
    "                contact_last, contact_first, contact_middle, m2, m3 = extract_names(contact_name)\n",
    "                if contact_last:\n",
    "                    contact_author = Author(contact_last, contact_first, contact_middle, m2, m3, emails=[row[\"contact_email\"]]) \n",
    "                \n",
    "            \n",
    "            # If there is no value in author names and contact name, then add to no_authors count\n",
    "            if not author_exists and not contact_exists:\n",
    "                num_no_authors = num_no_authors + 1\n",
    "            elif not author_exists: #No author exists\n",
    "                existing_author = add_author_in_list(author_list, contact_author)\n",
    "                publication.authors.append(existing_author)\n",
    "                existing_author.publications.append(publication)\n",
    "            elif not contact_exists: #No contact exists\n",
    "                for author in author_row_list:\n",
    "                    # Add the Author to the list of Authors\n",
    "                    existing_author = add_author_in_list(author_list, author)\n",
    "                    publication.authors.append(existing_author)\n",
    "                    existing_author.publications.append(publication)\n",
    "            elif author_exists and contact_exists: #Both author and contact exist\n",
    "                 # If that author is also the contact author, add an email\n",
    "                no_match = True\n",
    "                for author in author_row_list:\n",
    "                    if (author.same_name(contact_author)):\n",
    "                        author.add_contact_author_info(contact_author)\n",
    "                        no_match = False\n",
    "\n",
    "                    existing_author = add_author_in_list(author_list, author)\n",
    "                    publication.authors.append(existing_author)\n",
    "                    existing_author.publications.append(publication)\n",
    "                    \n",
    "                if no_match:\n",
    "                    existing_author = add_author_in_list(author_list, contact_author)\n",
    "                    publication.authors.append(existing_author)\n",
    "                    existing_author.publications.append(publication)\n",
    "        else:\n",
    "            # If there is no title or contact_email, skip this entry (do not add to lists)\n",
    "            num_no_publication = num_no_publication + 1\n",
    "    return (author_list, publication_list)"
   ]
  },
  {
   "cell_type": "code",
   "execution_count": null,
   "id": "95242032-6477-4ca4-858d-f99de2b01f38",
   "metadata": {},
   "outputs": [],
   "source": [
    "%%time\n",
    "author_list, publication_list = create_objects('Catalogdatabase-till2018b.xlsx')\n",
    "author_list"
   ]
  },
  {
   "cell_type": "code",
   "execution_count": null,
   "id": "672fcb2e-1260-488b-9a37-5d991b956747",
   "metadata": {},
   "outputs": [],
   "source": []
  },
  {
   "cell_type": "code",
   "execution_count": null,
   "id": "d8b52cb0-035d-4021-a69b-072fd72b9690",
   "metadata": {},
   "outputs": [],
   "source": [
    "from nbdev.export import nb_export\n",
    "nb_export('create_objects.ipynb', 'preprocessing')"
   ]
  },
  {
   "cell_type": "code",
   "execution_count": null,
   "id": "4bdae400-2d38-4a05-bee4-fed4ba47882f",
   "metadata": {},
   "outputs": [],
   "source": []
  }
 ],
 "metadata": {
  "kernelspec": {
   "display_name": "Python 3 (ipykernel)",
   "language": "python",
   "name": "python3"
  },
  "language_info": {
   "codemirror_mode": {
    "name": "ipython",
    "version": 3
   },
   "file_extension": ".py",
   "mimetype": "text/x-python",
   "name": "python",
   "nbconvert_exporter": "python",
   "pygments_lexer": "ipython3",
   "version": "3.8.17"
  }
 },
 "nbformat": 4,
 "nbformat_minor": 5
}
