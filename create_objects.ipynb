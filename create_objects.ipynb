{
 "cells": [
  {
   "cell_type": "markdown",
   "id": "763078f1-5445-41d2-98a6-ca59fd525225",
   "metadata": {},
   "source": [
    "# Create all Author and Publication Objects\n",
    "\n",
    "In this module, we will define a Publication object which is associated with each row of the Excel sheet. Each publication is also associated with several authors. We create an Author object for each author, including the contact author, which has an associated email. If we encounter an author with the same name or initials as an author we've already created, we assume they are the same person and combine their data. Analysis in another notebook will show that this oversimplified approach may be \"good enough\" for our purposes. Finally, we pickle all of these objects so they can be used by another repository for network analysis."
   ]
  },
  {
   "cell_type": "code",
   "execution_count": 4,
   "id": "9f100d66-a8f0-4e53-8b62-8d277ddd04e6",
   "metadata": {},
   "outputs": [],
   "source": [
    "#| default_exp objects"
   ]
  },
  {
   "cell_type": "code",
   "execution_count": 5,
   "id": "30172110-7121-41d1-9cea-59f03df9dc74",
   "metadata": {},
   "outputs": [],
   "source": [
    "#| export\n",
    "from preprocessing.process_names import load_data, get_author_names_list, extract_names\n",
    "from preprocessing.author import Author\n",
    "import pandas as pd"
   ]
  },
  {
   "cell_type": "markdown",
   "id": "4a772709-2c2c-475e-8f2b-5348adb784ab",
   "metadata": {},
   "source": [
    "## Load Excel Data\n",
    "\n",
    "The first step is to load our excel data. This database has 7501 publications associated with it and around 25,000 (undisambiguated) authors. It takes several minutes to process the whole list. If you want to run an example on the first five entries, use the `small` variable below.\n"
   ]
  },
  {
   "cell_type": "code",
   "execution_count": 6,
   "id": "d4b08653-60eb-4eec-a8ea-b4cd988cf6c4",
   "metadata": {},
   "outputs": [
    {
     "data": {
      "text/html": [
       "<div>\n",
       "<style scoped>\n",
       "    .dataframe tbody tr th:only-of-type {\n",
       "        vertical-align: middle;\n",
       "    }\n",
       "\n",
       "    .dataframe tbody tr th {\n",
       "        vertical-align: top;\n",
       "    }\n",
       "\n",
       "    .dataframe thead th {\n",
       "        text-align: right;\n",
       "    }\n",
       "</style>\n",
       "<table border=\"1\" class=\"dataframe\">\n",
       "  <thead>\n",
       "    <tr style=\"text-align: right;\">\n",
       "      <th></th>\n",
       "      <th>id</th>\n",
       "      <th>title</th>\n",
       "      <th>contact_email</th>\n",
       "      <th>contact_author_name</th>\n",
       "      <th>doi</th>\n",
       "      <th>author_names</th>\n",
       "    </tr>\n",
       "  </thead>\n",
       "  <tbody>\n",
       "    <tr>\n",
       "      <th>0</th>\n",
       "      <td>1.0</td>\n",
       "      <td>A river system modelling platform for Murray-D...</td>\n",
       "      <td>ang.yang@csiro.au</td>\n",
       "      <td>Ang Yang</td>\n",
       "      <td>10.2166/hydro.2012.153</td>\n",
       "      <td>['Geoff Podger', 'Robert Power', 'Shane Seaton...</td>\n",
       "    </tr>\n",
       "    <tr>\n",
       "      <th>1</th>\n",
       "      <td>2.0</td>\n",
       "      <td>Impact of Regulation and Network Topology on E...</td>\n",
       "      <td>lei@umd.edu</td>\n",
       "      <td>Lei Zhang</td>\n",
       "      <td>10.3141/2297-21</td>\n",
       "      <td>['Dilya Yusufzyanova', 'Lei Zhang']</td>\n",
       "    </tr>\n",
       "    <tr>\n",
       "      <th>2</th>\n",
       "      <td>3.0</td>\n",
       "      <td>Simulating Rural Environmentally and Socio-Eco...</td>\n",
       "      <td>msqalli@yahoo.com</td>\n",
       "      <td>Mehdi Saqalli</td>\n",
       "      <td>NaN</td>\n",
       "      <td>['Charles L. Bielders', 'Pierre Defourny', 'Br...</td>\n",
       "    </tr>\n",
       "    <tr>\n",
       "      <th>3</th>\n",
       "      <td>4.0</td>\n",
       "      <td>A preliminary test of Hunt's General Theory of...</td>\n",
       "      <td>tay@udayton.edu</td>\n",
       "      <td>N.S.P Tay</td>\n",
       "      <td>10.1016/j.jbusres.2004.04.005</td>\n",
       "      <td>['RF Lusch', 'NSP Tay']</td>\n",
       "    </tr>\n",
       "    <tr>\n",
       "      <th>4</th>\n",
       "      <td>5.0</td>\n",
       "      <td>Human birthweight evolution across contrasting...</td>\n",
       "      <td>fthomas@mpl.ird.fr</td>\n",
       "      <td>FrÃ©dÃ©ric Thomas</td>\n",
       "      <td>10.1111/j.1420-9101.2004.00705.x</td>\n",
       "      <td>['SP Brown', 'EV Budilova', 'JF Guegan', 'F Re...</td>\n",
       "    </tr>\n",
       "  </tbody>\n",
       "</table>\n",
       "</div>"
      ],
      "text/plain": [
       "    id                                              title       contact_email  \\\n",
       "0  1.0  A river system modelling platform for Murray-D...   ang.yang@csiro.au   \n",
       "1  2.0  Impact of Regulation and Network Topology on E...         lei@umd.edu   \n",
       "2  3.0  Simulating Rural Environmentally and Socio-Eco...   msqalli@yahoo.com   \n",
       "3  4.0  A preliminary test of Hunt's General Theory of...     tay@udayton.edu   \n",
       "4  5.0  Human birthweight evolution across contrasting...  fthomas@mpl.ird.fr   \n",
       "\n",
       "  contact_author_name                               doi  \\\n",
       "0            Ang Yang            10.2166/hydro.2012.153   \n",
       "1           Lei Zhang                   10.3141/2297-21   \n",
       "2       Mehdi Saqalli                               NaN   \n",
       "3           N.S.P Tay     10.1016/j.jbusres.2004.04.005   \n",
       "4   FrÃ©dÃ©ric Thomas  10.1111/j.1420-9101.2004.00705.x   \n",
       "\n",
       "                                        author_names  \n",
       "0  ['Geoff Podger', 'Robert Power', 'Shane Seaton...  \n",
       "1                ['Dilya Yusufzyanova', 'Lei Zhang']  \n",
       "2  ['Charles L. Bielders', 'Pierre Defourny', 'Br...  \n",
       "3                            ['RF Lusch', 'NSP Tay']  \n",
       "4  ['SP Brown', 'EV Budilova', 'JF Guegan', 'F Re...  "
      ]
     },
     "execution_count": 6,
     "metadata": {},
     "output_type": "execute_result"
    }
   ],
   "source": [
    "#| export\n",
    "df = load_data(small=False) # small=True if you only want the first 5 entries\n",
    "df.head()"
   ]
  },
  {
   "cell_type": "markdown",
   "id": "cbc466c7-9bc3-4864-9559-f9f444ba230a",
   "metadata": {},
   "source": [
    "In a previous module, we made the Author class, but we also want to have a Publication object that we can associate with multiple authors. Our end goal is to make a graph with multiple representations, so we will make a list of authors that contain associated publications and a list of publications that point to associated authors. "
   ]
  },
  {
   "cell_type": "code",
   "execution_count": 7,
   "id": "bf3b9d44-5ed6-4e20-8bd6-a050b26fd2f0",
   "metadata": {},
   "outputs": [],
   "source": [
    "#| export\n",
    "class Publication:\n",
    "    def __init__(self, id, title, doi):\n",
    "        self.id = id\n",
    "        self.title = title\n",
    "        self.doi = doi"
   ]
  },
  {
   "cell_type": "markdown",
   "id": "6bb9063e-0f92-4bfe-ad5a-72ec8be8aaf8",
   "metadata": {},
   "source": [
    "## Creating Publications and Authors\n",
    "\n",
    "In the main loop, we want to go through the all the rows in the dataframe and create Publication objects using the `title` and `DOI` columns and create Author objects for each author in the `author_names` column. This will require us to loop through the rows in the dataframe and\n",
    "1. create a publication object\n",
    "2. parse and split the `author_names` string into a list of author names\n",
    "3. add the author to the list\n",
    "\n",
    "Adding the author to the list is complicated by the fact that the Author could already be in the list, in which case we only need to *update* the author already in the list instead of appending a new one. We have extracted this part into its own function below."
   ]
  },
  {
   "cell_type": "code",
   "execution_count": 8,
   "id": "cf0be135-b4e5-4938-8797-8cfc1aa1bed6",
   "metadata": {},
   "outputs": [],
   "source": [
    "#| export\n",
    "# if author with same name is in list, combine their info\n",
    "# else if author is not in list, append it to the list\n",
    "\n",
    "def add_author_in_list(author_list, new_author):\n",
    "    \n",
    "    for existing_author in author_list:\n",
    "        if new_author == existing_author:\n",
    "            pass\n",
    "            # combine info from each\n",
    "            existing_author.merge_names(new_author)\n",
    "            # combine emails\n",
    "            existing_author.add_contact_author_info(new_author)\n",
    "            # publications\n",
    "            for publication in new_author.publications:\n",
    "                existing_author.publications.append(publication)\n",
    "            return\n",
    "    # add new_author to list\n",
    "    author_list.append(new_author)"
   ]
  },
  {
   "cell_type": "markdown",
   "id": "4cd3a7f0-90f8-4b31-a099-f76658d8eb7d",
   "metadata": {},
   "source": [
    "We can check that this function works on its own. We will create two authors, Jane and Mary."
   ]
  },
  {
   "cell_type": "code",
   "execution_count": null,
   "id": "a9f96bc6-22fa-457a-a33a-91d164a00774",
   "metadata": {},
   "outputs": [],
   "source": [
    "mary = Author('Lou', 'Mary')\n",
    "jane = Author('Doe', 'Jane')\n",
    "toy_list = [jane, mary]\n",
    "toy_list"
   ]
  },
  {
   "cell_type": "markdown",
   "id": "88c31500-5ada-4269-9380-b375d253f8f5",
   "metadata": {},
   "source": [
    "Then we will add another Author object who has the same name as Mary. We expect that when we try to add `mary2` to the `toy_list` that the list will not get longer because the two Mary objects will get combined. This is probably made most obvious by the fact that the name will get updated to combine information from both representations of the name to lose the least amount of information possible."
   ]
  },
  {
   "cell_type": "code",
   "execution_count": null,
   "id": "2250dff9-50eb-4383-a511-c1c62b17f314",
   "metadata": {},
   "outputs": [],
   "source": [
    "mary2 = Author('Lou', 'M' ,'R', emails=['ml@asu.edu'])\n",
    "\n",
    "assert mary.full_name() == 'Mary Lou'\n",
    "assert mary2.full_name() == 'M R Lou'"
   ]
  },
  {
   "cell_type": "code",
   "execution_count": null,
   "id": "7de1d35b-9734-4c23-9333-f1904427edaf",
   "metadata": {},
   "outputs": [],
   "source": [
    "add_author_in_list(toy_list, mary2)\n",
    "\n",
    "assert mary.full_name() == 'Mary R Lou' # we can see both versions of mary were combined"
   ]
  },
  {
   "cell_type": "code",
   "execution_count": null,
   "id": "16d10fa3-98d0-4933-8cab-4ebbc79b53d0",
   "metadata": {},
   "outputs": [],
   "source": [
    "mary.emails # and that mary is now associated with mary2's email"
   ]
  },
  {
   "cell_type": "markdown",
   "id": "43382ed0-47af-4507-9e42-d26b2cdb18e5",
   "metadata": {},
   "source": [
    "Okay, time to put this all to use. Next, let's initialize the lists that all the publications and authors get loaded into."
   ]
  },
  {
   "cell_type": "code",
   "execution_count": 9,
   "id": "68335f5a-bd69-4eec-a40f-cf620f94f9fe",
   "metadata": {},
   "outputs": [],
   "source": [
    "#| export\n",
    "publication_list = []\n",
    "author_list = []"
   ]
  },
  {
   "cell_type": "markdown",
   "id": "264ded2b-6adb-4b44-8f8e-b7fd336b697b",
   "metadata": {},
   "source": [
    "We're also going to count some things to make sure we create the number of publications and authors we expect to. And so we can learn a little more about the data."
   ]
  },
  {
   "cell_type": "code",
   "execution_count": 10,
   "id": "e50ad51b-0df8-4e8a-ac93-0b1adf4b71f0",
   "metadata": {},
   "outputs": [],
   "source": [
    "#| export \n",
    "num_no_authors = 0\n",
    "num_no_publication = 0"
   ]
  },
  {
   "cell_type": "markdown",
   "id": "bcd4eb38-7705-4907-a9e0-9c659a59814d",
   "metadata": {},
   "source": [
    "Let's get into the weeds now. If you aren't using the \"small\" dataframe, this will take a few minutes since we are searching for matches with brute force. "
   ]
  },
  {
   "cell_type": "code",
   "execution_count": 11,
   "id": "9ec821c8-87ca-4b4e-911d-49a520b3c890",
   "metadata": {},
   "outputs": [],
   "source": [
    "#| export \n",
    "for index, row in df.iterrows():\n",
    "    \n",
    "    # If title or contact_email exists\n",
    "    if (row['title'] or row['doi']):\n",
    "        author_row_list = [] #List of authors in each publication; author Object\n",
    "        # create a new publication object\n",
    "        publication = Publication(id=row['id'], title=row['title'], doi=row['doi'])\n",
    "        # add the publication to the list\n",
    "        publication_list.append(publication)\n",
    "\n",
    "     \n",
    "        author_names = row['author_names']\n",
    "        \n",
    "        if pd.isna(author_names) or (len(author_names) == 0) or (author_names).strip('[\\'] ') == '':\n",
    "            author_exists = False\n",
    "        else:\n",
    "            author_exists = True\n",
    "            author_names_list = get_author_names_list(author_names)\n",
    "            for author_name in author_names_list:\n",
    "                last_name, first_name, middle_name1, middle_name2, middle_name3 = extract_names(author_name)\n",
    "                # Create an Author object\n",
    "                author = Author(last_name, first_name, middle_name1)\n",
    "                # Add the publication to the Author's list of publications\n",
    "                author.publications.append(publication) ##TO DO: Check if contact_author ends up having a pub\n",
    "                author_row_list.append(author)\n",
    "\n",
    "        # Create contact author\n",
    "        contact_name = row[\"contact_author_name\"]\n",
    "        \n",
    "        if pd.isna(contact_name) or (len(contact_name) == 0) or (contact_name.strip() == ''):\n",
    "            contact_exists = False\n",
    "        else: #Contact exists = no contact name\n",
    "            contact_exists = True\n",
    "            contact_last, contact_first, contact_middle, _, _ = extract_names(contact_name)\n",
    "            contact_author = Author(contact_last, contact_first, contact_middle, emails=[row[\"contact_email\"]]) \n",
    "            \n",
    "        \n",
    "        # If there is no value in author names and contact name, then add to no_authors count\n",
    "        if not author_exists and not contact_exists:\n",
    "            num_no_authors = num_no_authors + 1\n",
    "        elif not author_exists: #No author exists\n",
    "            add_author_in_list(author_list, contact_author)            \n",
    "        elif not contact_exists: #No contact exists\n",
    "            for author in author_row_list:\n",
    "                # Add the Author to the list of Authors\n",
    "                add_author_in_list(author_list, author)\n",
    "        elif author_exists and contact_exists: #Both author and contact exist\n",
    "             # If that author is also the contact author, add an email\n",
    "            for author in author_row_list:\n",
    "                if (author == contact_author):\n",
    "                   # print(\"True\", author)\n",
    "                    author.add_contact_author_info(contact_author)\n",
    "                add_author_in_list(author_list, author)\n",
    "\n",
    "    else:\n",
    "        # If there is no title or contact_email, skip this entry (do not add to lists)\n",
    "        num_no_publication = num_no_publication + 1"
   ]
  },
  {
   "cell_type": "code",
   "execution_count": 12,
   "id": "4fb0d5fe-e786-4da4-a58a-9c5294553987",
   "metadata": {},
   "outputs": [
    {
     "ename": "NameError",
     "evalue": "name 'small' is not defined",
     "output_type": "error",
     "traceback": [
      "\u001b[0;31m---------------------------------------------------------------------------\u001b[0m",
      "\u001b[0;31mNameError\u001b[0m                                 Traceback (most recent call last)",
      "Cell \u001b[0;32mIn[12], line 1\u001b[0m\n\u001b[0;32m----> 1\u001b[0m \u001b[38;5;28;01mif\u001b[39;00m \u001b[43msmall\u001b[49m: \n\u001b[1;32m      2\u001b[0m     display(author_list)\n\u001b[1;32m      3\u001b[0m \u001b[38;5;28;01melse\u001b[39;00m:\n",
      "\u001b[0;31mNameError\u001b[0m: name 'small' is not defined"
     ]
    }
   ],
   "source": [
    "if small: \n",
    "    display(author_list)\n",
    "else:\n",
    "    display(len(author_list))"
   ]
  },
  {
   "cell_type": "code",
   "execution_count": null,
   "id": "d8b52cb0-035d-4021-a69b-072fd72b9690",
   "metadata": {},
   "outputs": [],
   "source": [
    "from nbdev.export import nb_export\n",
    "nb_export('create_objects.ipynb', 'preprocessing')"
   ]
  },
  {
   "cell_type": "code",
   "execution_count": null,
   "id": "4bdae400-2d38-4a05-bee4-fed4ba47882f",
   "metadata": {},
   "outputs": [],
   "source": []
  }
 ],
 "metadata": {
  "kernelspec": {
   "display_name": "Python 3 (ipykernel)",
   "language": "python",
   "name": "python3"
  },
  "language_info": {
   "codemirror_mode": {
    "name": "ipython",
    "version": 3
   },
   "file_extension": ".py",
   "mimetype": "text/x-python",
   "name": "python",
   "nbconvert_exporter": "python",
   "pygments_lexer": "ipython3",
   "version": "3.8.17"
  }
 },
 "nbformat": 4,
 "nbformat_minor": 5
}
